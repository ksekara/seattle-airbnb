{
 "cells": [
  {
   "cell_type": "markdown",
   "metadata": {},
   "source": [
    "# Exploring the Seattle AirBnb Dataset"
   ]
  },
  {
   "cell_type": "markdown",
   "metadata": {},
   "source": [
    "If viewing only from Github, then go to following nbviewer link in order to view plotly visualization outputs\n",
    "\n",
    "https://nbviewer.jupyter.org/github/taylorplumer/seattle-airbnb/blob/master/seattle_airbnb_listings.ipynb"
   ]
  },
  {
   "cell_type": "markdown",
   "metadata": {},
   "source": [
    "## 1. Business Understanding\n",
    "This notebook follows the [CRISP-DM](https://paginas.fe.up.pt/~ec/files_0405/slides/02%20CRISP.pdf) process to analyze the [Seattle AirBnb Open Data on Kaggle](https://www.kaggle.com/airbnb/seattle/kernels).\n",
    "\n",
    "To start, let’s look at the context of the Dataset. As per the Description in the Data section of Kaggle:\n",
    "\n",
    ">**Context**\n",
    "\n",
    ">Since 2008, guests and hosts have used Airbnb to travel in a more unique, personalized way. As part of the Airbnb Inside initiative, this dataset describes the listing activity of homestays in Seattle, WA.\n",
    "\n",
    "These are the 3 guiding questions for our analysis:\n",
    "1. What are the distribution of listing prices by neighborhoods?\n",
    "2. How varied are the expensive neighborhoods in terms of property type?\n",
    "3. How well can we predict listing price?\n"
   ]
  },
  {
   "cell_type": "markdown",
   "metadata": {},
   "source": [
    "## 2. Data Understanding\n",
    "\n",
    "As per the Description in the Data section of Kaggle:\n",
    "\n",
    ">**Content**\n",
    "\n",
    ">The following Airbnb activity is included in this Seattle dataset: * Listings, including full descriptions and average review score * Reviews, including unique id for each reviewer and detailed comments * Calendar, including listing id and the price and availability for that day\n",
    "\n",
    "For the purposes of this analysis, the focus will be limited to the Listings data exclusively since that is all that is needed to address the three guiding questions.\n",
    "\n"
   ]
  },
  {
   "cell_type": "markdown",
   "metadata": {},
   "source": [
    "### 2.1 Initial Data Assessment"
   ]
  },
  {
   "cell_type": "code",
   "execution_count": 121,
   "metadata": {},
   "outputs": [],
   "source": [
    "# libraries needed\n",
    "# refer to README in Github repository for additional dependencies\n",
    "import matplotlib.pyplot as plt\n",
    "import pandas as pd\n",
    "import numpy as np\n",
    "%matplotlib inline\n",
    "import seaborn as sns\n",
    "import plotly.offline as pyo\n",
    "import plotly.graph_objs as go\n",
    "\n",
    "from sklearn.linear_model import LinearRegression\n",
    "from sklearn.model_selection import train_test_split\n",
    "from sklearn.metrics import r2_score, mean_squared_error\n"
   ]
  },
  {
   "cell_type": "code",
   "execution_count": 122,
   "metadata": {},
   "outputs": [],
   "source": [
    "pd.set_option('display.max_columns', 100)\n",
    "pd.set_option('display.max_rows', 100)"
   ]
  },
  {
   "cell_type": "code",
   "execution_count": 123,
   "metadata": {},
   "outputs": [
    {
     "data": {
      "text/html": [
       "<div>\n",
       "<style scoped>\n",
       "    .dataframe tbody tr th:only-of-type {\n",
       "        vertical-align: middle;\n",
       "    }\n",
       "\n",
       "    .dataframe tbody tr th {\n",
       "        vertical-align: top;\n",
       "    }\n",
       "\n",
       "    .dataframe thead th {\n",
       "        text-align: right;\n",
       "    }\n",
       "</style>\n",
       "<table border=\"1\" class=\"dataframe\">\n",
       "  <thead>\n",
       "    <tr style=\"text-align: right;\">\n",
       "      <th></th>\n",
       "      <th>id</th>\n",
       "      <th>listing_url</th>\n",
       "      <th>scrape_id</th>\n",
       "      <th>last_scraped</th>\n",
       "      <th>name</th>\n",
       "      <th>summary</th>\n",
       "      <th>space</th>\n",
       "      <th>description</th>\n",
       "      <th>experiences_offered</th>\n",
       "      <th>neighborhood_overview</th>\n",
       "      <th>notes</th>\n",
       "      <th>transit</th>\n",
       "      <th>thumbnail_url</th>\n",
       "      <th>medium_url</th>\n",
       "      <th>picture_url</th>\n",
       "      <th>xl_picture_url</th>\n",
       "      <th>host_id</th>\n",
       "      <th>host_url</th>\n",
       "      <th>host_name</th>\n",
       "      <th>host_since</th>\n",
       "      <th>host_location</th>\n",
       "      <th>host_about</th>\n",
       "      <th>host_response_time</th>\n",
       "      <th>host_response_rate</th>\n",
       "      <th>host_acceptance_rate</th>\n",
       "      <th>host_is_superhost</th>\n",
       "      <th>host_thumbnail_url</th>\n",
       "      <th>host_picture_url</th>\n",
       "      <th>host_neighbourhood</th>\n",
       "      <th>host_listings_count</th>\n",
       "      <th>host_total_listings_count</th>\n",
       "      <th>host_verifications</th>\n",
       "      <th>host_has_profile_pic</th>\n",
       "      <th>host_identity_verified</th>\n",
       "      <th>street</th>\n",
       "      <th>neighbourhood</th>\n",
       "      <th>neighbourhood_cleansed</th>\n",
       "      <th>neighbourhood_group_cleansed</th>\n",
       "      <th>city</th>\n",
       "      <th>state</th>\n",
       "      <th>zipcode</th>\n",
       "      <th>market</th>\n",
       "      <th>smart_location</th>\n",
       "      <th>country_code</th>\n",
       "      <th>country</th>\n",
       "      <th>latitude</th>\n",
       "      <th>longitude</th>\n",
       "      <th>is_location_exact</th>\n",
       "      <th>property_type</th>\n",
       "      <th>room_type</th>\n",
       "      <th>accommodates</th>\n",
       "      <th>bathrooms</th>\n",
       "      <th>bedrooms</th>\n",
       "      <th>beds</th>\n",
       "      <th>bed_type</th>\n",
       "      <th>amenities</th>\n",
       "      <th>square_feet</th>\n",
       "      <th>price</th>\n",
       "      <th>weekly_price</th>\n",
       "      <th>monthly_price</th>\n",
       "      <th>security_deposit</th>\n",
       "      <th>cleaning_fee</th>\n",
       "      <th>guests_included</th>\n",
       "      <th>extra_people</th>\n",
       "      <th>minimum_nights</th>\n",
       "      <th>maximum_nights</th>\n",
       "      <th>calendar_updated</th>\n",
       "      <th>has_availability</th>\n",
       "      <th>availability_30</th>\n",
       "      <th>availability_60</th>\n",
       "      <th>availability_90</th>\n",
       "      <th>availability_365</th>\n",
       "      <th>calendar_last_scraped</th>\n",
       "      <th>number_of_reviews</th>\n",
       "      <th>first_review</th>\n",
       "      <th>last_review</th>\n",
       "      <th>review_scores_rating</th>\n",
       "      <th>review_scores_accuracy</th>\n",
       "      <th>review_scores_cleanliness</th>\n",
       "      <th>review_scores_checkin</th>\n",
       "      <th>review_scores_communication</th>\n",
       "      <th>review_scores_location</th>\n",
       "      <th>review_scores_value</th>\n",
       "      <th>requires_license</th>\n",
       "      <th>license</th>\n",
       "      <th>jurisdiction_names</th>\n",
       "      <th>instant_bookable</th>\n",
       "      <th>cancellation_policy</th>\n",
       "      <th>require_guest_profile_picture</th>\n",
       "      <th>require_guest_phone_verification</th>\n",
       "      <th>calculated_host_listings_count</th>\n",
       "      <th>reviews_per_month</th>\n",
       "    </tr>\n",
       "  </thead>\n",
       "  <tbody>\n",
       "    <tr>\n",
       "      <th>0</th>\n",
       "      <td>241032</td>\n",
       "      <td>https://www.airbnb.com/rooms/241032</td>\n",
       "      <td>20160104002432</td>\n",
       "      <td>2016-01-04</td>\n",
       "      <td>Stylish Queen Anne Apartment</td>\n",
       "      <td>NaN</td>\n",
       "      <td>Make your self at home in this charming one-be...</td>\n",
       "      <td>Make your self at home in this charming one-be...</td>\n",
       "      <td>none</td>\n",
       "      <td>NaN</td>\n",
       "      <td>NaN</td>\n",
       "      <td>NaN</td>\n",
       "      <td>NaN</td>\n",
       "      <td>NaN</td>\n",
       "      <td>https://a1.muscache.com/ac/pictures/67560560/c...</td>\n",
       "      <td>NaN</td>\n",
       "      <td>956883</td>\n",
       "      <td>https://www.airbnb.com/users/show/956883</td>\n",
       "      <td>Maija</td>\n",
       "      <td>2011-08-11</td>\n",
       "      <td>Seattle, Washington, United States</td>\n",
       "      <td>I am an artist, interior designer, and run a s...</td>\n",
       "      <td>within a few hours</td>\n",
       "      <td>96%</td>\n",
       "      <td>100%</td>\n",
       "      <td>f</td>\n",
       "      <td>https://a0.muscache.com/ac/users/956883/profil...</td>\n",
       "      <td>https://a0.muscache.com/ac/users/956883/profil...</td>\n",
       "      <td>Queen Anne</td>\n",
       "      <td>3.0</td>\n",
       "      <td>3.0</td>\n",
       "      <td>['email', 'phone', 'reviews', 'kba']</td>\n",
       "      <td>t</td>\n",
       "      <td>t</td>\n",
       "      <td>Gilman Dr W, Seattle, WA 98119, United States</td>\n",
       "      <td>Queen Anne</td>\n",
       "      <td>West Queen Anne</td>\n",
       "      <td>Queen Anne</td>\n",
       "      <td>Seattle</td>\n",
       "      <td>WA</td>\n",
       "      <td>98119</td>\n",
       "      <td>Seattle</td>\n",
       "      <td>Seattle, WA</td>\n",
       "      <td>US</td>\n",
       "      <td>United States</td>\n",
       "      <td>47.636289</td>\n",
       "      <td>-122.371025</td>\n",
       "      <td>t</td>\n",
       "      <td>Apartment</td>\n",
       "      <td>Entire home/apt</td>\n",
       "      <td>4</td>\n",
       "      <td>1.0</td>\n",
       "      <td>1.0</td>\n",
       "      <td>1.0</td>\n",
       "      <td>Real Bed</td>\n",
       "      <td>{TV,\"Cable TV\",Internet,\"Wireless Internet\",\"A...</td>\n",
       "      <td>NaN</td>\n",
       "      <td>$85.00</td>\n",
       "      <td>NaN</td>\n",
       "      <td>NaN</td>\n",
       "      <td>NaN</td>\n",
       "      <td>NaN</td>\n",
       "      <td>2</td>\n",
       "      <td>$5.00</td>\n",
       "      <td>1</td>\n",
       "      <td>365</td>\n",
       "      <td>4 weeks ago</td>\n",
       "      <td>t</td>\n",
       "      <td>14</td>\n",
       "      <td>41</td>\n",
       "      <td>71</td>\n",
       "      <td>346</td>\n",
       "      <td>2016-01-04</td>\n",
       "      <td>207</td>\n",
       "      <td>2011-11-01</td>\n",
       "      <td>2016-01-02</td>\n",
       "      <td>95.0</td>\n",
       "      <td>10.0</td>\n",
       "      <td>10.0</td>\n",
       "      <td>10.0</td>\n",
       "      <td>10.0</td>\n",
       "      <td>9.0</td>\n",
       "      <td>10.0</td>\n",
       "      <td>f</td>\n",
       "      <td>NaN</td>\n",
       "      <td>WASHINGTON</td>\n",
       "      <td>f</td>\n",
       "      <td>moderate</td>\n",
       "      <td>f</td>\n",
       "      <td>f</td>\n",
       "      <td>2</td>\n",
       "      <td>4.07</td>\n",
       "    </tr>\n",
       "    <tr>\n",
       "      <th>1</th>\n",
       "      <td>953595</td>\n",
       "      <td>https://www.airbnb.com/rooms/953595</td>\n",
       "      <td>20160104002432</td>\n",
       "      <td>2016-01-04</td>\n",
       "      <td>Bright &amp; Airy Queen Anne Apartment</td>\n",
       "      <td>Chemically sensitive? We've removed the irrita...</td>\n",
       "      <td>Beautiful, hypoallergenic apartment in an extr...</td>\n",
       "      <td>Chemically sensitive? We've removed the irrita...</td>\n",
       "      <td>none</td>\n",
       "      <td>Queen Anne is a wonderful, truly functional vi...</td>\n",
       "      <td>What's up with the free pillows?  Our home was...</td>\n",
       "      <td>Convenient bus stops are just down the block, ...</td>\n",
       "      <td>https://a0.muscache.com/ac/pictures/14409893/f...</td>\n",
       "      <td>https://a0.muscache.com/im/pictures/14409893/f...</td>\n",
       "      <td>https://a0.muscache.com/ac/pictures/14409893/f...</td>\n",
       "      <td>https://a0.muscache.com/ac/pictures/14409893/f...</td>\n",
       "      <td>5177328</td>\n",
       "      <td>https://www.airbnb.com/users/show/5177328</td>\n",
       "      <td>Andrea</td>\n",
       "      <td>2013-02-21</td>\n",
       "      <td>Seattle, Washington, United States</td>\n",
       "      <td>Living east coast/left coast/overseas.  Time i...</td>\n",
       "      <td>within an hour</td>\n",
       "      <td>98%</td>\n",
       "      <td>100%</td>\n",
       "      <td>t</td>\n",
       "      <td>https://a0.muscache.com/ac/users/5177328/profi...</td>\n",
       "      <td>https://a0.muscache.com/ac/users/5177328/profi...</td>\n",
       "      <td>Queen Anne</td>\n",
       "      <td>6.0</td>\n",
       "      <td>6.0</td>\n",
       "      <td>['email', 'phone', 'facebook', 'linkedin', 're...</td>\n",
       "      <td>t</td>\n",
       "      <td>t</td>\n",
       "      <td>7th Avenue West, Seattle, WA 98119, United States</td>\n",
       "      <td>Queen Anne</td>\n",
       "      <td>West Queen Anne</td>\n",
       "      <td>Queen Anne</td>\n",
       "      <td>Seattle</td>\n",
       "      <td>WA</td>\n",
       "      <td>98119</td>\n",
       "      <td>Seattle</td>\n",
       "      <td>Seattle, WA</td>\n",
       "      <td>US</td>\n",
       "      <td>United States</td>\n",
       "      <td>47.639123</td>\n",
       "      <td>-122.365666</td>\n",
       "      <td>t</td>\n",
       "      <td>Apartment</td>\n",
       "      <td>Entire home/apt</td>\n",
       "      <td>4</td>\n",
       "      <td>1.0</td>\n",
       "      <td>1.0</td>\n",
       "      <td>1.0</td>\n",
       "      <td>Real Bed</td>\n",
       "      <td>{TV,Internet,\"Wireless Internet\",Kitchen,\"Free...</td>\n",
       "      <td>NaN</td>\n",
       "      <td>$150.00</td>\n",
       "      <td>$1,000.00</td>\n",
       "      <td>$3,000.00</td>\n",
       "      <td>$100.00</td>\n",
       "      <td>$40.00</td>\n",
       "      <td>1</td>\n",
       "      <td>$0.00</td>\n",
       "      <td>2</td>\n",
       "      <td>90</td>\n",
       "      <td>today</td>\n",
       "      <td>t</td>\n",
       "      <td>13</td>\n",
       "      <td>13</td>\n",
       "      <td>16</td>\n",
       "      <td>291</td>\n",
       "      <td>2016-01-04</td>\n",
       "      <td>43</td>\n",
       "      <td>2013-08-19</td>\n",
       "      <td>2015-12-29</td>\n",
       "      <td>96.0</td>\n",
       "      <td>10.0</td>\n",
       "      <td>10.0</td>\n",
       "      <td>10.0</td>\n",
       "      <td>10.0</td>\n",
       "      <td>10.0</td>\n",
       "      <td>10.0</td>\n",
       "      <td>f</td>\n",
       "      <td>NaN</td>\n",
       "      <td>WASHINGTON</td>\n",
       "      <td>f</td>\n",
       "      <td>strict</td>\n",
       "      <td>t</td>\n",
       "      <td>t</td>\n",
       "      <td>6</td>\n",
       "      <td>1.48</td>\n",
       "    </tr>\n",
       "    <tr>\n",
       "      <th>2</th>\n",
       "      <td>3308979</td>\n",
       "      <td>https://www.airbnb.com/rooms/3308979</td>\n",
       "      <td>20160104002432</td>\n",
       "      <td>2016-01-04</td>\n",
       "      <td>New Modern House-Amazing water view</td>\n",
       "      <td>New modern house built in 2013.  Spectacular s...</td>\n",
       "      <td>Our house is modern, light and fresh with a wa...</td>\n",
       "      <td>New modern house built in 2013.  Spectacular s...</td>\n",
       "      <td>none</td>\n",
       "      <td>Upper Queen Anne is a charming neighborhood fu...</td>\n",
       "      <td>Our house is located just 5 short blocks to To...</td>\n",
       "      <td>A bus stop is just 2 blocks away.   Easy bus a...</td>\n",
       "      <td>NaN</td>\n",
       "      <td>NaN</td>\n",
       "      <td>https://a2.muscache.com/ac/pictures/b4324e0f-a...</td>\n",
       "      <td>NaN</td>\n",
       "      <td>16708587</td>\n",
       "      <td>https://www.airbnb.com/users/show/16708587</td>\n",
       "      <td>Jill</td>\n",
       "      <td>2014-06-12</td>\n",
       "      <td>Seattle, Washington, United States</td>\n",
       "      <td>i love living in Seattle.  i grew up in the mi...</td>\n",
       "      <td>within a few hours</td>\n",
       "      <td>67%</td>\n",
       "      <td>100%</td>\n",
       "      <td>f</td>\n",
       "      <td>https://a1.muscache.com/ac/users/16708587/prof...</td>\n",
       "      <td>https://a1.muscache.com/ac/users/16708587/prof...</td>\n",
       "      <td>Queen Anne</td>\n",
       "      <td>2.0</td>\n",
       "      <td>2.0</td>\n",
       "      <td>['email', 'phone', 'google', 'reviews', 'jumio']</td>\n",
       "      <td>t</td>\n",
       "      <td>t</td>\n",
       "      <td>West Lee Street, Seattle, WA 98119, United States</td>\n",
       "      <td>Queen Anne</td>\n",
       "      <td>West Queen Anne</td>\n",
       "      <td>Queen Anne</td>\n",
       "      <td>Seattle</td>\n",
       "      <td>WA</td>\n",
       "      <td>98119</td>\n",
       "      <td>Seattle</td>\n",
       "      <td>Seattle, WA</td>\n",
       "      <td>US</td>\n",
       "      <td>United States</td>\n",
       "      <td>47.629724</td>\n",
       "      <td>-122.369483</td>\n",
       "      <td>t</td>\n",
       "      <td>House</td>\n",
       "      <td>Entire home/apt</td>\n",
       "      <td>11</td>\n",
       "      <td>4.5</td>\n",
       "      <td>5.0</td>\n",
       "      <td>7.0</td>\n",
       "      <td>Real Bed</td>\n",
       "      <td>{TV,\"Cable TV\",Internet,\"Wireless Internet\",\"A...</td>\n",
       "      <td>NaN</td>\n",
       "      <td>$975.00</td>\n",
       "      <td>NaN</td>\n",
       "      <td>NaN</td>\n",
       "      <td>$1,000.00</td>\n",
       "      <td>$300.00</td>\n",
       "      <td>10</td>\n",
       "      <td>$25.00</td>\n",
       "      <td>4</td>\n",
       "      <td>30</td>\n",
       "      <td>5 weeks ago</td>\n",
       "      <td>t</td>\n",
       "      <td>1</td>\n",
       "      <td>6</td>\n",
       "      <td>17</td>\n",
       "      <td>220</td>\n",
       "      <td>2016-01-04</td>\n",
       "      <td>20</td>\n",
       "      <td>2014-07-30</td>\n",
       "      <td>2015-09-03</td>\n",
       "      <td>97.0</td>\n",
       "      <td>10.0</td>\n",
       "      <td>10.0</td>\n",
       "      <td>10.0</td>\n",
       "      <td>10.0</td>\n",
       "      <td>10.0</td>\n",
       "      <td>10.0</td>\n",
       "      <td>f</td>\n",
       "      <td>NaN</td>\n",
       "      <td>WASHINGTON</td>\n",
       "      <td>f</td>\n",
       "      <td>strict</td>\n",
       "      <td>f</td>\n",
       "      <td>f</td>\n",
       "      <td>2</td>\n",
       "      <td>1.15</td>\n",
       "    </tr>\n",
       "    <tr>\n",
       "      <th>3</th>\n",
       "      <td>7421966</td>\n",
       "      <td>https://www.airbnb.com/rooms/7421966</td>\n",
       "      <td>20160104002432</td>\n",
       "      <td>2016-01-04</td>\n",
       "      <td>Queen Anne Chateau</td>\n",
       "      <td>A charming apartment that sits atop Queen Anne...</td>\n",
       "      <td>NaN</td>\n",
       "      <td>A charming apartment that sits atop Queen Anne...</td>\n",
       "      <td>none</td>\n",
       "      <td>NaN</td>\n",
       "      <td>NaN</td>\n",
       "      <td>NaN</td>\n",
       "      <td>NaN</td>\n",
       "      <td>NaN</td>\n",
       "      <td>https://a0.muscache.com/ac/pictures/94146944/6...</td>\n",
       "      <td>NaN</td>\n",
       "      <td>9851441</td>\n",
       "      <td>https://www.airbnb.com/users/show/9851441</td>\n",
       "      <td>Emily</td>\n",
       "      <td>2013-11-06</td>\n",
       "      <td>Seattle, Washington, United States</td>\n",
       "      <td>NaN</td>\n",
       "      <td>NaN</td>\n",
       "      <td>NaN</td>\n",
       "      <td>NaN</td>\n",
       "      <td>f</td>\n",
       "      <td>https://a2.muscache.com/ac/users/9851441/profi...</td>\n",
       "      <td>https://a2.muscache.com/ac/users/9851441/profi...</td>\n",
       "      <td>Queen Anne</td>\n",
       "      <td>1.0</td>\n",
       "      <td>1.0</td>\n",
       "      <td>['email', 'phone', 'facebook', 'reviews', 'jum...</td>\n",
       "      <td>t</td>\n",
       "      <td>t</td>\n",
       "      <td>8th Avenue West, Seattle, WA 98119, United States</td>\n",
       "      <td>Queen Anne</td>\n",
       "      <td>West Queen Anne</td>\n",
       "      <td>Queen Anne</td>\n",
       "      <td>Seattle</td>\n",
       "      <td>WA</td>\n",
       "      <td>98119</td>\n",
       "      <td>Seattle</td>\n",
       "      <td>Seattle, WA</td>\n",
       "      <td>US</td>\n",
       "      <td>United States</td>\n",
       "      <td>47.638473</td>\n",
       "      <td>-122.369279</td>\n",
       "      <td>t</td>\n",
       "      <td>Apartment</td>\n",
       "      <td>Entire home/apt</td>\n",
       "      <td>3</td>\n",
       "      <td>1.0</td>\n",
       "      <td>0.0</td>\n",
       "      <td>2.0</td>\n",
       "      <td>Real Bed</td>\n",
       "      <td>{Internet,\"Wireless Internet\",Kitchen,\"Indoor ...</td>\n",
       "      <td>NaN</td>\n",
       "      <td>$100.00</td>\n",
       "      <td>$650.00</td>\n",
       "      <td>$2,300.00</td>\n",
       "      <td>NaN</td>\n",
       "      <td>NaN</td>\n",
       "      <td>1</td>\n",
       "      <td>$0.00</td>\n",
       "      <td>1</td>\n",
       "      <td>1125</td>\n",
       "      <td>6 months ago</td>\n",
       "      <td>t</td>\n",
       "      <td>0</td>\n",
       "      <td>0</td>\n",
       "      <td>0</td>\n",
       "      <td>143</td>\n",
       "      <td>2016-01-04</td>\n",
       "      <td>0</td>\n",
       "      <td>NaN</td>\n",
       "      <td>NaN</td>\n",
       "      <td>NaN</td>\n",
       "      <td>NaN</td>\n",
       "      <td>NaN</td>\n",
       "      <td>NaN</td>\n",
       "      <td>NaN</td>\n",
       "      <td>NaN</td>\n",
       "      <td>NaN</td>\n",
       "      <td>f</td>\n",
       "      <td>NaN</td>\n",
       "      <td>WASHINGTON</td>\n",
       "      <td>f</td>\n",
       "      <td>flexible</td>\n",
       "      <td>f</td>\n",
       "      <td>f</td>\n",
       "      <td>1</td>\n",
       "      <td>NaN</td>\n",
       "    </tr>\n",
       "    <tr>\n",
       "      <th>4</th>\n",
       "      <td>278830</td>\n",
       "      <td>https://www.airbnb.com/rooms/278830</td>\n",
       "      <td>20160104002432</td>\n",
       "      <td>2016-01-04</td>\n",
       "      <td>Charming craftsman 3 bdm house</td>\n",
       "      <td>Cozy family craftman house in beautiful neighb...</td>\n",
       "      <td>Cozy family craftman house in beautiful neighb...</td>\n",
       "      <td>Cozy family craftman house in beautiful neighb...</td>\n",
       "      <td>none</td>\n",
       "      <td>We are in the beautiful neighborhood of Queen ...</td>\n",
       "      <td>Belltown</td>\n",
       "      <td>The nearest public transit bus (D Line) is 2 b...</td>\n",
       "      <td>NaN</td>\n",
       "      <td>NaN</td>\n",
       "      <td>https://a1.muscache.com/ac/pictures/6120468/b0...</td>\n",
       "      <td>NaN</td>\n",
       "      <td>1452570</td>\n",
       "      <td>https://www.airbnb.com/users/show/1452570</td>\n",
       "      <td>Emily</td>\n",
       "      <td>2011-11-29</td>\n",
       "      <td>Seattle, Washington, United States</td>\n",
       "      <td>Hi, I live in Seattle, Washington but I'm orig...</td>\n",
       "      <td>within an hour</td>\n",
       "      <td>100%</td>\n",
       "      <td>NaN</td>\n",
       "      <td>f</td>\n",
       "      <td>https://a0.muscache.com/ac/users/1452570/profi...</td>\n",
       "      <td>https://a0.muscache.com/ac/users/1452570/profi...</td>\n",
       "      <td>Queen Anne</td>\n",
       "      <td>2.0</td>\n",
       "      <td>2.0</td>\n",
       "      <td>['email', 'phone', 'facebook', 'reviews', 'kba']</td>\n",
       "      <td>t</td>\n",
       "      <td>t</td>\n",
       "      <td>14th Ave W, Seattle, WA 98119, United States</td>\n",
       "      <td>Queen Anne</td>\n",
       "      <td>West Queen Anne</td>\n",
       "      <td>Queen Anne</td>\n",
       "      <td>Seattle</td>\n",
       "      <td>WA</td>\n",
       "      <td>98119</td>\n",
       "      <td>Seattle</td>\n",
       "      <td>Seattle, WA</td>\n",
       "      <td>US</td>\n",
       "      <td>United States</td>\n",
       "      <td>47.632918</td>\n",
       "      <td>-122.372471</td>\n",
       "      <td>t</td>\n",
       "      <td>House</td>\n",
       "      <td>Entire home/apt</td>\n",
       "      <td>6</td>\n",
       "      <td>2.0</td>\n",
       "      <td>3.0</td>\n",
       "      <td>3.0</td>\n",
       "      <td>Real Bed</td>\n",
       "      <td>{TV,\"Cable TV\",Internet,\"Wireless Internet\",Ki...</td>\n",
       "      <td>NaN</td>\n",
       "      <td>$450.00</td>\n",
       "      <td>NaN</td>\n",
       "      <td>NaN</td>\n",
       "      <td>$700.00</td>\n",
       "      <td>$125.00</td>\n",
       "      <td>6</td>\n",
       "      <td>$15.00</td>\n",
       "      <td>1</td>\n",
       "      <td>1125</td>\n",
       "      <td>7 weeks ago</td>\n",
       "      <td>t</td>\n",
       "      <td>30</td>\n",
       "      <td>60</td>\n",
       "      <td>90</td>\n",
       "      <td>365</td>\n",
       "      <td>2016-01-04</td>\n",
       "      <td>38</td>\n",
       "      <td>2012-07-10</td>\n",
       "      <td>2015-10-24</td>\n",
       "      <td>92.0</td>\n",
       "      <td>9.0</td>\n",
       "      <td>9.0</td>\n",
       "      <td>10.0</td>\n",
       "      <td>10.0</td>\n",
       "      <td>9.0</td>\n",
       "      <td>9.0</td>\n",
       "      <td>f</td>\n",
       "      <td>NaN</td>\n",
       "      <td>WASHINGTON</td>\n",
       "      <td>f</td>\n",
       "      <td>strict</td>\n",
       "      <td>f</td>\n",
       "      <td>f</td>\n",
       "      <td>1</td>\n",
       "      <td>0.89</td>\n",
       "    </tr>\n",
       "  </tbody>\n",
       "</table>\n",
       "</div>"
      ],
      "text/plain": [
       "        id                           listing_url       scrape_id last_scraped  \\\n",
       "0   241032   https://www.airbnb.com/rooms/241032  20160104002432   2016-01-04   \n",
       "1   953595   https://www.airbnb.com/rooms/953595  20160104002432   2016-01-04   \n",
       "2  3308979  https://www.airbnb.com/rooms/3308979  20160104002432   2016-01-04   \n",
       "3  7421966  https://www.airbnb.com/rooms/7421966  20160104002432   2016-01-04   \n",
       "4   278830   https://www.airbnb.com/rooms/278830  20160104002432   2016-01-04   \n",
       "\n",
       "                                  name  \\\n",
       "0         Stylish Queen Anne Apartment   \n",
       "1   Bright & Airy Queen Anne Apartment   \n",
       "2  New Modern House-Amazing water view   \n",
       "3                   Queen Anne Chateau   \n",
       "4       Charming craftsman 3 bdm house   \n",
       "\n",
       "                                             summary  \\\n",
       "0                                                NaN   \n",
       "1  Chemically sensitive? We've removed the irrita...   \n",
       "2  New modern house built in 2013.  Spectacular s...   \n",
       "3  A charming apartment that sits atop Queen Anne...   \n",
       "4  Cozy family craftman house in beautiful neighb...   \n",
       "\n",
       "                                               space  \\\n",
       "0  Make your self at home in this charming one-be...   \n",
       "1  Beautiful, hypoallergenic apartment in an extr...   \n",
       "2  Our house is modern, light and fresh with a wa...   \n",
       "3                                                NaN   \n",
       "4  Cozy family craftman house in beautiful neighb...   \n",
       "\n",
       "                                         description experiences_offered  \\\n",
       "0  Make your self at home in this charming one-be...                none   \n",
       "1  Chemically sensitive? We've removed the irrita...                none   \n",
       "2  New modern house built in 2013.  Spectacular s...                none   \n",
       "3  A charming apartment that sits atop Queen Anne...                none   \n",
       "4  Cozy family craftman house in beautiful neighb...                none   \n",
       "\n",
       "                               neighborhood_overview  \\\n",
       "0                                                NaN   \n",
       "1  Queen Anne is a wonderful, truly functional vi...   \n",
       "2  Upper Queen Anne is a charming neighborhood fu...   \n",
       "3                                                NaN   \n",
       "4  We are in the beautiful neighborhood of Queen ...   \n",
       "\n",
       "                                               notes  \\\n",
       "0                                                NaN   \n",
       "1  What's up with the free pillows?  Our home was...   \n",
       "2  Our house is located just 5 short blocks to To...   \n",
       "3                                                NaN   \n",
       "4                                          Belltown    \n",
       "\n",
       "                                             transit  \\\n",
       "0                                                NaN   \n",
       "1  Convenient bus stops are just down the block, ...   \n",
       "2  A bus stop is just 2 blocks away.   Easy bus a...   \n",
       "3                                                NaN   \n",
       "4  The nearest public transit bus (D Line) is 2 b...   \n",
       "\n",
       "                                       thumbnail_url  \\\n",
       "0                                                NaN   \n",
       "1  https://a0.muscache.com/ac/pictures/14409893/f...   \n",
       "2                                                NaN   \n",
       "3                                                NaN   \n",
       "4                                                NaN   \n",
       "\n",
       "                                          medium_url  \\\n",
       "0                                                NaN   \n",
       "1  https://a0.muscache.com/im/pictures/14409893/f...   \n",
       "2                                                NaN   \n",
       "3                                                NaN   \n",
       "4                                                NaN   \n",
       "\n",
       "                                         picture_url  \\\n",
       "0  https://a1.muscache.com/ac/pictures/67560560/c...   \n",
       "1  https://a0.muscache.com/ac/pictures/14409893/f...   \n",
       "2  https://a2.muscache.com/ac/pictures/b4324e0f-a...   \n",
       "3  https://a0.muscache.com/ac/pictures/94146944/6...   \n",
       "4  https://a1.muscache.com/ac/pictures/6120468/b0...   \n",
       "\n",
       "                                      xl_picture_url   host_id  \\\n",
       "0                                                NaN    956883   \n",
       "1  https://a0.muscache.com/ac/pictures/14409893/f...   5177328   \n",
       "2                                                NaN  16708587   \n",
       "3                                                NaN   9851441   \n",
       "4                                                NaN   1452570   \n",
       "\n",
       "                                     host_url host_name  host_since  \\\n",
       "0    https://www.airbnb.com/users/show/956883     Maija  2011-08-11   \n",
       "1   https://www.airbnb.com/users/show/5177328    Andrea  2013-02-21   \n",
       "2  https://www.airbnb.com/users/show/16708587      Jill  2014-06-12   \n",
       "3   https://www.airbnb.com/users/show/9851441     Emily  2013-11-06   \n",
       "4   https://www.airbnb.com/users/show/1452570     Emily  2011-11-29   \n",
       "\n",
       "                        host_location  \\\n",
       "0  Seattle, Washington, United States   \n",
       "1  Seattle, Washington, United States   \n",
       "2  Seattle, Washington, United States   \n",
       "3  Seattle, Washington, United States   \n",
       "4  Seattle, Washington, United States   \n",
       "\n",
       "                                          host_about  host_response_time  \\\n",
       "0  I am an artist, interior designer, and run a s...  within a few hours   \n",
       "1  Living east coast/left coast/overseas.  Time i...      within an hour   \n",
       "2  i love living in Seattle.  i grew up in the mi...  within a few hours   \n",
       "3                                                NaN                 NaN   \n",
       "4  Hi, I live in Seattle, Washington but I'm orig...      within an hour   \n",
       "\n",
       "  host_response_rate host_acceptance_rate host_is_superhost  \\\n",
       "0                96%                 100%                 f   \n",
       "1                98%                 100%                 t   \n",
       "2                67%                 100%                 f   \n",
       "3                NaN                  NaN                 f   \n",
       "4               100%                  NaN                 f   \n",
       "\n",
       "                                  host_thumbnail_url  \\\n",
       "0  https://a0.muscache.com/ac/users/956883/profil...   \n",
       "1  https://a0.muscache.com/ac/users/5177328/profi...   \n",
       "2  https://a1.muscache.com/ac/users/16708587/prof...   \n",
       "3  https://a2.muscache.com/ac/users/9851441/profi...   \n",
       "4  https://a0.muscache.com/ac/users/1452570/profi...   \n",
       "\n",
       "                                    host_picture_url host_neighbourhood  \\\n",
       "0  https://a0.muscache.com/ac/users/956883/profil...         Queen Anne   \n",
       "1  https://a0.muscache.com/ac/users/5177328/profi...         Queen Anne   \n",
       "2  https://a1.muscache.com/ac/users/16708587/prof...         Queen Anne   \n",
       "3  https://a2.muscache.com/ac/users/9851441/profi...         Queen Anne   \n",
       "4  https://a0.muscache.com/ac/users/1452570/profi...         Queen Anne   \n",
       "\n",
       "   host_listings_count  host_total_listings_count  \\\n",
       "0                  3.0                        3.0   \n",
       "1                  6.0                        6.0   \n",
       "2                  2.0                        2.0   \n",
       "3                  1.0                        1.0   \n",
       "4                  2.0                        2.0   \n",
       "\n",
       "                                  host_verifications host_has_profile_pic  \\\n",
       "0               ['email', 'phone', 'reviews', 'kba']                    t   \n",
       "1  ['email', 'phone', 'facebook', 'linkedin', 're...                    t   \n",
       "2   ['email', 'phone', 'google', 'reviews', 'jumio']                    t   \n",
       "3  ['email', 'phone', 'facebook', 'reviews', 'jum...                    t   \n",
       "4   ['email', 'phone', 'facebook', 'reviews', 'kba']                    t   \n",
       "\n",
       "  host_identity_verified                                             street  \\\n",
       "0                      t      Gilman Dr W, Seattle, WA 98119, United States   \n",
       "1                      t  7th Avenue West, Seattle, WA 98119, United States   \n",
       "2                      t  West Lee Street, Seattle, WA 98119, United States   \n",
       "3                      t  8th Avenue West, Seattle, WA 98119, United States   \n",
       "4                      t       14th Ave W, Seattle, WA 98119, United States   \n",
       "\n",
       "  neighbourhood neighbourhood_cleansed neighbourhood_group_cleansed     city  \\\n",
       "0    Queen Anne        West Queen Anne                   Queen Anne  Seattle   \n",
       "1    Queen Anne        West Queen Anne                   Queen Anne  Seattle   \n",
       "2    Queen Anne        West Queen Anne                   Queen Anne  Seattle   \n",
       "3    Queen Anne        West Queen Anne                   Queen Anne  Seattle   \n",
       "4    Queen Anne        West Queen Anne                   Queen Anne  Seattle   \n",
       "\n",
       "  state zipcode   market smart_location country_code        country  \\\n",
       "0    WA   98119  Seattle    Seattle, WA           US  United States   \n",
       "1    WA   98119  Seattle    Seattle, WA           US  United States   \n",
       "2    WA   98119  Seattle    Seattle, WA           US  United States   \n",
       "3    WA   98119  Seattle    Seattle, WA           US  United States   \n",
       "4    WA   98119  Seattle    Seattle, WA           US  United States   \n",
       "\n",
       "    latitude   longitude is_location_exact property_type        room_type  \\\n",
       "0  47.636289 -122.371025                 t     Apartment  Entire home/apt   \n",
       "1  47.639123 -122.365666                 t     Apartment  Entire home/apt   \n",
       "2  47.629724 -122.369483                 t         House  Entire home/apt   \n",
       "3  47.638473 -122.369279                 t     Apartment  Entire home/apt   \n",
       "4  47.632918 -122.372471                 t         House  Entire home/apt   \n",
       "\n",
       "   accommodates  bathrooms  bedrooms  beds  bed_type  \\\n",
       "0             4        1.0       1.0   1.0  Real Bed   \n",
       "1             4        1.0       1.0   1.0  Real Bed   \n",
       "2            11        4.5       5.0   7.0  Real Bed   \n",
       "3             3        1.0       0.0   2.0  Real Bed   \n",
       "4             6        2.0       3.0   3.0  Real Bed   \n",
       "\n",
       "                                           amenities  square_feet    price  \\\n",
       "0  {TV,\"Cable TV\",Internet,\"Wireless Internet\",\"A...          NaN   $85.00   \n",
       "1  {TV,Internet,\"Wireless Internet\",Kitchen,\"Free...          NaN  $150.00   \n",
       "2  {TV,\"Cable TV\",Internet,\"Wireless Internet\",\"A...          NaN  $975.00   \n",
       "3  {Internet,\"Wireless Internet\",Kitchen,\"Indoor ...          NaN  $100.00   \n",
       "4  {TV,\"Cable TV\",Internet,\"Wireless Internet\",Ki...          NaN  $450.00   \n",
       "\n",
       "  weekly_price monthly_price security_deposit cleaning_fee  guests_included  \\\n",
       "0          NaN           NaN              NaN          NaN                2   \n",
       "1    $1,000.00     $3,000.00          $100.00       $40.00                1   \n",
       "2          NaN           NaN        $1,000.00      $300.00               10   \n",
       "3      $650.00     $2,300.00              NaN          NaN                1   \n",
       "4          NaN           NaN          $700.00      $125.00                6   \n",
       "\n",
       "  extra_people  minimum_nights  maximum_nights calendar_updated  \\\n",
       "0        $5.00               1             365      4 weeks ago   \n",
       "1        $0.00               2              90            today   \n",
       "2       $25.00               4              30      5 weeks ago   \n",
       "3        $0.00               1            1125     6 months ago   \n",
       "4       $15.00               1            1125      7 weeks ago   \n",
       "\n",
       "  has_availability  availability_30  availability_60  availability_90  \\\n",
       "0                t               14               41               71   \n",
       "1                t               13               13               16   \n",
       "2                t                1                6               17   \n",
       "3                t                0                0                0   \n",
       "4                t               30               60               90   \n",
       "\n",
       "   availability_365 calendar_last_scraped  number_of_reviews first_review  \\\n",
       "0               346            2016-01-04                207   2011-11-01   \n",
       "1               291            2016-01-04                 43   2013-08-19   \n",
       "2               220            2016-01-04                 20   2014-07-30   \n",
       "3               143            2016-01-04                  0          NaN   \n",
       "4               365            2016-01-04                 38   2012-07-10   \n",
       "\n",
       "  last_review  review_scores_rating  review_scores_accuracy  \\\n",
       "0  2016-01-02                  95.0                    10.0   \n",
       "1  2015-12-29                  96.0                    10.0   \n",
       "2  2015-09-03                  97.0                    10.0   \n",
       "3         NaN                   NaN                     NaN   \n",
       "4  2015-10-24                  92.0                     9.0   \n",
       "\n",
       "   review_scores_cleanliness  review_scores_checkin  \\\n",
       "0                       10.0                   10.0   \n",
       "1                       10.0                   10.0   \n",
       "2                       10.0                   10.0   \n",
       "3                        NaN                    NaN   \n",
       "4                        9.0                   10.0   \n",
       "\n",
       "   review_scores_communication  review_scores_location  review_scores_value  \\\n",
       "0                         10.0                     9.0                 10.0   \n",
       "1                         10.0                    10.0                 10.0   \n",
       "2                         10.0                    10.0                 10.0   \n",
       "3                          NaN                     NaN                  NaN   \n",
       "4                         10.0                     9.0                  9.0   \n",
       "\n",
       "  requires_license  license jurisdiction_names instant_bookable  \\\n",
       "0                f      NaN         WASHINGTON                f   \n",
       "1                f      NaN         WASHINGTON                f   \n",
       "2                f      NaN         WASHINGTON                f   \n",
       "3                f      NaN         WASHINGTON                f   \n",
       "4                f      NaN         WASHINGTON                f   \n",
       "\n",
       "  cancellation_policy require_guest_profile_picture  \\\n",
       "0            moderate                             f   \n",
       "1              strict                             t   \n",
       "2              strict                             f   \n",
       "3            flexible                             f   \n",
       "4              strict                             f   \n",
       "\n",
       "  require_guest_phone_verification  calculated_host_listings_count  \\\n",
       "0                                f                               2   \n",
       "1                                t                               6   \n",
       "2                                f                               2   \n",
       "3                                f                               1   \n",
       "4                                f                               1   \n",
       "\n",
       "   reviews_per_month  \n",
       "0               4.07  \n",
       "1               1.48  \n",
       "2               1.15  \n",
       "3                NaN  \n",
       "4               0.89  "
      ]
     },
     "execution_count": 123,
     "metadata": {},
     "output_type": "execute_result"
    }
   ],
   "source": [
    "# listings.csv Seattle Airbnb dataset downloaded from https://www.kaggle.com/airbnb/seattle \n",
    "df = pd.read_csv('listings.csv')\n",
    "\n",
    "\n",
    "df.head()"
   ]
  },
  {
   "cell_type": "code",
   "execution_count": 124,
   "metadata": {},
   "outputs": [
    {
     "data": {
      "text/plain": [
       "(3818, 92)"
      ]
     },
     "execution_count": 124,
     "metadata": {},
     "output_type": "execute_result"
    }
   ],
   "source": [
    "# the dataset includes 3818 rows and 92 columns\n",
    "df.shape"
   ]
  },
  {
   "cell_type": "markdown",
   "metadata": {},
   "source": [
    "Below are all of the columns in the dataset and their data type.\n",
    "\n",
    "There are five general themes for the variables: host-related, review-related, property-related, listing-related, or location-related."
   ]
  },
  {
   "cell_type": "code",
   "execution_count": 125,
   "metadata": {},
   "outputs": [
    {
     "data": {
      "text/plain": [
       "id                                    int64\n",
       "listing_url                          object\n",
       "scrape_id                             int64\n",
       "last_scraped                         object\n",
       "name                                 object\n",
       "summary                              object\n",
       "space                                object\n",
       "description                          object\n",
       "experiences_offered                  object\n",
       "neighborhood_overview                object\n",
       "notes                                object\n",
       "transit                              object\n",
       "thumbnail_url                        object\n",
       "medium_url                           object\n",
       "picture_url                          object\n",
       "xl_picture_url                       object\n",
       "host_id                               int64\n",
       "host_url                             object\n",
       "host_name                            object\n",
       "host_since                           object\n",
       "host_location                        object\n",
       "host_about                           object\n",
       "host_response_time                   object\n",
       "host_response_rate                   object\n",
       "host_acceptance_rate                 object\n",
       "host_is_superhost                    object\n",
       "host_thumbnail_url                   object\n",
       "host_picture_url                     object\n",
       "host_neighbourhood                   object\n",
       "host_listings_count                 float64\n",
       "host_total_listings_count           float64\n",
       "host_verifications                   object\n",
       "host_has_profile_pic                 object\n",
       "host_identity_verified               object\n",
       "street                               object\n",
       "neighbourhood                        object\n",
       "neighbourhood_cleansed               object\n",
       "neighbourhood_group_cleansed         object\n",
       "city                                 object\n",
       "state                                object\n",
       "zipcode                              object\n",
       "market                               object\n",
       "smart_location                       object\n",
       "country_code                         object\n",
       "country                              object\n",
       "latitude                            float64\n",
       "longitude                           float64\n",
       "is_location_exact                    object\n",
       "property_type                        object\n",
       "room_type                            object\n",
       "accommodates                          int64\n",
       "bathrooms                           float64\n",
       "bedrooms                            float64\n",
       "beds                                float64\n",
       "bed_type                             object\n",
       "amenities                            object\n",
       "square_feet                         float64\n",
       "price                                object\n",
       "weekly_price                         object\n",
       "monthly_price                        object\n",
       "security_deposit                     object\n",
       "cleaning_fee                         object\n",
       "guests_included                       int64\n",
       "extra_people                         object\n",
       "minimum_nights                        int64\n",
       "maximum_nights                        int64\n",
       "calendar_updated                     object\n",
       "has_availability                     object\n",
       "availability_30                       int64\n",
       "availability_60                       int64\n",
       "availability_90                       int64\n",
       "availability_365                      int64\n",
       "calendar_last_scraped                object\n",
       "number_of_reviews                     int64\n",
       "first_review                         object\n",
       "last_review                          object\n",
       "review_scores_rating                float64\n",
       "review_scores_accuracy              float64\n",
       "review_scores_cleanliness           float64\n",
       "review_scores_checkin               float64\n",
       "review_scores_communication         float64\n",
       "review_scores_location              float64\n",
       "review_scores_value                 float64\n",
       "requires_license                     object\n",
       "license                             float64\n",
       "jurisdiction_names                   object\n",
       "instant_bookable                     object\n",
       "cancellation_policy                  object\n",
       "require_guest_profile_picture        object\n",
       "require_guest_phone_verification     object\n",
       "calculated_host_listings_count        int64\n",
       "reviews_per_month                   float64\n",
       "dtype: object"
      ]
     },
     "execution_count": 125,
     "metadata": {},
     "output_type": "execute_result"
    }
   ],
   "source": [
    "df.dtypes"
   ]
  },
  {
   "cell_type": "markdown",
   "metadata": {},
   "source": [
    "### 2.2 Unique Values"
   ]
  },
  {
   "cell_type": "markdown",
   "metadata": {},
   "source": [
    "Most columns have a limited of unique values but there appear to be a few columns that have a unique value for almost every row. These are probably the id and/or url fields"
   ]
  },
  {
   "cell_type": "code",
   "execution_count": 126,
   "metadata": {},
   "outputs": [
    {
     "data": {
      "text/plain": [
       "array([[<matplotlib.axes._subplots.AxesSubplot object at 0x1a21bb8710>]],\n",
       "      dtype=object)"
      ]
     },
     "execution_count": 126,
     "metadata": {},
     "output_type": "execute_result"
    },
    {
     "data": {
      "image/png": "[encoded data removed]",
      "text/plain": [
       "<Figure size 432x288 with 1 Axes>"
      ]
     },
     "metadata": {
      "needs_background": "light"
     },
     "output_type": "display_data"
    }
   ],
   "source": [
    "pd.DataFrame((df.T.apply(lambda x: x.nunique(), axis=1)), columns=['Unique Value Count']).hist()"
   ]
  },
  {
   "cell_type": "markdown",
   "metadata": {},
   "source": [
    "### 2.3 Null Values"
   ]
  },
  {
   "cell_type": "code",
   "execution_count": 127,
   "metadata": {},
   "outputs": [
    {
     "data": {
      "text/html": [
       "<div>\n",
       "<style scoped>\n",
       "    .dataframe tbody tr th:only-of-type {\n",
       "        vertical-align: middle;\n",
       "    }\n",
       "\n",
       "    .dataframe tbody tr th {\n",
       "        vertical-align: top;\n",
       "    }\n",
       "\n",
       "    .dataframe thead th {\n",
       "        text-align: right;\n",
       "    }\n",
       "</style>\n",
       "<table border=\"1\" class=\"dataframe\">\n",
       "  <thead>\n",
       "    <tr style=\"text-align: right;\">\n",
       "      <th></th>\n",
       "      <th>null_count</th>\n",
       "    </tr>\n",
       "  </thead>\n",
       "  <tbody>\n",
       "    <tr>\n",
       "      <th>license</th>\n",
       "      <td>3818</td>\n",
       "    </tr>\n",
       "    <tr>\n",
       "      <th>square_feet</th>\n",
       "      <td>3721</td>\n",
       "    </tr>\n",
       "    <tr>\n",
       "      <th>monthly_price</th>\n",
       "      <td>2301</td>\n",
       "    </tr>\n",
       "    <tr>\n",
       "      <th>security_deposit</th>\n",
       "      <td>1952</td>\n",
       "    </tr>\n",
       "    <tr>\n",
       "      <th>weekly_price</th>\n",
       "      <td>1809</td>\n",
       "    </tr>\n",
       "    <tr>\n",
       "      <th>notes</th>\n",
       "      <td>1606</td>\n",
       "    </tr>\n",
       "    <tr>\n",
       "      <th>neighborhood_overview</th>\n",
       "      <td>1032</td>\n",
       "    </tr>\n",
       "    <tr>\n",
       "      <th>cleaning_fee</th>\n",
       "      <td>1030</td>\n",
       "    </tr>\n",
       "    <tr>\n",
       "      <th>transit</th>\n",
       "      <td>934</td>\n",
       "    </tr>\n",
       "    <tr>\n",
       "      <th>host_about</th>\n",
       "      <td>859</td>\n",
       "    </tr>\n",
       "    <tr>\n",
       "      <th>host_acceptance_rate</th>\n",
       "      <td>773</td>\n",
       "    </tr>\n",
       "    <tr>\n",
       "      <th>review_scores_accuracy</th>\n",
       "      <td>658</td>\n",
       "    </tr>\n",
       "    <tr>\n",
       "      <th>review_scores_checkin</th>\n",
       "      <td>658</td>\n",
       "    </tr>\n",
       "    <tr>\n",
       "      <th>review_scores_value</th>\n",
       "      <td>656</td>\n",
       "    </tr>\n",
       "    <tr>\n",
       "      <th>review_scores_location</th>\n",
       "      <td>655</td>\n",
       "    </tr>\n",
       "    <tr>\n",
       "      <th>review_scores_cleanliness</th>\n",
       "      <td>653</td>\n",
       "    </tr>\n",
       "    <tr>\n",
       "      <th>review_scores_communication</th>\n",
       "      <td>651</td>\n",
       "    </tr>\n",
       "    <tr>\n",
       "      <th>review_scores_rating</th>\n",
       "      <td>647</td>\n",
       "    </tr>\n",
       "    <tr>\n",
       "      <th>last_review</th>\n",
       "      <td>627</td>\n",
       "    </tr>\n",
       "    <tr>\n",
       "      <th>first_review</th>\n",
       "      <td>627</td>\n",
       "    </tr>\n",
       "    <tr>\n",
       "      <th>reviews_per_month</th>\n",
       "      <td>627</td>\n",
       "    </tr>\n",
       "    <tr>\n",
       "      <th>space</th>\n",
       "      <td>569</td>\n",
       "    </tr>\n",
       "    <tr>\n",
       "      <th>host_response_rate</th>\n",
       "      <td>523</td>\n",
       "    </tr>\n",
       "    <tr>\n",
       "      <th>host_response_time</th>\n",
       "      <td>523</td>\n",
       "    </tr>\n",
       "    <tr>\n",
       "      <th>neighbourhood</th>\n",
       "      <td>416</td>\n",
       "    </tr>\n",
       "    <tr>\n",
       "      <th>thumbnail_url</th>\n",
       "      <td>320</td>\n",
       "    </tr>\n",
       "    <tr>\n",
       "      <th>medium_url</th>\n",
       "      <td>320</td>\n",
       "    </tr>\n",
       "    <tr>\n",
       "      <th>xl_picture_url</th>\n",
       "      <td>320</td>\n",
       "    </tr>\n",
       "    <tr>\n",
       "      <th>host_neighbourhood</th>\n",
       "      <td>300</td>\n",
       "    </tr>\n",
       "    <tr>\n",
       "      <th>summary</th>\n",
       "      <td>177</td>\n",
       "    </tr>\n",
       "    <tr>\n",
       "      <th>bathrooms</th>\n",
       "      <td>16</td>\n",
       "    </tr>\n",
       "    <tr>\n",
       "      <th>host_location</th>\n",
       "      <td>8</td>\n",
       "    </tr>\n",
       "    <tr>\n",
       "      <th>zipcode</th>\n",
       "      <td>7</td>\n",
       "    </tr>\n",
       "    <tr>\n",
       "      <th>bedrooms</th>\n",
       "      <td>6</td>\n",
       "    </tr>\n",
       "    <tr>\n",
       "      <th>host_name</th>\n",
       "      <td>2</td>\n",
       "    </tr>\n",
       "    <tr>\n",
       "      <th>host_listings_count</th>\n",
       "      <td>2</td>\n",
       "    </tr>\n",
       "    <tr>\n",
       "      <th>host_since</th>\n",
       "      <td>2</td>\n",
       "    </tr>\n",
       "    <tr>\n",
       "      <th>host_is_superhost</th>\n",
       "      <td>2</td>\n",
       "    </tr>\n",
       "    <tr>\n",
       "      <th>host_identity_verified</th>\n",
       "      <td>2</td>\n",
       "    </tr>\n",
       "    <tr>\n",
       "      <th>host_picture_url</th>\n",
       "      <td>2</td>\n",
       "    </tr>\n",
       "    <tr>\n",
       "      <th>host_thumbnail_url</th>\n",
       "      <td>2</td>\n",
       "    </tr>\n",
       "    <tr>\n",
       "      <th>host_total_listings_count</th>\n",
       "      <td>2</td>\n",
       "    </tr>\n",
       "    <tr>\n",
       "      <th>host_has_profile_pic</th>\n",
       "      <td>2</td>\n",
       "    </tr>\n",
       "    <tr>\n",
       "      <th>property_type</th>\n",
       "      <td>1</td>\n",
       "    </tr>\n",
       "    <tr>\n",
       "      <th>beds</th>\n",
       "      <td>1</td>\n",
       "    </tr>\n",
       "    <tr>\n",
       "      <th>require_guest_profile_picture</th>\n",
       "      <td>0</td>\n",
       "    </tr>\n",
       "    <tr>\n",
       "      <th>calculated_host_listings_count</th>\n",
       "      <td>0</td>\n",
       "    </tr>\n",
       "    <tr>\n",
       "      <th>maximum_nights</th>\n",
       "      <td>0</td>\n",
       "    </tr>\n",
       "    <tr>\n",
       "      <th>calendar_updated</th>\n",
       "      <td>0</td>\n",
       "    </tr>\n",
       "    <tr>\n",
       "      <th>has_availability</th>\n",
       "      <td>0</td>\n",
       "    </tr>\n",
       "    <tr>\n",
       "      <th>require_guest_phone_verification</th>\n",
       "      <td>0</td>\n",
       "    </tr>\n",
       "    <tr>\n",
       "      <th>instant_bookable</th>\n",
       "      <td>0</td>\n",
       "    </tr>\n",
       "    <tr>\n",
       "      <th>availability_30</th>\n",
       "      <td>0</td>\n",
       "    </tr>\n",
       "    <tr>\n",
       "      <th>availability_60</th>\n",
       "      <td>0</td>\n",
       "    </tr>\n",
       "    <tr>\n",
       "      <th>availability_90</th>\n",
       "      <td>0</td>\n",
       "    </tr>\n",
       "    <tr>\n",
       "      <th>availability_365</th>\n",
       "      <td>0</td>\n",
       "    </tr>\n",
       "    <tr>\n",
       "      <th>calendar_last_scraped</th>\n",
       "      <td>0</td>\n",
       "    </tr>\n",
       "    <tr>\n",
       "      <th>number_of_reviews</th>\n",
       "      <td>0</td>\n",
       "    </tr>\n",
       "    <tr>\n",
       "      <th>cancellation_policy</th>\n",
       "      <td>0</td>\n",
       "    </tr>\n",
       "    <tr>\n",
       "      <th>jurisdiction_names</th>\n",
       "      <td>0</td>\n",
       "    </tr>\n",
       "    <tr>\n",
       "      <th>requires_license</th>\n",
       "      <td>0</td>\n",
       "    </tr>\n",
       "    <tr>\n",
       "      <th>extra_people</th>\n",
       "      <td>0</td>\n",
       "    </tr>\n",
       "    <tr>\n",
       "      <th>minimum_nights</th>\n",
       "      <td>0</td>\n",
       "    </tr>\n",
       "    <tr>\n",
       "      <th>id</th>\n",
       "      <td>0</td>\n",
       "    </tr>\n",
       "    <tr>\n",
       "      <th>guests_included</th>\n",
       "      <td>0</td>\n",
       "    </tr>\n",
       "    <tr>\n",
       "      <th>price</th>\n",
       "      <td>0</td>\n",
       "    </tr>\n",
       "    <tr>\n",
       "      <th>scrape_id</th>\n",
       "      <td>0</td>\n",
       "    </tr>\n",
       "    <tr>\n",
       "      <th>last_scraped</th>\n",
       "      <td>0</td>\n",
       "    </tr>\n",
       "    <tr>\n",
       "      <th>name</th>\n",
       "      <td>0</td>\n",
       "    </tr>\n",
       "    <tr>\n",
       "      <th>description</th>\n",
       "      <td>0</td>\n",
       "    </tr>\n",
       "    <tr>\n",
       "      <th>experiences_offered</th>\n",
       "      <td>0</td>\n",
       "    </tr>\n",
       "    <tr>\n",
       "      <th>picture_url</th>\n",
       "      <td>0</td>\n",
       "    </tr>\n",
       "    <tr>\n",
       "      <th>host_id</th>\n",
       "      <td>0</td>\n",
       "    </tr>\n",
       "    <tr>\n",
       "      <th>host_url</th>\n",
       "      <td>0</td>\n",
       "    </tr>\n",
       "    <tr>\n",
       "      <th>host_verifications</th>\n",
       "      <td>0</td>\n",
       "    </tr>\n",
       "    <tr>\n",
       "      <th>street</th>\n",
       "      <td>0</td>\n",
       "    </tr>\n",
       "    <tr>\n",
       "      <th>neighbourhood_cleansed</th>\n",
       "      <td>0</td>\n",
       "    </tr>\n",
       "    <tr>\n",
       "      <th>neighbourhood_group_cleansed</th>\n",
       "      <td>0</td>\n",
       "    </tr>\n",
       "    <tr>\n",
       "      <th>city</th>\n",
       "      <td>0</td>\n",
       "    </tr>\n",
       "    <tr>\n",
       "      <th>state</th>\n",
       "      <td>0</td>\n",
       "    </tr>\n",
       "    <tr>\n",
       "      <th>market</th>\n",
       "      <td>0</td>\n",
       "    </tr>\n",
       "    <tr>\n",
       "      <th>smart_location</th>\n",
       "      <td>0</td>\n",
       "    </tr>\n",
       "    <tr>\n",
       "      <th>country_code</th>\n",
       "      <td>0</td>\n",
       "    </tr>\n",
       "    <tr>\n",
       "      <th>country</th>\n",
       "      <td>0</td>\n",
       "    </tr>\n",
       "    <tr>\n",
       "      <th>latitude</th>\n",
       "      <td>0</td>\n",
       "    </tr>\n",
       "    <tr>\n",
       "      <th>listing_url</th>\n",
       "      <td>0</td>\n",
       "    </tr>\n",
       "    <tr>\n",
       "      <th>is_location_exact</th>\n",
       "      <td>0</td>\n",
       "    </tr>\n",
       "    <tr>\n",
       "      <th>room_type</th>\n",
       "      <td>0</td>\n",
       "    </tr>\n",
       "    <tr>\n",
       "      <th>accommodates</th>\n",
       "      <td>0</td>\n",
       "    </tr>\n",
       "    <tr>\n",
       "      <th>bed_type</th>\n",
       "      <td>0</td>\n",
       "    </tr>\n",
       "    <tr>\n",
       "      <th>amenities</th>\n",
       "      <td>0</td>\n",
       "    </tr>\n",
       "    <tr>\n",
       "      <th>longitude</th>\n",
       "      <td>0</td>\n",
       "    </tr>\n",
       "  </tbody>\n",
       "</table>\n",
       "</div>"
      ],
      "text/plain": [
       "                                  null_count\n",
       "license                                 3818\n",
       "square_feet                             3721\n",
       "monthly_price                           2301\n",
       "security_deposit                        1952\n",
       "weekly_price                            1809\n",
       "notes                                   1606\n",
       "neighborhood_overview                   1032\n",
       "cleaning_fee                            1030\n",
       "transit                                  934\n",
       "host_about                               859\n",
       "host_acceptance_rate                     773\n",
       "review_scores_accuracy                   658\n",
       "review_scores_checkin                    658\n",
       "review_scores_value                      656\n",
       "review_scores_location                   655\n",
       "review_scores_cleanliness                653\n",
       "review_scores_communication              651\n",
       "review_scores_rating                     647\n",
       "last_review                              627\n",
       "first_review                             627\n",
       "reviews_per_month                        627\n",
       "space                                    569\n",
       "host_response_rate                       523\n",
       "host_response_time                       523\n",
       "neighbourhood                            416\n",
       "thumbnail_url                            320\n",
       "medium_url                               320\n",
       "xl_picture_url                           320\n",
       "host_neighbourhood                       300\n",
       "summary                                  177\n",
       "bathrooms                                 16\n",
       "host_location                              8\n",
       "zipcode                                    7\n",
       "bedrooms                                   6\n",
       "host_name                                  2\n",
       "host_listings_count                        2\n",
       "host_since                                 2\n",
       "host_is_superhost                          2\n",
       "host_identity_verified                     2\n",
       "host_picture_url                           2\n",
       "host_thumbnail_url                         2\n",
       "host_total_listings_count                  2\n",
       "host_has_profile_pic                       2\n",
       "property_type                              1\n",
       "beds                                       1\n",
       "require_guest_profile_picture              0\n",
       "calculated_host_listings_count             0\n",
       "maximum_nights                             0\n",
       "calendar_updated                           0\n",
       "has_availability                           0\n",
       "require_guest_phone_verification           0\n",
       "instant_bookable                           0\n",
       "availability_30                            0\n",
       "availability_60                            0\n",
       "availability_90                            0\n",
       "availability_365                           0\n",
       "calendar_last_scraped                      0\n",
       "number_of_reviews                          0\n",
       "cancellation_policy                        0\n",
       "jurisdiction_names                         0\n",
       "requires_license                           0\n",
       "extra_people                               0\n",
       "minimum_nights                             0\n",
       "id                                         0\n",
       "guests_included                            0\n",
       "price                                      0\n",
       "scrape_id                                  0\n",
       "last_scraped                               0\n",
       "name                                       0\n",
       "description                                0\n",
       "experiences_offered                        0\n",
       "picture_url                                0\n",
       "host_id                                    0\n",
       "host_url                                   0\n",
       "host_verifications                         0\n",
       "street                                     0\n",
       "neighbourhood_cleansed                     0\n",
       "neighbourhood_group_cleansed               0\n",
       "city                                       0\n",
       "state                                      0\n",
       "market                                     0\n",
       "smart_location                             0\n",
       "country_code                               0\n",
       "country                                    0\n",
       "latitude                                   0\n",
       "listing_url                                0\n",
       "is_location_exact                          0\n",
       "room_type                                  0\n",
       "accommodates                               0\n",
       "bed_type                                   0\n",
       "amenities                                  0\n",
       "longitude                                  0"
      ]
     },
     "execution_count": 127,
     "metadata": {},
     "output_type": "execute_result"
    }
   ],
   "source": [
    "# view columns with the most null values by count\n",
    "pd.DataFrame(np.sum(df.isnull()), columns=['null_count']).sort_values(by='null_count', ascending=False)"
   ]
  },
  {
   "cell_type": "code",
   "execution_count": 128,
   "metadata": {},
   "outputs": [
    {
     "data": {
      "text/html": [
       "<div>\n",
       "<style scoped>\n",
       "    .dataframe tbody tr th:only-of-type {\n",
       "        vertical-align: middle;\n",
       "    }\n",
       "\n",
       "    .dataframe tbody tr th {\n",
       "        vertical-align: top;\n",
       "    }\n",
       "\n",
       "    .dataframe thead th {\n",
       "        text-align: right;\n",
       "    }\n",
       "</style>\n",
       "<table border=\"1\" class=\"dataframe\">\n",
       "  <thead>\n",
       "    <tr style=\"text-align: right;\">\n",
       "      <th></th>\n",
       "      <th>null%</th>\n",
       "    </tr>\n",
       "  </thead>\n",
       "  <tbody>\n",
       "    <tr>\n",
       "      <th>license</th>\n",
       "      <td>100.000000</td>\n",
       "    </tr>\n",
       "    <tr>\n",
       "      <th>square_feet</th>\n",
       "      <td>97.459403</td>\n",
       "    </tr>\n",
       "    <tr>\n",
       "      <th>monthly_price</th>\n",
       "      <td>60.267156</td>\n",
       "    </tr>\n",
       "    <tr>\n",
       "      <th>security_deposit</th>\n",
       "      <td>51.126244</td>\n",
       "    </tr>\n",
       "    <tr>\n",
       "      <th>weekly_price</th>\n",
       "      <td>47.380828</td>\n",
       "    </tr>\n",
       "    <tr>\n",
       "      <th>notes</th>\n",
       "      <td>42.063908</td>\n",
       "    </tr>\n",
       "    <tr>\n",
       "      <th>neighborhood_overview</th>\n",
       "      <td>27.029859</td>\n",
       "    </tr>\n",
       "    <tr>\n",
       "      <th>cleaning_fee</th>\n",
       "      <td>26.977475</td>\n",
       "    </tr>\n",
       "    <tr>\n",
       "      <th>transit</th>\n",
       "      <td>24.463070</td>\n",
       "    </tr>\n",
       "    <tr>\n",
       "      <th>host_about</th>\n",
       "      <td>22.498690</td>\n",
       "    </tr>\n",
       "    <tr>\n",
       "      <th>host_acceptance_rate</th>\n",
       "      <td>20.246202</td>\n",
       "    </tr>\n",
       "    <tr>\n",
       "      <th>review_scores_accuracy</th>\n",
       "      <td>17.234154</td>\n",
       "    </tr>\n",
       "    <tr>\n",
       "      <th>review_scores_checkin</th>\n",
       "      <td>17.234154</td>\n",
       "    </tr>\n",
       "    <tr>\n",
       "      <th>review_scores_value</th>\n",
       "      <td>17.181771</td>\n",
       "    </tr>\n",
       "    <tr>\n",
       "      <th>review_scores_location</th>\n",
       "      <td>17.155579</td>\n",
       "    </tr>\n",
       "    <tr>\n",
       "      <th>review_scores_cleanliness</th>\n",
       "      <td>17.103195</td>\n",
       "    </tr>\n",
       "    <tr>\n",
       "      <th>review_scores_communication</th>\n",
       "      <td>17.050812</td>\n",
       "    </tr>\n",
       "    <tr>\n",
       "      <th>review_scores_rating</th>\n",
       "      <td>16.946045</td>\n",
       "    </tr>\n",
       "    <tr>\n",
       "      <th>last_review</th>\n",
       "      <td>16.422211</td>\n",
       "    </tr>\n",
       "    <tr>\n",
       "      <th>first_review</th>\n",
       "      <td>16.422211</td>\n",
       "    </tr>\n",
       "    <tr>\n",
       "      <th>reviews_per_month</th>\n",
       "      <td>16.422211</td>\n",
       "    </tr>\n",
       "    <tr>\n",
       "      <th>space</th>\n",
       "      <td>14.903091</td>\n",
       "    </tr>\n",
       "    <tr>\n",
       "      <th>host_response_rate</th>\n",
       "      <td>13.698271</td>\n",
       "    </tr>\n",
       "    <tr>\n",
       "      <th>host_response_time</th>\n",
       "      <td>13.698271</td>\n",
       "    </tr>\n",
       "    <tr>\n",
       "      <th>neighbourhood</th>\n",
       "      <td>10.895757</td>\n",
       "    </tr>\n",
       "    <tr>\n",
       "      <th>thumbnail_url</th>\n",
       "      <td>8.381351</td>\n",
       "    </tr>\n",
       "    <tr>\n",
       "      <th>medium_url</th>\n",
       "      <td>8.381351</td>\n",
       "    </tr>\n",
       "    <tr>\n",
       "      <th>xl_picture_url</th>\n",
       "      <td>8.381351</td>\n",
       "    </tr>\n",
       "    <tr>\n",
       "      <th>host_neighbourhood</th>\n",
       "      <td>7.857517</td>\n",
       "    </tr>\n",
       "    <tr>\n",
       "      <th>summary</th>\n",
       "      <td>4.635935</td>\n",
       "    </tr>\n",
       "    <tr>\n",
       "      <th>bathrooms</th>\n",
       "      <td>0.419068</td>\n",
       "    </tr>\n",
       "    <tr>\n",
       "      <th>host_location</th>\n",
       "      <td>0.209534</td>\n",
       "    </tr>\n",
       "    <tr>\n",
       "      <th>zipcode</th>\n",
       "      <td>0.183342</td>\n",
       "    </tr>\n",
       "    <tr>\n",
       "      <th>bedrooms</th>\n",
       "      <td>0.157150</td>\n",
       "    </tr>\n",
       "    <tr>\n",
       "      <th>host_name</th>\n",
       "      <td>0.052383</td>\n",
       "    </tr>\n",
       "    <tr>\n",
       "      <th>host_listings_count</th>\n",
       "      <td>0.052383</td>\n",
       "    </tr>\n",
       "    <tr>\n",
       "      <th>host_since</th>\n",
       "      <td>0.052383</td>\n",
       "    </tr>\n",
       "    <tr>\n",
       "      <th>host_is_superhost</th>\n",
       "      <td>0.052383</td>\n",
       "    </tr>\n",
       "    <tr>\n",
       "      <th>host_identity_verified</th>\n",
       "      <td>0.052383</td>\n",
       "    </tr>\n",
       "    <tr>\n",
       "      <th>host_picture_url</th>\n",
       "      <td>0.052383</td>\n",
       "    </tr>\n",
       "    <tr>\n",
       "      <th>host_thumbnail_url</th>\n",
       "      <td>0.052383</td>\n",
       "    </tr>\n",
       "    <tr>\n",
       "      <th>host_total_listings_count</th>\n",
       "      <td>0.052383</td>\n",
       "    </tr>\n",
       "    <tr>\n",
       "      <th>host_has_profile_pic</th>\n",
       "      <td>0.052383</td>\n",
       "    </tr>\n",
       "    <tr>\n",
       "      <th>property_type</th>\n",
       "      <td>0.026192</td>\n",
       "    </tr>\n",
       "    <tr>\n",
       "      <th>beds</th>\n",
       "      <td>0.026192</td>\n",
       "    </tr>\n",
       "    <tr>\n",
       "      <th>require_guest_profile_picture</th>\n",
       "      <td>0.000000</td>\n",
       "    </tr>\n",
       "    <tr>\n",
       "      <th>calculated_host_listings_count</th>\n",
       "      <td>0.000000</td>\n",
       "    </tr>\n",
       "    <tr>\n",
       "      <th>maximum_nights</th>\n",
       "      <td>0.000000</td>\n",
       "    </tr>\n",
       "    <tr>\n",
       "      <th>calendar_updated</th>\n",
       "      <td>0.000000</td>\n",
       "    </tr>\n",
       "    <tr>\n",
       "      <th>has_availability</th>\n",
       "      <td>0.000000</td>\n",
       "    </tr>\n",
       "    <tr>\n",
       "      <th>require_guest_phone_verification</th>\n",
       "      <td>0.000000</td>\n",
       "    </tr>\n",
       "    <tr>\n",
       "      <th>instant_bookable</th>\n",
       "      <td>0.000000</td>\n",
       "    </tr>\n",
       "    <tr>\n",
       "      <th>availability_30</th>\n",
       "      <td>0.000000</td>\n",
       "    </tr>\n",
       "    <tr>\n",
       "      <th>availability_60</th>\n",
       "      <td>0.000000</td>\n",
       "    </tr>\n",
       "    <tr>\n",
       "      <th>availability_90</th>\n",
       "      <td>0.000000</td>\n",
       "    </tr>\n",
       "    <tr>\n",
       "      <th>availability_365</th>\n",
       "      <td>0.000000</td>\n",
       "    </tr>\n",
       "    <tr>\n",
       "      <th>calendar_last_scraped</th>\n",
       "      <td>0.000000</td>\n",
       "    </tr>\n",
       "    <tr>\n",
       "      <th>number_of_reviews</th>\n",
       "      <td>0.000000</td>\n",
       "    </tr>\n",
       "    <tr>\n",
       "      <th>cancellation_policy</th>\n",
       "      <td>0.000000</td>\n",
       "    </tr>\n",
       "    <tr>\n",
       "      <th>jurisdiction_names</th>\n",
       "      <td>0.000000</td>\n",
       "    </tr>\n",
       "    <tr>\n",
       "      <th>requires_license</th>\n",
       "      <td>0.000000</td>\n",
       "    </tr>\n",
       "    <tr>\n",
       "      <th>extra_people</th>\n",
       "      <td>0.000000</td>\n",
       "    </tr>\n",
       "    <tr>\n",
       "      <th>minimum_nights</th>\n",
       "      <td>0.000000</td>\n",
       "    </tr>\n",
       "    <tr>\n",
       "      <th>id</th>\n",
       "      <td>0.000000</td>\n",
       "    </tr>\n",
       "    <tr>\n",
       "      <th>guests_included</th>\n",
       "      <td>0.000000</td>\n",
       "    </tr>\n",
       "    <tr>\n",
       "      <th>price</th>\n",
       "      <td>0.000000</td>\n",
       "    </tr>\n",
       "    <tr>\n",
       "      <th>scrape_id</th>\n",
       "      <td>0.000000</td>\n",
       "    </tr>\n",
       "    <tr>\n",
       "      <th>last_scraped</th>\n",
       "      <td>0.000000</td>\n",
       "    </tr>\n",
       "    <tr>\n",
       "      <th>name</th>\n",
       "      <td>0.000000</td>\n",
       "    </tr>\n",
       "    <tr>\n",
       "      <th>description</th>\n",
       "      <td>0.000000</td>\n",
       "    </tr>\n",
       "    <tr>\n",
       "      <th>experiences_offered</th>\n",
       "      <td>0.000000</td>\n",
       "    </tr>\n",
       "    <tr>\n",
       "      <th>picture_url</th>\n",
       "      <td>0.000000</td>\n",
       "    </tr>\n",
       "    <tr>\n",
       "      <th>host_id</th>\n",
       "      <td>0.000000</td>\n",
       "    </tr>\n",
       "    <tr>\n",
       "      <th>host_url</th>\n",
       "      <td>0.000000</td>\n",
       "    </tr>\n",
       "    <tr>\n",
       "      <th>host_verifications</th>\n",
       "      <td>0.000000</td>\n",
       "    </tr>\n",
       "    <tr>\n",
       "      <th>street</th>\n",
       "      <td>0.000000</td>\n",
       "    </tr>\n",
       "    <tr>\n",
       "      <th>neighbourhood_cleansed</th>\n",
       "      <td>0.000000</td>\n",
       "    </tr>\n",
       "    <tr>\n",
       "      <th>neighbourhood_group_cleansed</th>\n",
       "      <td>0.000000</td>\n",
       "    </tr>\n",
       "    <tr>\n",
       "      <th>city</th>\n",
       "      <td>0.000000</td>\n",
       "    </tr>\n",
       "    <tr>\n",
       "      <th>state</th>\n",
       "      <td>0.000000</td>\n",
       "    </tr>\n",
       "    <tr>\n",
       "      <th>market</th>\n",
       "      <td>0.000000</td>\n",
       "    </tr>\n",
       "    <tr>\n",
       "      <th>smart_location</th>\n",
       "      <td>0.000000</td>\n",
       "    </tr>\n",
       "    <tr>\n",
       "      <th>country_code</th>\n",
       "      <td>0.000000</td>\n",
       "    </tr>\n",
       "    <tr>\n",
       "      <th>country</th>\n",
       "      <td>0.000000</td>\n",
       "    </tr>\n",
       "    <tr>\n",
       "      <th>latitude</th>\n",
       "      <td>0.000000</td>\n",
       "    </tr>\n",
       "    <tr>\n",
       "      <th>listing_url</th>\n",
       "      <td>0.000000</td>\n",
       "    </tr>\n",
       "    <tr>\n",
       "      <th>is_location_exact</th>\n",
       "      <td>0.000000</td>\n",
       "    </tr>\n",
       "    <tr>\n",
       "      <th>room_type</th>\n",
       "      <td>0.000000</td>\n",
       "    </tr>\n",
       "    <tr>\n",
       "      <th>accommodates</th>\n",
       "      <td>0.000000</td>\n",
       "    </tr>\n",
       "    <tr>\n",
       "      <th>bed_type</th>\n",
       "      <td>0.000000</td>\n",
       "    </tr>\n",
       "    <tr>\n",
       "      <th>amenities</th>\n",
       "      <td>0.000000</td>\n",
       "    </tr>\n",
       "    <tr>\n",
       "      <th>longitude</th>\n",
       "      <td>0.000000</td>\n",
       "    </tr>\n",
       "  </tbody>\n",
       "</table>\n",
       "</div>"
      ],
      "text/plain": [
       "                                       null%\n",
       "license                           100.000000\n",
       "square_feet                        97.459403\n",
       "monthly_price                      60.267156\n",
       "security_deposit                   51.126244\n",
       "weekly_price                       47.380828\n",
       "notes                              42.063908\n",
       "neighborhood_overview              27.029859\n",
       "cleaning_fee                       26.977475\n",
       "transit                            24.463070\n",
       "host_about                         22.498690\n",
       "host_acceptance_rate               20.246202\n",
       "review_scores_accuracy             17.234154\n",
       "review_scores_checkin              17.234154\n",
       "review_scores_value                17.181771\n",
       "review_scores_location             17.155579\n",
       "review_scores_cleanliness          17.103195\n",
       "review_scores_communication        17.050812\n",
       "review_scores_rating               16.946045\n",
       "last_review                        16.422211\n",
       "first_review                       16.422211\n",
       "reviews_per_month                  16.422211\n",
       "space                              14.903091\n",
       "host_response_rate                 13.698271\n",
       "host_response_time                 13.698271\n",
       "neighbourhood                      10.895757\n",
       "thumbnail_url                       8.381351\n",
       "medium_url                          8.381351\n",
       "xl_picture_url                      8.381351\n",
       "host_neighbourhood                  7.857517\n",
       "summary                             4.635935\n",
       "bathrooms                           0.419068\n",
       "host_location                       0.209534\n",
       "zipcode                             0.183342\n",
       "bedrooms                            0.157150\n",
       "host_name                           0.052383\n",
       "host_listings_count                 0.052383\n",
       "host_since                          0.052383\n",
       "host_is_superhost                   0.052383\n",
       "host_identity_verified              0.052383\n",
       "host_picture_url                    0.052383\n",
       "host_thumbnail_url                  0.052383\n",
       "host_total_listings_count           0.052383\n",
       "host_has_profile_pic                0.052383\n",
       "property_type                       0.026192\n",
       "beds                                0.026192\n",
       "require_guest_profile_picture       0.000000\n",
       "calculated_host_listings_count      0.000000\n",
       "maximum_nights                      0.000000\n",
       "calendar_updated                    0.000000\n",
       "has_availability                    0.000000\n",
       "require_guest_phone_verification    0.000000\n",
       "instant_bookable                    0.000000\n",
       "availability_30                     0.000000\n",
       "availability_60                     0.000000\n",
       "availability_90                     0.000000\n",
       "availability_365                    0.000000\n",
       "calendar_last_scraped               0.000000\n",
       "number_of_reviews                   0.000000\n",
       "cancellation_policy                 0.000000\n",
       "jurisdiction_names                  0.000000\n",
       "requires_license                    0.000000\n",
       "extra_people                        0.000000\n",
       "minimum_nights                      0.000000\n",
       "id                                  0.000000\n",
       "guests_included                     0.000000\n",
       "price                               0.000000\n",
       "scrape_id                           0.000000\n",
       "last_scraped                        0.000000\n",
       "name                                0.000000\n",
       "description                         0.000000\n",
       "experiences_offered                 0.000000\n",
       "picture_url                         0.000000\n",
       "host_id                             0.000000\n",
       "host_url                            0.000000\n",
       "host_verifications                  0.000000\n",
       "street                              0.000000\n",
       "neighbourhood_cleansed              0.000000\n",
       "neighbourhood_group_cleansed        0.000000\n",
       "city                                0.000000\n",
       "state                               0.000000\n",
       "market                              0.000000\n",
       "smart_location                      0.000000\n",
       "country_code                        0.000000\n",
       "country                             0.000000\n",
       "latitude                            0.000000\n",
       "listing_url                         0.000000\n",
       "is_location_exact                   0.000000\n",
       "room_type                           0.000000\n",
       "accommodates                        0.000000\n",
       "bed_type                            0.000000\n",
       "amenities                           0.000000\n",
       "longitude                           0.000000"
      ]
     },
     "execution_count": 128,
     "metadata": {},
     "output_type": "execute_result"
    }
   ],
   "source": [
    "# view columns with the most null values by %\n",
    "\n",
    "pd.DataFrame(((np.sum(df.isnull()) / df.shape[0]) * 100), columns=['null%']).sort_values(by='null%', ascending=False)"
   ]
  },
  {
   "cell_type": "code",
   "execution_count": 129,
   "metadata": {},
   "outputs": [
    {
     "data": {
      "text/plain": [
       "host_neighbourhood              300\n",
       "neighbourhood                   416\n",
       "neighbourhood_cleansed            0\n",
       "neighbourhood_group_cleansed      0\n",
       "dtype: int64"
      ]
     },
     "execution_count": 129,
     "metadata": {},
     "output_type": "execute_result"
    }
   ],
   "source": [
    "# filter null count to only show neighbourhood variables\n",
    "\n",
    "np.sum(df[[i for i in df.columns.tolist() if 'neighbourhood' in i]].isnull())"
   ]
  },
  {
   "cell_type": "markdown",
   "metadata": {},
   "source": [
    "### 2.4 Pairplots "
   ]
  },
  {
   "cell_type": "markdown",
   "metadata": {},
   "source": [
    "Since our analysis is largely revoling around price and its relation to other variables, we can utilize seaborn's pairplot function.\n",
    "\n",
    "The first pairplot is price along with host variables. The second pairplot is price along with property details.\n",
    "\n"
   ]
  },
  {
   "cell_type": "code",
   "execution_count": 139,
   "metadata": {},
   "outputs": [
    {
     "name": "stderr",
     "output_type": "stream",
     "text": [
      "/anaconda3/envs/plotlytest/lib/python3.6/site-packages/numpy/lib/histograms.py:824: RuntimeWarning:\n",
      "\n",
      "invalid value encountered in greater_equal\n",
      "\n",
      "/anaconda3/envs/plotlytest/lib/python3.6/site-packages/numpy/lib/histograms.py:825: RuntimeWarning:\n",
      "\n",
      "invalid value encountered in less_equal\n",
      "\n"
     ]
    },
    {
     "data": {
      "image/png": "[encoded data removed]",
      "text/plain": [
       "<Figure size 900x900 with 30 Axes>"
      ]
     },
     "metadata": {
      "needs_background": "light"
     },
     "output_type": "display_data"
    }
   ],
   "source": [
    "# Pairplot of review variables\n",
    "review_pairplot_df = df[[  \"price\", \"host_is_superhost\",\"host_listings_count\", \"number_of_reviews\", \"review_scores_rating\", \"cancellation_policy\", \n",
    "               \"reviews_per_month\"]]\n",
    "\n",
    "sns.pairplot(review_pairplot_df);"
   ]
  },
  {
   "cell_type": "markdown",
   "metadata": {},
   "source": [
    "If a reviewer has a lot of reviews per month then the price is tending to be lower. The lowest scored hosts are also on the lower end of listing prices."
   ]
  },
  {
   "cell_type": "code",
   "execution_count": 145,
   "metadata": {},
   "outputs": [
    {
     "name": "stderr",
     "output_type": "stream",
     "text": [
      "/anaconda3/envs/plotlytest/lib/python3.6/site-packages/numpy/lib/histograms.py:824: RuntimeWarning:\n",
      "\n",
      "invalid value encountered in greater_equal\n",
      "\n",
      "/anaconda3/envs/plotlytest/lib/python3.6/site-packages/numpy/lib/histograms.py:825: RuntimeWarning:\n",
      "\n",
      "invalid value encountered in less_equal\n",
      "\n"
     ]
    },
    {
     "data": {
      "image/png": "[encoded data removed]",
      "text/plain": [
       "<Figure size 900x900 with 30 Axes>"
      ]
     },
     "metadata": {
      "needs_background": "light"
     },
     "output_type": "display_data"
    }
   ],
   "source": [
    "property_pairplot_df =  df[[ \"price\", \"accommodates\", \"bathrooms\", \"bedrooms\", \"beds\"]]\n",
    "\n",
    "sns.pairplot(property_pairplot_df);"
   ]
  },
  {
   "cell_type": "markdown",
   "metadata": {},
   "source": [
    "There appears to be some collinearity between the 'accomodates' variable and the other property details variables. "
   ]
  },
  {
   "cell_type": "markdown",
   "metadata": {},
   "source": [
    "### 2.5 Formatting Price column"
   ]
  },
  {
   "cell_type": "markdown",
   "metadata": {},
   "source": [
    "The 'price' variable is central to all three questions, so let's take a look at it to see if any cleaning is required"
   ]
  },
  {
   "cell_type": "code",
   "execution_count": 130,
   "metadata": {},
   "outputs": [
    {
     "data": {
      "text/html": [
       "<div>\n",
       "<style scoped>\n",
       "    .dataframe tbody tr th:only-of-type {\n",
       "        vertical-align: middle;\n",
       "    }\n",
       "\n",
       "    .dataframe tbody tr th {\n",
       "        vertical-align: top;\n",
       "    }\n",
       "\n",
       "    .dataframe thead th {\n",
       "        text-align: right;\n",
       "    }\n",
       "</style>\n",
       "<table border=\"1\" class=\"dataframe\">\n",
       "  <thead>\n",
       "    <tr style=\"text-align: right;\">\n",
       "      <th></th>\n",
       "      <th>price</th>\n",
       "    </tr>\n",
       "  </thead>\n",
       "  <tbody>\n",
       "    <tr>\n",
       "      <th>0</th>\n",
       "      <td>$85.00</td>\n",
       "    </tr>\n",
       "    <tr>\n",
       "      <th>1</th>\n",
       "      <td>$150.00</td>\n",
       "    </tr>\n",
       "    <tr>\n",
       "      <th>2</th>\n",
       "      <td>$975.00</td>\n",
       "    </tr>\n",
       "    <tr>\n",
       "      <th>3</th>\n",
       "      <td>$100.00</td>\n",
       "    </tr>\n",
       "    <tr>\n",
       "      <th>4</th>\n",
       "      <td>$450.00</td>\n",
       "    </tr>\n",
       "  </tbody>\n",
       "</table>\n",
       "</div>"
      ],
      "text/plain": [
       "     price\n",
       "0   $85.00\n",
       "1  $150.00\n",
       "2  $975.00\n",
       "3  $100.00\n",
       "4  $450.00"
      ]
     },
     "execution_count": 130,
     "metadata": {},
     "output_type": "execute_result"
    }
   ],
   "source": [
    "df[['price']].head()"
   ]
  },
  {
   "cell_type": "markdown",
   "metadata": {},
   "source": [
    "The price column has unwanted characters that would cause data processing issues later on, so these characters will be removed and datatype will be converted to float"
   ]
  },
  {
   "cell_type": "code",
   "execution_count": 131,
   "metadata": {},
   "outputs": [
    {
     "name": "stdout",
     "output_type": "stream",
     "text": [
      "count    3818.000000\n",
      "mean      127.976166\n",
      "std        90.250022\n",
      "min        20.000000\n",
      "25%        75.000000\n",
      "50%       100.000000\n",
      "75%       150.000000\n",
      "max      1000.000000\n",
      "Name: price, dtype: float64\n"
     ]
    }
   ],
   "source": [
    "df['price'] = df['price'].str.replace(\"[$, ]\", \"\").astype(\"float\")\n",
    "\n",
    "\n",
    "print(df.price.describe())"
   ]
  },
  {
   "cell_type": "markdown",
   "metadata": {},
   "source": [
    "Now that the price column has been formatted properly, the first two questions can be addressed."
   ]
  },
  {
   "cell_type": "markdown",
   "metadata": {},
   "source": [
    "# What are the distribution of listing prices by neighborhoods?"
   ]
  },
  {
   "cell_type": "code",
   "execution_count": 132,
   "metadata": {},
   "outputs": [
    {
     "data": {
      "application/vnd.plotly.v1+json": {
       "config": {
        "plotlyServerURL": "https://plot.ly"
       },
       "data": [
        {
         "name": "West Queen Anne",
         "opacity": 0.75,
         "type": "histogram",
         "x": [
          85,
          150,
          975,
          100,
          450,
          120,
          80,
          60,
          90,
          150,
          95,
          99,
          245,
          165,
          461,
          109,
          66,
          99,
          200,
          700,
          110,
          99,
          450,
          75,
          600,
          450,
          150,
          45,
          300,
          80,
          175,
          325,
          175,
          222,
          159,
          125,
          348,
          45,
          150,
          80,
          110,
          148,
          350,
          150,
          150,
          100,
          349,
          110,
          160,
          130,
          99,
          100,
          137,
          20,
          150,
          145,
          80,
          95,
          400,
          85,
          70,
          90,
          80,
          60,
          175
         ]
        },
        {
         "name": "Adams",
         "opacity": 0.75,
         "type": "histogram",
         "x": [
          170,
          85,
          465,
          175,
          50,
          60,
          59,
          47,
          145,
          70,
          55,
          95,
          125,
          65,
          25,
          40,
          149,
          125,
          55,
          129,
          100,
          150,
          50,
          99,
          150,
          105,
          218,
          80,
          126,
          115,
          225,
          89,
          225,
          50,
          134,
          75,
          65,
          375,
          97,
          145,
          129,
          197,
          120,
          200,
          135,
          70,
          150,
          200,
          60,
          180,
          69,
          90,
          80,
          65,
          150,
          195,
          149,
          224,
          115,
          55,
          338,
          79,
          80,
          85,
          80,
          49,
          100,
          79,
          75,
          57
         ]
        },
        {
         "name": "West Woodland",
         "opacity": 0.75,
         "type": "histogram",
         "x": [
          99,
          55,
          96,
          99,
          79,
          115,
          350,
          295,
          70,
          53,
          110,
          225,
          35,
          55,
          45,
          79,
          133,
          65,
          61,
          200,
          70,
          52,
          50,
          275,
          149,
          199,
          89,
          225,
          120,
          85,
          80,
          89,
          99,
          110,
          180,
          150,
          70,
          70,
          75,
          85,
          80,
          90,
          80,
          75,
          80,
          70,
          350,
          95,
          90,
          435,
          250,
          65,
          95,
          110,
          50,
          95,
          100,
          89,
          116,
          150,
          275,
          180,
          97,
          200
         ]
        },
        {
         "name": "East Queen Anne",
         "opacity": 0.75,
         "type": "histogram",
         "x": [
          120,
          109,
          115,
          199,
          150,
          100,
          250,
          39,
          69,
          145,
          98,
          130,
          85,
          85,
          73,
          150,
          85,
          190,
          68,
          149,
          349,
          105,
          145,
          150,
          275,
          165,
          196,
          195,
          200,
          90,
          100,
          125,
          250,
          130,
          209,
          110,
          90,
          90,
          130,
          175,
          749,
          115,
          165,
          109,
          80,
          285,
          80,
          75,
          68,
          85,
          125,
          110,
          600,
          235,
          75,
          95,
          103,
          120,
          95,
          143,
          99,
          142,
          150,
          295,
          335,
          60,
          250,
          499,
          350,
          156,
          200,
          180,
          103,
          99,
          94,
          160,
          129,
          219,
          91,
          75,
          99,
          87
         ]
        },
        {
         "name": "Wallingford",
         "opacity": 0.75,
         "type": "histogram",
         "x": [
          300,
          150,
          149,
          75,
          95,
          100,
          250,
          105,
          74,
          140,
          130,
          110,
          199,
          209,
          100,
          110,
          104,
          200,
          99,
          90,
          135,
          122,
          80,
          158,
          90,
          100,
          89,
          125,
          42,
          65,
          100,
          40,
          185,
          40,
          70,
          40,
          70,
          110,
          99,
          680,
          195,
          55,
          90,
          119,
          175,
          65,
          75,
          126,
          70,
          90,
          129,
          225,
          40,
          50,
          40,
          40,
          95,
          175,
          160,
          40,
          40,
          120,
          66,
          55,
          350,
          85,
          175,
          105,
          55,
          150,
          40,
          59,
          80,
          200,
          60,
          59,
          575,
          40,
          139,
          70,
          85,
          259,
          39,
          70,
          166,
          99,
          110,
          100,
          250,
          150,
          200,
          95,
          40,
          215,
          110,
          249,
          295,
          90,
          40,
          85,
          40,
          40,
          245,
          130,
          210,
          439,
          90,
          95,
          109,
          40,
          175,
          80,
          105,
          400,
          100,
          40,
          160,
          55,
          55,
          150,
          55,
          95,
          155,
          55,
          40,
          250,
          145,
          54,
          99,
          254,
          100,
          65,
          150,
          140,
          45,
          74,
          60,
          350,
          135,
          85,
          310,
          40,
          215,
          245,
          65,
          85,
          95,
          57,
          75,
          120,
          120,
          40,
          490,
          50,
          200,
          40,
          255,
          95,
          160,
          55,
          85,
          325,
          144,
          100,
          115,
          55,
          95
         ]
        },
        {
         "name": "North Queen Anne",
         "opacity": 0.75,
         "type": "histogram",
         "x": [
          175,
          95,
          100,
          46,
          50,
          445,
          75,
          100,
          130,
          235,
          100,
          120,
          80,
          110,
          395,
          88,
          55,
          145,
          425,
          114,
          110,
          300,
          117,
          275,
          85,
          300,
          53,
          107,
          348,
          89,
          89,
          89,
          209,
          76,
          74,
          250,
          180,
          179,
          115,
          140,
          150,
          70,
          300,
          99,
          89,
          100,
          84,
          97,
          116,
          150,
          110,
          265,
          115,
          100
         ]
        },
        {
         "name": "Green Lake",
         "opacity": 0.75,
         "type": "histogram",
         "x": [
          109,
          60,
          249,
          250,
          100,
          74,
          235,
          99,
          96,
          92,
          85,
          55,
          55,
          80,
          195,
          145,
          180,
          50,
          160,
          140,
          140,
          40,
          145,
          225,
          325,
          199,
          450,
          175,
          550,
          149,
          130,
          85,
          300,
          79,
          59,
          140,
          60,
          215,
          100,
          40,
          99,
          45,
          75,
          119,
          99,
          225,
          85,
          135,
          335,
          79,
          90,
          111,
          110,
          325
         ]
        },
        {
         "name": "Westlake",
         "opacity": 0.75,
         "type": "histogram",
         "x": [
          85,
          190,
          65,
          250,
          69,
          400,
          150,
          200,
          141,
          85,
          775,
          195,
          249,
          95,
          122,
          170,
          65
         ]
        },
        {
         "name": "Mann",
         "opacity": 0.75,
         "type": "histogram",
         "x": [
          90,
          88,
          125,
          145,
          275,
          60,
          95,
          140,
          250,
          225,
          60,
          95,
          65,
          78,
          59,
          400,
          55,
          129,
          65,
          175,
          160,
          75,
          80,
          109,
          95,
          85,
          99,
          90,
          73,
          400,
          170,
          48,
          90,
          82,
          250,
          199,
          105,
          250,
          75,
          250,
          175,
          95,
          150,
          65,
          120,
          300,
          89,
          109,
          75,
          99,
          150,
          175,
          120,
          45,
          150,
          95,
          50,
          129,
          295,
          99,
          175,
          150,
          109,
          85,
          80,
          115,
          85
         ]
        },
        {
         "name": "Madrona",
         "opacity": 0.75,
         "type": "histogram",
         "x": [
          200,
          169,
          130,
          79,
          125,
          80,
          66,
          97,
          58,
          125,
          50,
          350,
          375,
          240,
          189,
          250,
          90,
          125,
          155,
          195,
          69,
          200,
          75,
          225,
          135,
          85,
          110,
          110,
          250,
          85,
          50,
          78,
          95,
          95,
          295,
          175,
          90,
          68,
          74,
          80,
          500,
          115,
          500,
          115,
          125,
          350,
          140
         ]
        },
        {
         "name": "University District",
         "opacity": 0.75,
         "type": "histogram",
         "x": [
          80,
          145,
          150,
          65,
          50,
          65,
          45,
          35,
          41,
          59,
          49,
          47,
          65,
          41,
          35,
          43,
          44,
          99,
          45,
          98,
          109,
          75,
          88,
          98,
          75,
          40,
          85,
          100,
          275,
          105,
          78,
          150,
          95,
          155,
          109,
          80,
          80,
          125,
          55,
          98,
          82,
          70,
          55,
          110,
          350,
          295,
          105,
          85,
          75,
          95,
          75,
          45,
          30,
          42,
          250,
          43,
          125,
          112,
          85,
          63,
          41,
          79,
          70,
          85,
          110,
          53,
          75,
          125,
          90,
          85,
          85,
          88,
          92,
          28,
          70,
          78,
          30,
          93,
          65,
          120,
          40,
          43,
          70,
          90,
          90,
          85,
          115,
          89,
          185,
          85,
          135,
          95,
          306,
          29,
          47,
          50,
          105,
          83,
          73,
          92,
          69,
          59,
          145,
          95,
          150,
          85,
          98,
          110,
          42,
          95,
          42,
          250,
          42,
          40,
          80,
          40,
          275,
          47,
          118,
          105,
          150,
          250
         ]
        },
        {
         "name": "Harrison/Denny-Blaine",
         "opacity": 0.75,
         "type": "histogram",
         "x": [
          88,
          139,
          128,
          110,
          210,
          155,
          168,
          62,
          80,
          105,
          50,
          70,
          165,
          79
         ]
        },
        {
         "name": "Minor",
         "opacity": 0.75,
         "type": "histogram",
         "x": [
          95,
          90,
          380,
          225,
          60,
          100,
          157,
          110,
          150,
          203,
          145,
          85,
          79,
          40,
          49,
          56,
          330,
          150,
          350,
          145,
          67,
          69,
          52,
          75,
          90,
          130,
          65,
          155,
          79,
          60,
          115,
          60,
          70,
          80,
          70,
          55,
          72,
          67,
          58,
          70,
          81,
          58,
          58,
          100,
          110,
          75,
          124,
          150,
          65,
          225,
          70,
          105,
          158,
          69,
          80,
          99,
          165,
          70,
          118,
          100,
          90,
          81,
          70,
          69,
          90,
          75,
          70,
          179,
          105,
          110,
          150,
          75,
          75,
          111,
          108,
          82,
          115,
          220,
          114,
          59,
          54,
          75,
          90,
          95,
          160,
          175,
          37,
          199,
          200,
          175,
          120,
          160,
          125,
          150,
          175,
          100,
          90,
          95,
          92,
          90,
          79,
          72,
          115,
          270,
          65,
          300,
          122,
          87,
          200,
          156,
          90,
          325,
          115,
          425,
          119,
          220,
          85,
          100,
          99,
          120,
          150,
          75,
          90,
          125,
          90,
          200,
          200,
          287,
          90,
          90,
          150,
          119,
          150,
          170,
          150
         ]
        },
        {
         "name": "Leschi",
         "opacity": 0.75,
         "type": "histogram",
         "x": [
          279,
          55,
          125,
          129,
          90,
          199,
          65,
          200,
          92,
          257,
          79,
          200,
          80,
          85,
          65,
          105,
          59,
          59,
          75,
          56,
          100,
          85,
          135,
          200,
          163,
          83,
          210,
          59,
          135,
          75,
          109,
          55,
          500,
          55,
          400,
          105,
          39,
          50,
          129,
          44,
          350,
          300,
          53,
          60,
          285,
          210,
          159,
          225,
          66,
          80,
          79,
          120,
          49
         ]
        },
        {
         "name": "Atlantic",
         "opacity": 0.75,
         "type": "histogram",
         "x": [
          122,
          90,
          196,
          115,
          150,
          125,
          175,
          60,
          70,
          175,
          100,
          69,
          69,
          35,
          140,
          68,
          55,
          100,
          70,
          90,
          275,
          60,
          125,
          100,
          115,
          90,
          90,
          250,
          119,
          95,
          218,
          120,
          64,
          80,
          170,
          168,
          60,
          85,
          70,
          115,
          90,
          125,
          80,
          90,
          149,
          250,
          69,
          65,
          40,
          60,
          149,
          115,
          79
         ]
        },
        {
         "name": "Pike-Market",
         "opacity": 0.75,
         "type": "histogram",
         "x": [
          129,
          100,
          76,
          95,
          100,
          137,
          38,
          557,
          160,
          179,
          41,
          97,
          99,
          149,
          199,
          157,
          170,
          85,
          299,
          95,
          99,
          165,
          114,
          311,
          160,
          100,
          150,
          357
         ]
        },
        {
         "name": "Eastlake",
         "opacity": 0.75,
         "type": "histogram",
         "x": [
          135,
          110,
          75,
          138,
          129,
          120,
          95,
          140,
          95,
          91,
          135,
          95,
          140,
          125,
          150,
          129,
          50,
          85,
          82,
          103,
          59,
          150,
          115,
          100,
          300,
          68,
          52,
          91,
          59,
          129,
          125,
          195,
          58,
          600,
          89,
          100,
          125,
          82,
          225,
          55,
          90,
          134,
          42,
          125,
          115
         ]
        },
        {
         "name": "South Lake Union",
         "opacity": 0.75,
         "type": "histogram",
         "x": [
          125,
          55,
          550,
          90,
          100,
          95,
          110,
          80,
          100,
          90,
          100,
          88,
          59,
          183,
          135,
          220,
          183,
          115,
          100,
          183,
          115,
          75,
          110,
          183,
          220,
          119,
          75
         ]
        },
        {
         "name": "Lawton Park",
         "opacity": 0.75,
         "type": "histogram",
         "x": [
          200,
          229,
          333,
          41,
          70,
          55,
          70,
          97,
          350,
          200,
          225,
          115,
          40,
          150,
          46,
          64,
          125,
          250,
          147,
          30,
          150,
          78,
          120,
          280,
          75,
          178,
          480,
          129,
          50,
          50
         ]
        },
        {
         "name": "Briarcliff",
         "opacity": 0.75,
         "type": "histogram",
         "x": [
          175,
          88,
          100,
          225,
          200,
          250,
          95,
          172,
          99,
          99,
          175,
          350,
          69,
          375
         ]
        },
        {
         "name": "Belltown",
         "opacity": 0.75,
         "type": "histogram",
         "x": [
          144,
          999,
          138,
          145,
          125,
          45,
          35,
          225,
          50,
          120,
          100,
          120,
          249,
          95,
          150,
          130,
          130,
          105,
          105,
          175,
          100,
          129,
          90,
          350,
          199,
          75,
          110,
          80,
          150,
          95,
          139,
          139,
          275,
          135,
          128,
          107,
          150,
          100,
          100,
          120,
          125,
          120,
          150,
          129,
          140,
          150,
          149,
          229,
          180,
          93,
          110,
          126,
          139,
          157,
          90,
          90,
          125,
          95,
          197,
          155,
          195,
          150,
          175,
          156,
          320,
          200,
          200,
          165,
          148,
          127,
          405,
          219,
          899,
          150,
          239,
          150,
          140,
          117,
          99,
          170,
          100,
          300,
          250,
          197,
          175,
          130,
          131,
          110,
          125,
          200,
          99,
          700,
          200,
          89,
          142,
          125,
          245,
          99,
          117,
          215,
          215,
          275,
          175,
          195,
          113,
          700,
          139,
          135,
          105,
          100,
          106,
          475,
          143,
          205,
          80,
          120,
          139,
          135,
          155,
          90,
          139,
          181,
          99,
          175,
          127,
          150,
          143,
          399,
          193,
          160,
          110,
          135,
          165,
          139,
          189,
          140,
          129,
          150,
          245,
          175,
          127,
          444,
          105,
          127,
          122,
          175,
          99,
          187,
          150,
          100,
          186,
          171,
          181,
          149,
          270,
          195,
          149,
          150,
          230,
          183,
          165,
          335,
          75,
          107,
          167,
          225,
          120,
          110,
          425,
          139,
          149,
          149,
          130,
          115,
          159,
          120,
          100,
          99,
          169,
          110,
          170,
          115,
          112,
          120,
          239,
          135,
          125,
          150,
          197,
          79,
          106,
          139,
          150,
          149,
          115,
          175,
          175,
          124,
          65,
          229,
          125,
          40,
          183,
          169,
          155,
          75,
          89,
          35,
          115,
          115,
          165,
          115,
          250,
          166,
          105,
          145,
          250,
          139,
          82,
          147,
          150,
          187,
          80,
          130,
          130,
          100,
          95,
          68,
          150,
          165,
          117,
          168,
          75,
          79
         ]
        },
        {
         "name": "International District",
         "opacity": 0.75,
         "type": "histogram",
         "x": [
          89,
          80,
          120,
          40,
          40,
          65,
          89,
          79,
          69,
          69,
          74,
          65,
          250,
          250,
          175,
          99,
          130
         ]
        },
        {
         "name": "Central Business District",
         "opacity": 0.75,
         "type": "histogram",
         "x": [
          120,
          190,
          280,
          99,
          99,
          159,
          150,
          139,
          180,
          151,
          99,
          219,
          100,
          175,
          170,
          115,
          100,
          110,
          59,
          110,
          199,
          170,
          135,
          300,
          219,
          300,
          235,
          59,
          156,
          147,
          135,
          128,
          104,
          114,
          200,
          132,
          150,
          250,
          40,
          126,
          365,
          99,
          350,
          143,
          110,
          100,
          149,
          175,
          150,
          143,
          121,
          150,
          149,
          168,
          245,
          129,
          245,
          89,
          175,
          144,
          188,
          179,
          129,
          170,
          150,
          276,
          135,
          150,
          140,
          121,
          175,
          147,
          149,
          150,
          300,
          115,
          290,
          129,
          175,
          220,
          90,
          120,
          325,
          230,
          127,
          168,
          117,
          85,
          122,
          142,
          237,
          350,
          99,
          110,
          300,
          225,
          99,
          65,
          275,
          183,
          110,
          156,
          169
         ]
        },
        {
         "name": "First Hill",
         "opacity": 0.75,
         "type": "histogram",
         "x": [
          150,
          125,
          175,
          155,
          151,
          175,
          196,
          110,
          140,
          175,
          250,
          90,
          105,
          95,
          139,
          115,
          185,
          175,
          75,
          85,
          129,
          70,
          79,
          109,
          100,
          155,
          87,
          165,
          100,
          78,
          150,
          99,
          80,
          185,
          169,
          129,
          80,
          77,
          99,
          119,
          129,
          145,
          250,
          99,
          230,
          109,
          85,
          120,
          150,
          115,
          130,
          129,
          129,
          195,
          500,
          195,
          250,
          100,
          110,
          121,
          139,
          120,
          110,
          69,
          100,
          150,
          215,
          40,
          103,
          175,
          139,
          66,
          85,
          65,
          100,
          174,
          200,
          120,
          90,
          78,
          99,
          174,
          110,
          72,
          190,
          100,
          151,
          175,
          250,
          140,
          120,
          99,
          180,
          109,
          140,
          75,
          129,
          135,
          150,
          139,
          110,
          179,
          120,
          245,
          150,
          105,
          209,
          125
         ]
        },
        {
         "name": "Yesler Terrace",
         "opacity": 0.75,
         "type": "histogram",
         "x": [
          145,
          115,
          89,
          65,
          165,
          180,
          140,
          100,
          179,
          65,
          75,
          150,
          169,
          112,
          68,
          89,
          70
         ]
        },
        {
         "name": "Pioneer Square",
         "opacity": 0.75,
         "type": "histogram",
         "x": [
          160,
          128,
          249,
          50,
          175,
          250,
          110,
          144,
          149,
          350,
          95,
          120,
          199,
          145,
          75,
          350,
          65,
          149,
          150,
          150,
          160,
          170,
          300
         ]
        },
        {
         "name": "Gatewood",
         "opacity": 0.75,
         "type": "histogram",
         "x": [
          59,
          88,
          75,
          95,
          125,
          245,
          153,
          85,
          65,
          59,
          45,
          150,
          75,
          250,
          125,
          80,
          150,
          75,
          195,
          57,
          159,
          325
         ]
        },
        {
         "name": "Arbor Heights",
         "opacity": 0.75,
         "type": "histogram",
         "x": [
          100,
          54,
          55,
          225,
          200
         ]
        },
        {
         "name": "Alki",
         "opacity": 0.75,
         "type": "histogram",
         "x": [
          240,
          100,
          100,
          119,
          219,
          249,
          265,
          124,
          100,
          250,
          40,
          100,
          99,
          135,
          90,
          90,
          269,
          325,
          350,
          95,
          120,
          79,
          130,
          129,
          399,
          350,
          42,
          95,
          109,
          225,
          235,
          85,
          150,
          218,
          120,
          225,
          350,
          250,
          100,
          79,
          300,
          59
         ]
        },
        {
         "name": "North Admiral",
         "opacity": 0.75,
         "type": "histogram",
         "x": [
          69,
          180,
          450,
          219,
          70,
          140,
          200,
          54,
          60,
          66,
          79,
          195,
          105,
          100,
          100,
          93,
          85,
          135,
          195,
          95,
          129,
          225,
          350,
          120,
          200,
          69,
          199,
          225,
          81,
          495,
          65,
          101,
          90,
          90,
          185,
          99,
          99,
          89,
          45,
          130,
          90,
          200,
          225,
          90,
          90,
          79,
          100,
          225,
          299
         ]
        },
        {
         "name": "Crown Hill",
         "opacity": 0.75,
         "type": "histogram",
         "x": [
          70,
          28,
          65,
          69,
          41,
          42,
          100,
          100,
          45,
          65,
          170,
          119,
          100,
          114,
          100,
          68,
          275,
          35,
          75,
          95,
          65
         ]
        },
        {
         "name": "Fairmount Park",
         "opacity": 0.75,
         "type": "histogram",
         "x": [
          125,
          75,
          72,
          165,
          125,
          95,
          125,
          120,
          75,
          299,
          200,
          125,
          250,
          75,
          119,
          370,
          117,
          85,
          200,
          129,
          70,
          65,
          110,
          109,
          88,
          75,
          65,
          75,
          136
         ]
        },
        {
         "name": "Genesee",
         "opacity": 0.75,
         "type": "histogram",
         "x": [
          139,
          79,
          95,
          55,
          200,
          49,
          65,
          85,
          39,
          75,
          75,
          125,
          215,
          99,
          165,
          165,
          55,
          150,
          249,
          51,
          129,
          79,
          65,
          49,
          180,
          30,
          250,
          150,
          375,
          56,
          300,
          45,
          110,
          99
         ]
        },
        {
         "name": "Interbay",
         "opacity": 0.75,
         "type": "histogram",
         "x": [
          53,
          75,
          75,
          90,
          69,
          250,
          95,
          50,
          150,
          150,
          150
         ]
        },
        {
         "name": "Industrial District",
         "opacity": 0.75,
         "type": "histogram",
         "x": [
          150,
          25,
          265,
          320,
          150,
          130
         ]
        },
        {
         "name": "Mid-Beacon Hill",
         "opacity": 0.75,
         "type": "histogram",
         "x": [
          65,
          45,
          80,
          50,
          89,
          35,
          55,
          35,
          35,
          58,
          170,
          85,
          38,
          104,
          150,
          55,
          130,
          38,
          122,
          55,
          109,
          199,
          100,
          45,
          80,
          80,
          99,
          58,
          69,
          65
         ]
        },
        {
         "name": "South Beacon Hill",
         "opacity": 0.75,
         "type": "histogram",
         "x": [
          38,
          60,
          60,
          175
         ]
        },
        {
         "name": "Greenwood",
         "opacity": 0.75,
         "type": "histogram",
         "x": [
          280,
          80,
          85,
          215,
          120,
          105,
          90,
          125,
          105,
          98,
          44,
          34,
          50,
          85,
          62,
          49,
          50,
          50,
          70,
          40,
          40,
          38,
          26,
          25,
          49,
          129,
          175,
          42,
          126,
          299,
          99,
          175,
          125,
          120,
          42,
          56,
          55,
          55,
          235,
          100,
          60,
          67,
          95,
          115,
          50,
          199,
          86,
          175,
          55,
          68,
          60,
          90,
          139,
          51,
          50,
          115,
          80,
          95,
          85,
          75,
          100,
          63,
          100,
          135,
          125,
          69,
          280,
          160,
          75,
          98,
          109,
          125,
          225,
          69,
          75,
          300,
          60,
          43,
          85,
          110,
          52,
          100,
          50,
          35,
          66,
          99,
          89,
          150,
          90
         ]
        },
        {
         "name": "Holly Park",
         "opacity": 0.75,
         "type": "histogram",
         "x": [
          45,
          60,
          50,
          215,
          138,
          375
         ]
        },
        {
         "name": "Fauntleroy",
         "opacity": 0.75,
         "type": "histogram",
         "x": [
          270,
          495,
          165,
          129,
          75,
          80,
          177,
          85,
          87,
          78
         ]
        },
        {
         "name": "North Beacon Hill",
         "opacity": 0.75,
         "type": "histogram",
         "x": [
          60,
          80,
          180,
          39,
          60,
          42,
          126,
          60,
          99,
          89,
          79,
          169,
          79,
          69,
          60,
          65,
          260,
          100,
          90,
          59,
          70,
          65,
          85,
          74,
          99,
          399,
          300,
          65,
          79,
          75,
          75,
          219,
          165,
          87,
          169,
          75,
          30,
          55,
          45,
          50,
          149,
          99,
          69,
          69,
          80,
          55,
          75,
          50,
          69,
          112,
          150,
          65,
          104,
          60,
          60,
          105,
          144,
          69,
          108,
          159,
          85,
          135,
          89,
          120,
          70,
          150,
          120,
          65,
          60,
          36,
          95,
          75,
          130,
          63,
          60,
          37,
          85,
          85
         ]
        },
        {
         "name": "Mount Baker",
         "opacity": 0.75,
         "type": "histogram",
         "x": [
          88,
          300,
          49,
          55,
          49,
          40,
          95,
          70,
          74,
          90,
          150,
          175,
          42,
          59,
          125,
          85,
          80,
          125,
          90,
          125,
          70,
          95,
          99,
          155,
          80,
          140,
          50,
          139,
          126,
          105,
          150,
          80,
          92,
          69,
          75,
          105,
          150,
          150,
          54,
          52,
          150,
          80,
          200,
          68,
          49,
          39,
          95,
          89,
          62,
          81
         ]
        },
        {
         "name": "Brighton",
         "opacity": 0.75,
         "type": "histogram",
         "x": [
          84,
          275,
          39,
          105,
          105,
          40,
          34,
          35,
          65,
          75,
          199,
          45,
          85
         ]
        },
        {
         "name": "South Delridge",
         "opacity": 0.75,
         "type": "histogram",
         "x": [
          150,
          41,
          45,
          99,
          95,
          79,
          70,
          50,
          48,
          65,
          55,
          99
         ]
        },
        {
         "name": "View Ridge",
         "opacity": 0.75,
         "type": "histogram",
         "x": [
          150,
          110,
          120,
          49,
          244,
          125,
          175
         ]
        },
        {
         "name": "Dunlap",
         "opacity": 0.75,
         "type": "histogram",
         "x": [
          38,
          70,
          150,
          65,
          99,
          295,
          95,
          120,
          45,
          68,
          55,
          40,
          36,
          48,
          90,
          50,
          60,
          100,
          200,
          42
         ]
        },
        {
         "name": "Rainier Beach",
         "opacity": 0.75,
         "type": "histogram",
         "x": [
          35,
          67,
          55,
          65,
          169,
          75,
          88,
          60,
          35,
          57,
          37,
          60,
          39,
          42,
          79,
          118,
          60,
          93
         ]
        },
        {
         "name": "Columbia City",
         "opacity": 0.75,
         "type": "histogram",
         "x": [
          69,
          69,
          65,
          50,
          65,
          100,
          65,
          90,
          80,
          99,
          75,
          110,
          125,
          90,
          40,
          50,
          97,
          195,
          100,
          195,
          150,
          95,
          72,
          100,
          55,
          65,
          124,
          70,
          65,
          65,
          72,
          115,
          220,
          45,
          90,
          90,
          25,
          175,
          150,
          85,
          49,
          110,
          59,
          65,
          70,
          65,
          85,
          90,
          70,
          175,
          199,
          109,
          70,
          58,
          35,
          300,
          95,
          50
         ]
        },
        {
         "name": "Seward Park",
         "opacity": 0.75,
         "type": "histogram",
         "x": [
          70,
          110,
          200,
          100,
          63,
          70,
          60,
          39,
          36,
          100,
          250,
          38,
          65,
          68,
          110,
          100,
          99,
          34,
          41,
          98,
          188,
          85,
          80,
          150,
          160,
          99,
          75,
          75,
          65,
          95,
          90,
          250,
          115,
          93,
          45,
          168,
          127,
          35,
          65,
          279,
          93,
          65,
          150,
          375
         ]
        },
        {
         "name": "North Delridge",
         "opacity": 0.75,
         "type": "histogram",
         "x": [
          85,
          50,
          55,
          35,
          85,
          75,
          70,
          65,
          99,
          75,
          100,
          129,
          80,
          85,
          95,
          69,
          42,
          70,
          55,
          47,
          148,
          95,
          49,
          65,
          50,
          58,
          55,
          129,
          95,
          49,
          85,
          100
         ]
        },
        {
         "name": "Maple Leaf",
         "opacity": 0.75,
         "type": "histogram",
         "x": [
          59,
          55,
          55,
          51,
          200,
          100,
          79,
          90,
          30,
          35,
          45,
          60,
          50,
          95,
          64,
          51,
          75,
          94,
          100,
          90,
          69,
          139,
          55,
          50,
          120,
          59,
          135,
          110,
          137,
          67,
          110,
          65,
          37,
          65,
          130,
          60,
          79,
          72,
          95,
          80,
          109,
          50
         ]
        },
        {
         "name": "Ravenna",
         "opacity": 0.75,
         "type": "histogram",
         "x": [
          85,
          115,
          98,
          109,
          28,
          39,
          63,
          35,
          42,
          29,
          70,
          74,
          75,
          85,
          50,
          125,
          93,
          86,
          80,
          280,
          138,
          100,
          45,
          39,
          127,
          110,
          40,
          40,
          90,
          125,
          39,
          80,
          325,
          95,
          115,
          245,
          69,
          129,
          28,
          49,
          110,
          105,
          38,
          130,
          39,
          80,
          110,
          100,
          50,
          75,
          85,
          70,
          95,
          50,
          115,
          45,
          60,
          95,
          39,
          88,
          175,
          80,
          35,
          84,
          49,
          196,
          55
         ]
        },
        {
         "name": "Riverview",
         "opacity": 0.75,
         "type": "histogram",
         "x": [
          120,
          55,
          60,
          129,
          90,
          70,
          65,
          55
         ]
        },
        {
         "name": "Portage Bay",
         "opacity": 0.75,
         "type": "histogram",
         "x": [
          120,
          525,
          99,
          90,
          750,
          250,
          125,
          380,
          130,
          135,
          257,
          90,
          160,
          79
         ]
        },
        {
         "name": "Bryant",
         "opacity": 0.75,
         "type": "histogram",
         "x": [
          66,
          65,
          60,
          295,
          79,
          250,
          58,
          250,
          50,
          89,
          47,
          189,
          175,
          95,
          80,
          95,
          65,
          150,
          94,
          109,
          62,
          150,
          185,
          64,
          100,
          125,
          45,
          180,
          60
         ]
        },
        {
         "name": "Montlake",
         "opacity": 0.75,
         "type": "histogram",
         "x": [
          125,
          415,
          129,
          130,
          55,
          160,
          55,
          115,
          260,
          110,
          750,
          55,
          89,
          200,
          85,
          400,
          100,
          125,
          115
         ]
        },
        {
         "name": "Broadway",
         "opacity": 0.75,
         "type": "histogram",
         "x": [
          50,
          59,
          122,
          175,
          69,
          150,
          80,
          95,
          100,
          175,
          200,
          195,
          145,
          100,
          90,
          150,
          550,
          162,
          75,
          185,
          50,
          130,
          230,
          79,
          85,
          70,
          85,
          75,
          95,
          62,
          119,
          149,
          139,
          150,
          148,
          79,
          69,
          147,
          256,
          129,
          59,
          79,
          150,
          175,
          99,
          100,
          75,
          69,
          103,
          80,
          90,
          150,
          69,
          120,
          65,
          99,
          110,
          395,
          98,
          325,
          90,
          110,
          70,
          210,
          49,
          120,
          210,
          62,
          70,
          90,
          99,
          58,
          81,
          99,
          150,
          64,
          160,
          155,
          135,
          275,
          85,
          85,
          75,
          120,
          135,
          110,
          79,
          79,
          245,
          220,
          109,
          79,
          45,
          58,
          100,
          80,
          100,
          139,
          169,
          114,
          85,
          100,
          125,
          190,
          100,
          40,
          40,
          53,
          250,
          65,
          55,
          53,
          55,
          49,
          75,
          89,
          90,
          250,
          199,
          95,
          89,
          110,
          155,
          119,
          25,
          159,
          125,
          25,
          225,
          140,
          89,
          190,
          99,
          49,
          100,
          58,
          200,
          150,
          59,
          65,
          80,
          69,
          75,
          97,
          174,
          78,
          89,
          100,
          125,
          130,
          132,
          119,
          150,
          115,
          99,
          99,
          120,
          70,
          150,
          145,
          118,
          100,
          100,
          65,
          115,
          149,
          59,
          155,
          100,
          175,
          70,
          84,
          175,
          167,
          99,
          100,
          259,
          139,
          185,
          99,
          90,
          250,
          85,
          100,
          80,
          260,
          125,
          119,
          182,
          69,
          90,
          69,
          130,
          135,
          82,
          212,
          47,
          100,
          100,
          95,
          239,
          75,
          75,
          96,
          90,
          80,
          200,
          119,
          69,
          85,
          69,
          85,
          100,
          150,
          140,
          150,
          100,
          550,
          69,
          119,
          350,
          69,
          48,
          69,
          61,
          52,
          95,
          60,
          225,
          60,
          75,
          100,
          93,
          165,
          139,
          150,
          350,
          125,
          69,
          138,
          138,
          95,
          145,
          39,
          115,
          100,
          175,
          55,
          82,
          360,
          85,
          150,
          68,
          600,
          149,
          62,
          111,
          120,
          96,
          150,
          100,
          100,
          105,
          209,
          250,
          82,
          110,
          125,
          109,
          198,
          160,
          126,
          99,
          49,
          99,
          100,
          82,
          80,
          65,
          80,
          39,
          49,
          125,
          150,
          90,
          69,
          104,
          180,
          150,
          240,
          70,
          99,
          99,
          673,
          98,
          105,
          63,
          120,
          78,
          195,
          200,
          79,
          69,
          195,
          119,
          75,
          99,
          149,
          199,
          69,
          69,
          49,
          239,
          49,
          29,
          68,
          134,
          169,
          120,
          204,
          295,
          152,
          69,
          420,
          81,
          25,
          195,
          169,
          95,
          100,
          85,
          400,
          120,
          175,
          200,
          250,
          69,
          129,
          59,
          69,
          75,
          71,
          49,
          90,
          140,
          95,
          100,
          150,
          89,
          140,
          150,
          69,
          125,
          110,
          152,
          105,
          49,
          68,
          100,
          120,
          120,
          110,
          160,
          105,
          82,
          110,
          126,
          65,
          99,
          85,
          199,
          250,
          159,
          125,
          45,
          110,
          109,
          110,
          119,
          115,
          60,
          100,
          150,
          115,
          139,
          100,
          300,
          98,
          200,
          89,
          60,
          144,
          110,
          90,
          189,
          99,
          175
         ]
        },
        {
         "name": "Loyal Heights",
         "opacity": 0.75,
         "type": "histogram",
         "x": [
          119,
          80,
          105,
          98,
          99,
          49,
          90,
          55,
          85,
          46,
          60,
          46,
          69,
          75,
          95,
          55,
          90,
          49,
          115,
          49,
          220,
          135,
          79,
          99,
          435,
          110,
          130,
          220,
          95,
          105,
          60,
          250,
          130,
          95,
          75,
          75,
          265,
          105,
          100,
          175,
          65,
          99,
          150,
          299,
          45,
          47,
          38,
          150,
          80,
          69,
          89,
          70
         ]
        },
        {
         "name": "Victory Heights",
         "opacity": 0.75,
         "type": "histogram",
         "x": [
          40,
          106,
          100,
          60,
          70,
          50,
          45,
          119,
          200,
          65,
          50,
          60,
          60,
          129,
          68
         ]
        },
        {
         "name": "Matthews Beach",
         "opacity": 0.75,
         "type": "histogram",
         "x": [
          60,
          51,
          50,
          150,
          125,
          119,
          87,
          130,
          80,
          65,
          250,
          159,
          60,
          91,
          125,
          43,
          68,
          70,
          252
         ]
        },
        {
         "name": "Whittier Heights",
         "opacity": 0.75,
         "type": "histogram",
         "x": [
          71,
          99,
          140,
          105,
          115,
          60,
          125,
          90,
          150,
          200,
          135,
          35,
          400,
          115,
          86,
          150,
          225,
          118,
          58,
          375,
          89,
          80,
          65,
          115,
          69,
          75
         ]
        },
        {
         "name": "Meadowbrook",
         "opacity": 0.75,
         "type": "histogram",
         "x": [
          47,
          50,
          80,
          60,
          55,
          250,
          89,
          68,
          189
         ]
        },
        {
         "name": "Olympic Hills",
         "opacity": 0.75,
         "type": "histogram",
         "x": [
          35,
          55,
          65,
          42,
          55,
          80,
          56,
          50,
          93,
          54,
          240,
          62,
          40,
          72,
          95,
          53
         ]
        },
        {
         "name": "Roosevelt",
         "opacity": 0.75,
         "type": "histogram",
         "x": [
          65,
          80,
          105,
          40,
          93,
          76,
          100,
          105,
          82,
          209,
          109,
          110,
          1000,
          60,
          80,
          90,
          125,
          110,
          86,
          165,
          149,
          84,
          139,
          33,
          129,
          59,
          90,
          150,
          94,
          39
         ]
        },
        {
         "name": "Lower Queen Anne",
         "opacity": 0.75,
         "type": "histogram",
         "x": [
          125,
          65,
          110,
          75,
          100,
          99,
          103,
          105,
          110,
          175,
          120,
          275,
          65,
          100,
          95,
          100,
          135,
          200,
          145,
          145,
          96,
          498,
          110,
          119,
          119,
          217,
          99,
          95,
          165,
          85,
          200,
          120,
          240,
          275,
          103,
          165,
          120,
          200,
          120,
          200,
          115,
          125,
          75,
          115,
          95,
          259,
          80,
          130,
          89,
          130,
          150,
          72,
          275,
          80,
          175,
          75,
          95,
          310,
          38,
          189,
          205,
          199,
          150,
          67,
          72,
          175,
          119,
          97,
          200,
          190,
          100,
          99,
          99,
          119,
          225,
          100,
          195,
          85,
          105,
          190,
          149,
          119,
          145,
          220,
          99,
          125,
          75,
          145,
          90,
          76,
          150,
          93,
          89,
          160
         ]
        },
        {
         "name": "Wedgwood",
         "opacity": 0.75,
         "type": "histogram",
         "x": [
          65,
          65,
          75,
          80,
          100,
          98,
          299,
          250,
          175,
          65,
          75,
          100,
          60,
          48,
          48,
          60,
          125,
          200
         ]
        },
        {
         "name": "North Beach/Blue Ridge",
         "opacity": 0.75,
         "type": "histogram",
         "x": [
          210,
          85,
          75,
          75,
          80,
          180,
          240,
          49,
          275,
          95,
          108,
          150,
          75,
          99
         ]
        },
        {
         "name": "Cedar Park",
         "opacity": 0.75,
         "type": "histogram",
         "x": [
          110,
          92,
          171,
          55,
          70,
          80,
          250,
          89
         ]
        },
        {
         "name": "Bitter Lake",
         "opacity": 0.75,
         "type": "histogram",
         "x": [
          90,
          50,
          170,
          45,
          39,
          78,
          99,
          60,
          65,
          90,
          64,
          190,
          39
         ]
        },
        {
         "name": "Sunset Hill",
         "opacity": 0.75,
         "type": "histogram",
         "x": [
          77,
          80,
          75,
          75,
          55,
          70,
          85,
          85,
          350,
          92,
          200,
          50,
          150,
          475,
          375,
          450,
          75,
          350
         ]
        },
        {
         "name": "Haller Lake",
         "opacity": 0.75,
         "type": "histogram",
         "x": [
          75,
          119,
          97,
          125,
          200,
          108,
          49,
          125,
          70,
          70,
          98,
          100,
          36,
          80,
          199
         ]
        },
        {
         "name": "Pinehurst",
         "opacity": 0.75,
         "type": "histogram",
         "x": [
          139,
          150,
          55,
          125
         ]
        },
        {
         "name": "North College Park",
         "opacity": 0.75,
         "type": "histogram",
         "x": [
          150,
          73,
          95,
          88,
          70,
          100,
          100,
          129,
          50,
          96,
          85,
          189,
          55,
          99,
          50,
          65,
          79,
          55,
          65
         ]
        },
        {
         "name": "Phinney Ridge",
         "opacity": 0.75,
         "type": "histogram",
         "x": [
          95,
          100,
          135,
          87,
          97,
          78,
          150,
          95,
          375,
          150,
          325,
          60,
          50,
          120,
          88,
          150,
          195,
          50,
          250,
          87,
          207,
          70,
          100,
          175,
          165,
          120,
          239,
          200,
          135,
          155,
          95,
          78,
          50,
          90,
          151,
          75,
          160,
          189,
          85,
          112,
          400,
          175,
          100,
          350,
          150,
          55,
          95,
          80,
          50,
          95,
          175,
          50,
          190,
          99,
          145,
          90,
          349,
          150,
          105,
          95,
          85,
          52,
          105,
          100,
          110,
          67,
          75,
          69,
          96,
          60,
          95,
          100,
          55
         ]
        },
        {
         "name": "Windermere",
         "opacity": 0.75,
         "type": "histogram",
         "x": [
          130,
          125,
          300,
          200,
          400,
          165,
          117,
          85,
          115,
          62
         ]
        },
        {
         "name": "Laurelhurst",
         "opacity": 0.75,
         "type": "histogram",
         "x": [
          100,
          100,
          60,
          185,
          99,
          200,
          125,
          60,
          100,
          55
         ]
        },
        {
         "name": "Southeast Magnolia",
         "opacity": 0.75,
         "type": "histogram",
         "x": [
          550,
          75,
          95,
          150,
          110,
          228,
          110,
          950,
          225,
          125,
          68,
          250,
          150,
          48,
          330,
          125,
          350
         ]
        },
        {
         "name": "High Point",
         "opacity": 0.75,
         "type": "histogram",
         "x": [
          80,
          70,
          70,
          72,
          99,
          78,
          300,
          250,
          39,
          95,
          97,
          102,
          60,
          49
         ]
        },
        {
         "name": "Seaview",
         "opacity": 0.75,
         "type": "histogram",
         "x": [
          60,
          79,
          76,
          110,
          110,
          59,
          195,
          85,
          200,
          109,
          200,
          135
         ]
        },
        {
         "name": "Georgetown",
         "opacity": 0.75,
         "type": "histogram",
         "x": [
          70,
          90,
          50,
          99,
          70,
          65,
          90,
          75
         ]
        },
        {
         "name": "South Park",
         "opacity": 0.75,
         "type": "histogram",
         "x": [
          100,
          65,
          105
         ]
        },
        {
         "name": "Roxhill",
         "opacity": 0.75,
         "type": "histogram",
         "x": [
          125,
          60
         ]
        },
        {
         "name": "Highland Park",
         "opacity": 0.75,
         "type": "histogram",
         "x": [
          59,
          65,
          58,
          120,
          150,
          55,
          110,
          75,
          75,
          53,
          129
         ]
        },
        {
         "name": "Madison Park",
         "opacity": 0.75,
         "type": "histogram",
         "x": [
          30,
          70,
          80,
          125,
          95,
          285,
          109,
          275,
          190,
          80,
          200,
          70,
          139,
          75,
          150,
          215,
          60,
          99
         ]
        },
        {
         "name": "Stevens",
         "opacity": 0.75,
         "type": "histogram",
         "x": [
          250,
          150,
          139,
          104,
          125,
          33,
          27,
          29,
          29,
          29,
          30,
          65,
          125,
          84,
          70,
          90,
          100,
          40,
          75,
          90,
          150,
          155,
          145,
          165,
          125,
          100,
          65,
          146,
          125,
          85,
          140,
          120,
          100,
          45,
          300,
          150,
          99,
          139,
          100,
          180,
          30,
          399,
          300,
          51,
          70,
          104,
          80,
          50,
          150,
          125,
          200,
          200,
          115,
          85,
          120,
          400,
          95,
          545,
          250,
          150,
          22,
          120,
          140,
          125,
          126,
          150,
          129,
          125,
          250,
          220,
          162,
          52,
          165,
          88,
          100,
          450,
          152,
          105,
          295,
          100,
          65,
          158,
          138,
          125,
          125,
          80,
          100,
          31,
          115,
          50,
          29,
          29,
          120,
          135,
          125,
          80,
          125,
          97,
          449,
          300,
          155,
          95,
          135,
          30,
          92,
          80,
          30,
          90,
          65,
          31,
          139,
          135,
          83,
          85,
          195,
          125,
          450,
          350,
          98
         ]
        },
        {
         "name": "Broadview",
         "opacity": 0.75,
         "type": "histogram",
         "x": [
          45,
          125,
          75,
          99,
          49,
          67,
          105,
          195,
          125,
          65,
          125,
          183,
          39,
          68,
          120,
          86,
          39
         ]
        },
        {
         "name": "Fremont",
         "opacity": 0.75,
         "type": "histogram",
         "x": [
          200,
          84,
          150,
          82,
          140,
          99,
          149,
          75,
          125,
          138,
          65,
          250,
          200,
          100,
          180,
          136,
          129,
          61,
          275,
          100,
          59,
          95,
          500,
          200,
          95,
          99,
          55,
          105,
          75,
          70,
          35,
          52,
          57,
          54,
          35,
          50,
          67,
          43,
          97,
          55,
          69,
          99,
          149,
          97,
          45,
          450,
          49,
          68,
          75,
          120,
          195,
          125,
          300,
          200,
          115,
          185,
          149,
          52,
          75,
          70,
          125,
          125,
          99,
          100,
          75,
          60,
          150,
          275,
          232,
          95,
          200,
          50,
          85,
          90,
          120,
          89,
          65,
          125,
          67,
          100,
          150,
          115,
          210,
          195,
          59,
          112,
          110,
          100,
          235,
          99,
          115,
          400,
          62,
          135,
          119,
          200,
          160,
          400,
          225,
          240,
          50,
          165,
          350,
          150,
          150,
          85,
          150,
          79,
          76,
          78,
          50,
          135,
          105,
          99,
          65,
          325,
          99,
          149,
          79,
          40,
          115,
          120,
          150,
          68,
          125,
          55,
          99,
          90,
          110,
          80,
          87,
          260,
          115,
          60,
          175,
          85,
          109,
          109,
          107,
          200,
          85,
          70,
          77,
          65,
          185,
          108,
          200,
          250,
          125,
          100,
          160,
          109,
          175,
          120,
          154,
          65,
          95,
          359
         ]
        }
       ],
       "layout": {
        "barmode": "stack",
        "template": {
         "data": {
          "bar": [
           {
            "error_x": {
             "color": "#2a3f5f"
            },
            "error_y": {
             "color": "#2a3f5f"
            },
            "marker": {
             "line": {
              "color": "#E5ECF6",
              "width": 0.5
             }
            },
            "type": "bar"
           }
          ],
          "barpolar": [
           {
            "marker": {
             "line": {
              "color": "#E5ECF6",
              "width": 0.5
             }
            },
            "type": "barpolar"
           }
          ],
          "carpet": [
           {
            "aaxis": {
             "endlinecolor": "#2a3f5f",
             "gridcolor": "white",
             "linecolor": "white",
             "minorgridcolor": "white",
             "startlinecolor": "#2a3f5f"
            },
            "baxis": {
             "endlinecolor": "#2a3f5f",
             "gridcolor": "white",
             "linecolor": "white",
             "minorgridcolor": "white",
             "startlinecolor": "#2a3f5f"
            },
            "type": "carpet"
           }
          ],
          "choropleth": [
           {
            "colorbar": {
             "outlinewidth": 0,
             "ticks": ""
            },
            "type": "choropleth"
           }
          ],
          "contour": [
           {
            "colorbar": {
             "outlinewidth": 0,
             "ticks": ""
            },
            "colorscale": [
             [
              0,
              "#0d0887"
             ],
             [
              0.1111111111111111,
              "#46039f"
             ],
             [
              0.2222222222222222,
              "#7201a8"
             ],
             [
              0.3333333333333333,
              "#9c179e"
             ],
             [
              0.4444444444444444,
              "#bd3786"
             ],
             [
              0.5555555555555556,
              "#d8576b"
             ],
             [
              0.6666666666666666,
              "#ed7953"
             ],
             [
              0.7777777777777778,
              "#fb9f3a"
             ],
             [
              0.8888888888888888,
              "#fdca26"
             ],
             [
              1,
              "#f0f921"
             ]
            ],
            "type": "contour"
           }
          ],
          "contourcarpet": [
           {
            "colorbar": {
             "outlinewidth": 0,
             "ticks": ""
            },
            "type": "contourcarpet"
           }
          ],
          "heatmap": [
           {
            "colorbar": {
             "outlinewidth": 0,
             "ticks": ""
            },
            "colorscale": [
             [
              0,
              "#0d0887"
             ],
             [
              0.1111111111111111,
              "#46039f"
             ],
             [
              0.2222222222222222,
              "#7201a8"
             ],
             [
              0.3333333333333333,
              "#9c179e"
             ],
             [
              0.4444444444444444,
              "#bd3786"
             ],
             [
              0.5555555555555556,
              "#d8576b"
             ],
             [
              0.6666666666666666,
              "#ed7953"
             ],
             [
              0.7777777777777778,
              "#fb9f3a"
             ],
             [
              0.8888888888888888,
              "#fdca26"
             ],
             [
              1,
              "#f0f921"
             ]
            ],
            "type": "heatmap"
           }
          ],
          "heatmapgl": [
           {
            "colorbar": {
             "outlinewidth": 0,
             "ticks": ""
            },
            "colorscale": [
             [
              0,
              "#0d0887"
             ],
             [
              0.1111111111111111,
              "#46039f"
             ],
             [
              0.2222222222222222,
              "#7201a8"
             ],
             [
              0.3333333333333333,
              "#9c179e"
             ],
             [
              0.4444444444444444,
              "#bd3786"
             ],
             [
              0.5555555555555556,
              "#d8576b"
             ],
             [
              0.6666666666666666,
              "#ed7953"
             ],
             [
              0.7777777777777778,
              "#fb9f3a"
             ],
             [
              0.8888888888888888,
              "#fdca26"
             ],
             [
              1,
              "#f0f921"
             ]
            ],
            "type": "heatmapgl"
           }
          ],
          "histogram": [
           {
            "marker": {
             "colorbar": {
              "outlinewidth": 0,
              "ticks": ""
             }
            },
            "type": "histogram"
           }
          ],
          "histogram2d": [
           {
            "colorbar": {
             "outlinewidth": 0,
             "ticks": ""
            },
            "colorscale": [
             [
              0,
              "#0d0887"
             ],
             [
              0.1111111111111111,
              "#46039f"
             ],
             [
              0.2222222222222222,
              "#7201a8"
             ],
             [
              0.3333333333333333,
              "#9c179e"
             ],
             [
              0.4444444444444444,
              "#bd3786"
             ],
             [
              0.5555555555555556,
              "#d8576b"
             ],
             [
              0.6666666666666666,
              "#ed7953"
             ],
             [
              0.7777777777777778,
              "#fb9f3a"
             ],
             [
              0.8888888888888888,
              "#fdca26"
             ],
             [
              1,
              "#f0f921"
             ]
            ],
            "type": "histogram2d"
           }
          ],
          "histogram2dcontour": [
           {
            "colorbar": {
             "outlinewidth": 0,
             "ticks": ""
            },
            "colorscale": [
             [
              0,
              "#0d0887"
             ],
             [
              0.1111111111111111,
              "#46039f"
             ],
             [
              0.2222222222222222,
              "#7201a8"
             ],
             [
              0.3333333333333333,
              "#9c179e"
             ],
             [
              0.4444444444444444,
              "#bd3786"
             ],
             [
              0.5555555555555556,
              "#d8576b"
             ],
             [
              0.6666666666666666,
              "#ed7953"
             ],
             [
              0.7777777777777778,
              "#fb9f3a"
             ],
             [
              0.8888888888888888,
              "#fdca26"
             ],
             [
              1,
              "#f0f921"
             ]
            ],
            "type": "histogram2dcontour"
           }
          ],
          "mesh3d": [
           {
            "colorbar": {
             "outlinewidth": 0,
             "ticks": ""
            },
            "type": "mesh3d"
           }
          ],
          "parcoords": [
           {
            "line": {
             "colorbar": {
              "outlinewidth": 0,
              "ticks": ""
             }
            },
            "type": "parcoords"
           }
          ],
          "scatter": [
           {
            "marker": {
             "colorbar": {
              "outlinewidth": 0,
              "ticks": ""
             }
            },
            "type": "scatter"
           }
          ],
          "scatter3d": [
           {
            "line": {
             "colorbar": {
              "outlinewidth": 0,
              "ticks": ""
             }
            },
            "marker": {
             "colorbar": {
              "outlinewidth": 0,
              "ticks": ""
             }
            },
            "type": "scatter3d"
           }
          ],
          "scattercarpet": [
           {
            "marker": {
             "colorbar": {
              "outlinewidth": 0,
              "ticks": ""
             }
            },
            "type": "scattercarpet"
           }
          ],
          "scattergeo": [
           {
            "marker": {
             "colorbar": {
              "outlinewidth": 0,
              "ticks": ""
             }
            },
            "type": "scattergeo"
           }
          ],
          "scattergl": [
           {
            "marker": {
             "colorbar": {
              "outlinewidth": 0,
              "ticks": ""
             }
            },
            "type": "scattergl"
           }
          ],
          "scattermapbox": [
           {
            "marker": {
             "colorbar": {
              "outlinewidth": 0,
              "ticks": ""
             }
            },
            "type": "scattermapbox"
           }
          ],
          "scatterpolar": [
           {
            "marker": {
             "colorbar": {
              "outlinewidth": 0,
              "ticks": ""
             }
            },
            "type": "scatterpolar"
           }
          ],
          "scatterpolargl": [
           {
            "marker": {
             "colorbar": {
              "outlinewidth": 0,
              "ticks": ""
             }
            },
            "type": "scatterpolargl"
           }
          ],
          "scatterternary": [
           {
            "marker": {
             "colorbar": {
              "outlinewidth": 0,
              "ticks": ""
             }
            },
            "type": "scatterternary"
           }
          ],
          "surface": [
           {
            "colorbar": {
             "outlinewidth": 0,
             "ticks": ""
            },
            "colorscale": [
             [
              0,
              "#0d0887"
             ],
             [
              0.1111111111111111,
              "#46039f"
             ],
             [
              0.2222222222222222,
              "#7201a8"
             ],
             [
              0.3333333333333333,
              "#9c179e"
             ],
             [
              0.4444444444444444,
              "#bd3786"
             ],
             [
              0.5555555555555556,
              "#d8576b"
             ],
             [
              0.6666666666666666,
              "#ed7953"
             ],
             [
              0.7777777777777778,
              "#fb9f3a"
             ],
             [
              0.8888888888888888,
              "#fdca26"
             ],
             [
              1,
              "#f0f921"
             ]
            ],
            "type": "surface"
           }
          ],
          "table": [
           {
            "cells": {
             "fill": {
              "color": "#EBF0F8"
             },
             "line": {
              "color": "white"
             }
            },
            "header": {
             "fill": {
              "color": "#C8D4E3"
             },
             "line": {
              "color": "white"
             }
            },
            "type": "table"
           }
          ]
         },
         "layout": {
          "annotationdefaults": {
           "arrowcolor": "#2a3f5f",
           "arrowhead": 0,
           "arrowwidth": 1
          },
          "colorscale": {
           "diverging": [
            [
             0,
             "#8e0152"
            ],
            [
             0.1,
             "#c51b7d"
            ],
            [
             0.2,
             "#de77ae"
            ],
            [
             0.3,
             "#f1b6da"
            ],
            [
             0.4,
             "#fde0ef"
            ],
            [
             0.5,
             "#f7f7f7"
            ],
            [
             0.6,
             "#e6f5d0"
            ],
            [
             0.7,
             "#b8e186"
            ],
            [
             0.8,
             "#7fbc41"
            ],
            [
             0.9,
             "#4d9221"
            ],
            [
             1,
             "#276419"
            ]
           ],
           "sequential": [
            [
             0,
             "#0d0887"
            ],
            [
             0.1111111111111111,
             "#46039f"
            ],
            [
             0.2222222222222222,
             "#7201a8"
            ],
            [
             0.3333333333333333,
             "#9c179e"
            ],
            [
             0.4444444444444444,
             "#bd3786"
            ],
            [
             0.5555555555555556,
             "#d8576b"
            ],
            [
             0.6666666666666666,
             "#ed7953"
            ],
            [
             0.7777777777777778,
             "#fb9f3a"
            ],
            [
             0.8888888888888888,
             "#fdca26"
            ],
            [
             1,
             "#f0f921"
            ]
           ],
           "sequentialminus": [
            [
             0,
             "#0d0887"
            ],
            [
             0.1111111111111111,
             "#46039f"
            ],
            [
             0.2222222222222222,
             "#7201a8"
            ],
            [
             0.3333333333333333,
             "#9c179e"
            ],
            [
             0.4444444444444444,
             "#bd3786"
            ],
            [
             0.5555555555555556,
             "#d8576b"
            ],
            [
             0.6666666666666666,
             "#ed7953"
            ],
            [
             0.7777777777777778,
             "#fb9f3a"
            ],
            [
             0.8888888888888888,
             "#fdca26"
            ],
            [
             1,
             "#f0f921"
            ]
           ]
          },
          "colorway": [
           "#636efa",
           "#EF553B",
           "#00cc96",
           "#ab63fa",
           "#FFA15A",
           "#19d3f3",
           "#FF6692",
           "#B6E880",
           "#FF97FF",
           "#FECB52"
          ],
          "font": {
           "color": "#2a3f5f"
          },
          "geo": {
           "bgcolor": "white",
           "lakecolor": "white",
           "landcolor": "#E5ECF6",
           "showlakes": true,
           "showland": true,
           "subunitcolor": "white"
          },
          "hoverlabel": {
           "align": "left"
          },
          "hovermode": "closest",
          "mapbox": {
           "style": "light"
          },
          "paper_bgcolor": "white",
          "plot_bgcolor": "#E5ECF6",
          "polar": {
           "angularaxis": {
            "gridcolor": "white",
            "linecolor": "white",
            "ticks": ""
           },
           "bgcolor": "#E5ECF6",
           "radialaxis": {
            "gridcolor": "white",
            "linecolor": "white",
            "ticks": ""
           }
          },
          "scene": {
           "xaxis": {
            "backgroundcolor": "#E5ECF6",
            "gridcolor": "white",
            "gridwidth": 2,
            "linecolor": "white",
            "showbackground": true,
            "ticks": "",
            "zerolinecolor": "white"
           },
           "yaxis": {
            "backgroundcolor": "#E5ECF6",
            "gridcolor": "white",
            "gridwidth": 2,
            "linecolor": "white",
            "showbackground": true,
            "ticks": "",
            "zerolinecolor": "white"
           },
           "zaxis": {
            "backgroundcolor": "#E5ECF6",
            "gridcolor": "white",
            "gridwidth": 2,
            "linecolor": "white",
            "showbackground": true,
            "ticks": "",
            "zerolinecolor": "white"
           }
          },
          "shapedefaults": {
           "line": {
            "color": "#2a3f5f"
           }
          },
          "ternary": {
           "aaxis": {
            "gridcolor": "white",
            "linecolor": "white",
            "ticks": ""
           },
           "baxis": {
            "gridcolor": "white",
            "linecolor": "white",
            "ticks": ""
           },
           "bgcolor": "#E5ECF6",
           "caxis": {
            "gridcolor": "white",
            "linecolor": "white",
            "ticks": ""
           }
          },
          "title": {
           "x": 0.05
          },
          "xaxis": {
           "automargin": true,
           "gridcolor": "white",
           "linecolor": "white",
           "ticks": "",
           "zerolinecolor": "white",
           "zerolinewidth": 2
          },
          "yaxis": {
           "automargin": true,
           "gridcolor": "white",
           "linecolor": "white",
           "ticks": "",
           "zerolinecolor": "white",
           "zerolinewidth": 2
          }
         }
        },
        "xaxis": {
         "title": {
          "text": "Listing Price"
         }
        },
        "yaxis": {
         "title": {
          "text": "Count"
         }
        }
       }
      },
      "text/html": [
       "<div>\n",
       "        \n",
       "        \n",
       "            <div id=\"034e1666-0bc4-402b-bfcb-50241f168fb7\" class=\"plotly-graph-div\" style=\"height:525px; width:100%;\"></div>\n",
       "            <script type=\"text/javascript\">\n",
       "                require([\"plotly\"], function(Plotly) {\n",
       "                    window.PLOTLYENV=window.PLOTLYENV || {};\n",
       "                    \n",
       "                if (document.getElementById(\"034e1666-0bc4-402b-bfcb-50241f168fb7\")) {\n",
       "                    Plotly.newPlot(\n",
       "                        '034e1666-0bc4-402b-bfcb-50241f168fb7',\n",
       "                        [{\"name\": \"West Queen Anne\", \"opacity\": 0.75, \"type\": \"histogram\", \"x\": [85.0, 150.0, 975.0, 100.0, 450.0, 120.0, 80.0, 60.0, 90.0, 150.0, 95.0, 99.0, 245.0, 165.0, 461.0, 109.0, 66.0, 99.0, 200.0, 700.0, 110.0, 99.0, 450.0, 75.0, 600.0, 450.0, 150.0, 45.0, 300.0, 80.0, 175.0, 325.0, 175.0, 222.0, 159.0, 125.0, 348.0, 45.0, 150.0, 80.0, 110.0, 148.0, 350.0, 150.0, 150.0, 100.0, 349.0, 110.0, 160.0, 130.0, 99.0, 100.0, 137.0, 20.0, 150.0, 145.0, 80.0, 95.0, 400.0, 85.0, 70.0, 90.0, 80.0, 60.0, 175.0]}, {\"name\": \"Adams\", \"opacity\": 0.75, \"type\": \"histogram\", \"x\": [170.0, 85.0, 465.0, 175.0, 50.0, 60.0, 59.0, 47.0, 145.0, 70.0, 55.0, 95.0, 125.0, 65.0, 25.0, 40.0, 149.0, 125.0, 55.0, 129.0, 100.0, 150.0, 50.0, 99.0, 150.0, 105.0, 218.0, 80.0, 126.0, 115.0, 225.0, 89.0, 225.0, 50.0, 134.0, 75.0, 65.0, 375.0, 97.0, 145.0, 129.0, 197.0, 120.0, 200.0, 135.0, 70.0, 150.0, 200.0, 60.0, 180.0, 69.0, 90.0, 80.0, 65.0, 150.0, 195.0, 149.0, 224.0, 115.0, 55.0, 338.0, 79.0, 80.0, 85.0, 80.0, 49.0, 100.0, 79.0, 75.0, 57.0]}, {\"name\": \"West Woodland\", \"opacity\": 0.75, \"type\": \"histogram\", \"x\": [99.0, 55.0, 96.0, 99.0, 79.0, 115.0, 350.0, 295.0, 70.0, 53.0, 110.0, 225.0, 35.0, 55.0, 45.0, 79.0, 133.0, 65.0, 61.0, 200.0, 70.0, 52.0, 50.0, 275.0, 149.0, 199.0, 89.0, 225.0, 120.0, 85.0, 80.0, 89.0, 99.0, 110.0, 180.0, 150.0, 70.0, 70.0, 75.0, 85.0, 80.0, 90.0, 80.0, 75.0, 80.0, 70.0, 350.0, 95.0, 90.0, 435.0, 250.0, 65.0, 95.0, 110.0, 50.0, 95.0, 100.0, 89.0, 116.0, 150.0, 275.0, 180.0, 97.0, 200.0]}, {\"name\": \"East Queen Anne\", \"opacity\": 0.75, \"type\": \"histogram\", \"x\": [120.0, 109.0, 115.0, 199.0, 150.0, 100.0, 250.0, 39.0, 69.0, 145.0, 98.0, 130.0, 85.0, 85.0, 73.0, 150.0, 85.0, 190.0, 68.0, 149.0, 349.0, 105.0, 145.0, 150.0, 275.0, 165.0, 196.0, 195.0, 200.0, 90.0, 100.0, 125.0, 250.0, 130.0, 209.0, 110.0, 90.0, 90.0, 130.0, 175.0, 749.0, 115.0, 165.0, 109.0, 80.0, 285.0, 80.0, 75.0, 68.0, 85.0, 125.0, 110.0, 600.0, 235.0, 75.0, 95.0, 103.0, 120.0, 95.0, 143.0, 99.0, 142.0, 150.0, 295.0, 335.0, 60.0, 250.0, 499.0, 350.0, 156.0, 200.0, 180.0, 103.0, 99.0, 94.0, 160.0, 129.0, 219.0, 91.0, 75.0, 99.0, 87.0]}, {\"name\": \"Wallingford\", \"opacity\": 0.75, \"type\": \"histogram\", \"x\": [300.0, 150.0, 149.0, 75.0, 95.0, 100.0, 250.0, 105.0, 74.0, 140.0, 130.0, 110.0, 199.0, 209.0, 100.0, 110.0, 104.0, 200.0, 99.0, 90.0, 135.0, 122.0, 80.0, 158.0, 90.0, 100.0, 89.0, 125.0, 42.0, 65.0, 100.0, 40.0, 185.0, 40.0, 70.0, 40.0, 70.0, 110.0, 99.0, 680.0, 195.0, 55.0, 90.0, 119.0, 175.0, 65.0, 75.0, 126.0, 70.0, 90.0, 129.0, 225.0, 40.0, 50.0, 40.0, 40.0, 95.0, 175.0, 160.0, 40.0, 40.0, 120.0, 66.0, 55.0, 350.0, 85.0, 175.0, 105.0, 55.0, 150.0, 40.0, 59.0, 80.0, 200.0, 60.0, 59.0, 575.0, 40.0, 139.0, 70.0, 85.0, 259.0, 39.0, 70.0, 166.0, 99.0, 110.0, 100.0, 250.0, 150.0, 200.0, 95.0, 40.0, 215.0, 110.0, 249.0, 295.0, 90.0, 40.0, 85.0, 40.0, 40.0, 245.0, 130.0, 210.0, 439.0, 90.0, 95.0, 109.0, 40.0, 175.0, 80.0, 105.0, 400.0, 100.0, 40.0, 160.0, 55.0, 55.0, 150.0, 55.0, 95.0, 155.0, 55.0, 40.0, 250.0, 145.0, 54.0, 99.0, 254.0, 100.0, 65.0, 150.0, 140.0, 45.0, 74.0, 60.0, 350.0, 135.0, 85.0, 310.0, 40.0, 215.0, 245.0, 65.0, 85.0, 95.0, 57.0, 75.0, 120.0, 120.0, 40.0, 490.0, 50.0, 200.0, 40.0, 255.0, 95.0, 160.0, 55.0, 85.0, 325.0, 144.0, 100.0, 115.0, 55.0, 95.0]}, {\"name\": \"North Queen Anne\", \"opacity\": 0.75, \"type\": \"histogram\", \"x\": [175.0, 95.0, 100.0, 46.0, 50.0, 445.0, 75.0, 100.0, 130.0, 235.0, 100.0, 120.0, 80.0, 110.0, 395.0, 88.0, 55.0, 145.0, 425.0, 114.0, 110.0, 300.0, 117.0, 275.0, 85.0, 300.0, 53.0, 107.0, 348.0, 89.0, 89.0, 89.0, 209.0, 76.0, 74.0, 250.0, 180.0, 179.0, 115.0, 140.0, 150.0, 70.0, 300.0, 99.0, 89.0, 100.0, 84.0, 97.0, 116.0, 150.0, 110.0, 265.0, 115.0, 100.0]}, {\"name\": \"Green Lake\", \"opacity\": 0.75, \"type\": \"histogram\", \"x\": [109.0, 60.0, 249.0, 250.0, 100.0, 74.0, 235.0, 99.0, 96.0, 92.0, 85.0, 55.0, 55.0, 80.0, 195.0, 145.0, 180.0, 50.0, 160.0, 140.0, 140.0, 40.0, 145.0, 225.0, 325.0, 199.0, 450.0, 175.0, 550.0, 149.0, 130.0, 85.0, 300.0, 79.0, 59.0, 140.0, 60.0, 215.0, 100.0, 40.0, 99.0, 45.0, 75.0, 119.0, 99.0, 225.0, 85.0, 135.0, 335.0, 79.0, 90.0, 111.0, 110.0, 325.0]}, {\"name\": \"Westlake\", \"opacity\": 0.75, \"type\": \"histogram\", \"x\": [85.0, 190.0, 65.0, 250.0, 69.0, 400.0, 150.0, 200.0, 141.0, 85.0, 775.0, 195.0, 249.0, 95.0, 122.0, 170.0, 65.0]}, {\"name\": \"Mann\", \"opacity\": 0.75, \"type\": \"histogram\", \"x\": [90.0, 88.0, 125.0, 145.0, 275.0, 60.0, 95.0, 140.0, 250.0, 225.0, 60.0, 95.0, 65.0, 78.0, 59.0, 400.0, 55.0, 129.0, 65.0, 175.0, 160.0, 75.0, 80.0, 109.0, 95.0, 85.0, 99.0, 90.0, 73.0, 400.0, 170.0, 48.0, 90.0, 82.0, 250.0, 199.0, 105.0, 250.0, 75.0, 250.0, 175.0, 95.0, 150.0, 65.0, 120.0, 300.0, 89.0, 109.0, 75.0, 99.0, 150.0, 175.0, 120.0, 45.0, 150.0, 95.0, 50.0, 129.0, 295.0, 99.0, 175.0, 150.0, 109.0, 85.0, 80.0, 115.0, 85.0]}, {\"name\": \"Madrona\", \"opacity\": 0.75, \"type\": \"histogram\", \"x\": [200.0, 169.0, 130.0, 79.0, 125.0, 80.0, 66.0, 97.0, 58.0, 125.0, 50.0, 350.0, 375.0, 240.0, 189.0, 250.0, 90.0, 125.0, 155.0, 195.0, 69.0, 200.0, 75.0, 225.0, 135.0, 85.0, 110.0, 110.0, 250.0, 85.0, 50.0, 78.0, 95.0, 95.0, 295.0, 175.0, 90.0, 68.0, 74.0, 80.0, 500.0, 115.0, 500.0, 115.0, 125.0, 350.0, 140.0]}, {\"name\": \"University District\", \"opacity\": 0.75, \"type\": \"histogram\", \"x\": [80.0, 145.0, 150.0, 65.0, 50.0, 65.0, 45.0, 35.0, 41.0, 59.0, 49.0, 47.0, 65.0, 41.0, 35.0, 43.0, 44.0, 99.0, 45.0, 98.0, 109.0, 75.0, 88.0, 98.0, 75.0, 40.0, 85.0, 100.0, 275.0, 105.0, 78.0, 150.0, 95.0, 155.0, 109.0, 80.0, 80.0, 125.0, 55.0, 98.0, 82.0, 70.0, 55.0, 110.0, 350.0, 295.0, 105.0, 85.0, 75.0, 95.0, 75.0, 45.0, 30.0, 42.0, 250.0, 43.0, 125.0, 112.0, 85.0, 63.0, 41.0, 79.0, 70.0, 85.0, 110.0, 53.0, 75.0, 125.0, 90.0, 85.0, 85.0, 88.0, 92.0, 28.0, 70.0, 78.0, 30.0, 93.0, 65.0, 120.0, 40.0, 43.0, 70.0, 90.0, 90.0, 85.0, 115.0, 89.0, 185.0, 85.0, 135.0, 95.0, 306.0, 29.0, 47.0, 50.0, 105.0, 83.0, 73.0, 92.0, 69.0, 59.0, 145.0, 95.0, 150.0, 85.0, 98.0, 110.0, 42.0, 95.0, 42.0, 250.0, 42.0, 40.0, 80.0, 40.0, 275.0, 47.0, 118.0, 105.0, 150.0, 250.0]}, {\"name\": \"Harrison/Denny-Blaine\", \"opacity\": 0.75, \"type\": \"histogram\", \"x\": [88.0, 139.0, 128.0, 110.0, 210.0, 155.0, 168.0, 62.0, 80.0, 105.0, 50.0, 70.0, 165.0, 79.0]}, {\"name\": \"Minor\", \"opacity\": 0.75, \"type\": \"histogram\", \"x\": [95.0, 90.0, 380.0, 225.0, 60.0, 100.0, 157.0, 110.0, 150.0, 203.0, 145.0, 85.0, 79.0, 40.0, 49.0, 56.0, 330.0, 150.0, 350.0, 145.0, 67.0, 69.0, 52.0, 75.0, 90.0, 130.0, 65.0, 155.0, 79.0, 60.0, 115.0, 60.0, 70.0, 80.0, 70.0, 55.0, 72.0, 67.0, 58.0, 70.0, 81.0, 58.0, 58.0, 100.0, 110.0, 75.0, 124.0, 150.0, 65.0, 225.0, 70.0, 105.0, 158.0, 69.0, 80.0, 99.0, 165.0, 70.0, 118.0, 100.0, 90.0, 81.0, 70.0, 69.0, 90.0, 75.0, 70.0, 179.0, 105.0, 110.0, 150.0, 75.0, 75.0, 111.0, 108.0, 82.0, 115.0, 220.0, 114.0, 59.0, 54.0, 75.0, 90.0, 95.0, 160.0, 175.0, 37.0, 199.0, 200.0, 175.0, 120.0, 160.0, 125.0, 150.0, 175.0, 100.0, 90.0, 95.0, 92.0, 90.0, 79.0, 72.0, 115.0, 270.0, 65.0, 300.0, 122.0, 87.0, 200.0, 156.0, 90.0, 325.0, 115.0, 425.0, 119.0, 220.0, 85.0, 100.0, 99.0, 120.0, 150.0, 75.0, 90.0, 125.0, 90.0, 200.0, 200.0, 287.0, 90.0, 90.0, 150.0, 119.0, 150.0, 170.0, 150.0]}, {\"name\": \"Leschi\", \"opacity\": 0.75, \"type\": \"histogram\", \"x\": [279.0, 55.0, 125.0, 129.0, 90.0, 199.0, 65.0, 200.0, 92.0, 257.0, 79.0, 200.0, 80.0, 85.0, 65.0, 105.0, 59.0, 59.0, 75.0, 56.0, 100.0, 85.0, 135.0, 200.0, 163.0, 83.0, 210.0, 59.0, 135.0, 75.0, 109.0, 55.0, 500.0, 55.0, 400.0, 105.0, 39.0, 50.0, 129.0, 44.0, 350.0, 300.0, 53.0, 60.0, 285.0, 210.0, 159.0, 225.0, 66.0, 80.0, 79.0, 120.0, 49.0]}, {\"name\": \"Atlantic\", \"opacity\": 0.75, \"type\": \"histogram\", \"x\": [122.0, 90.0, 196.0, 115.0, 150.0, 125.0, 175.0, 60.0, 70.0, 175.0, 100.0, 69.0, 69.0, 35.0, 140.0, 68.0, 55.0, 100.0, 70.0, 90.0, 275.0, 60.0, 125.0, 100.0, 115.0, 90.0, 90.0, 250.0, 119.0, 95.0, 218.0, 120.0, 64.0, 80.0, 170.0, 168.0, 60.0, 85.0, 70.0, 115.0, 90.0, 125.0, 80.0, 90.0, 149.0, 250.0, 69.0, 65.0, 40.0, 60.0, 149.0, 115.0, 79.0]}, {\"name\": \"Pike-Market\", \"opacity\": 0.75, \"type\": \"histogram\", \"x\": [129.0, 100.0, 76.0, 95.0, 100.0, 137.0, 38.0, 557.0, 160.0, 179.0, 41.0, 97.0, 99.0, 149.0, 199.0, 157.0, 170.0, 85.0, 299.0, 95.0, 99.0, 165.0, 114.0, 311.0, 160.0, 100.0, 150.0, 357.0]}, {\"name\": \"Eastlake\", \"opacity\": 0.75, \"type\": \"histogram\", \"x\": [135.0, 110.0, 75.0, 138.0, 129.0, 120.0, 95.0, 140.0, 95.0, 91.0, 135.0, 95.0, 140.0, 125.0, 150.0, 129.0, 50.0, 85.0, 82.0, 103.0, 59.0, 150.0, 115.0, 100.0, 300.0, 68.0, 52.0, 91.0, 59.0, 129.0, 125.0, 195.0, 58.0, 600.0, 89.0, 100.0, 125.0, 82.0, 225.0, 55.0, 90.0, 134.0, 42.0, 125.0, 115.0]}, {\"name\": \"South Lake Union\", \"opacity\": 0.75, \"type\": \"histogram\", \"x\": [125.0, 55.0, 550.0, 90.0, 100.0, 95.0, 110.0, 80.0, 100.0, 90.0, 100.0, 88.0, 59.0, 183.0, 135.0, 220.0, 183.0, 115.0, 100.0, 183.0, 115.0, 75.0, 110.0, 183.0, 220.0, 119.0, 75.0]}, {\"name\": \"Lawton Park\", \"opacity\": 0.75, \"type\": \"histogram\", \"x\": [200.0, 229.0, 333.0, 41.0, 70.0, 55.0, 70.0, 97.0, 350.0, 200.0, 225.0, 115.0, 40.0, 150.0, 46.0, 64.0, 125.0, 250.0, 147.0, 30.0, 150.0, 78.0, 120.0, 280.0, 75.0, 178.0, 480.0, 129.0, 50.0, 50.0]}, {\"name\": \"Briarcliff\", \"opacity\": 0.75, \"type\": \"histogram\", \"x\": [175.0, 88.0, 100.0, 225.0, 200.0, 250.0, 95.0, 172.0, 99.0, 99.0, 175.0, 350.0, 69.0, 375.0]}, {\"name\": \"Belltown\", \"opacity\": 0.75, \"type\": \"histogram\", \"x\": [144.0, 999.0, 138.0, 145.0, 125.0, 45.0, 35.0, 225.0, 50.0, 120.0, 100.0, 120.0, 249.0, 95.0, 150.0, 130.0, 130.0, 105.0, 105.0, 175.0, 100.0, 129.0, 90.0, 350.0, 199.0, 75.0, 110.0, 80.0, 150.0, 95.0, 139.0, 139.0, 275.0, 135.0, 128.0, 107.0, 150.0, 100.0, 100.0, 120.0, 125.0, 120.0, 150.0, 129.0, 140.0, 150.0, 149.0, 229.0, 180.0, 93.0, 110.0, 126.0, 139.0, 157.0, 90.0, 90.0, 125.0, 95.0, 197.0, 155.0, 195.0, 150.0, 175.0, 156.0, 320.0, 200.0, 200.0, 165.0, 148.0, 127.0, 405.0, 219.0, 899.0, 150.0, 239.0, 150.0, 140.0, 117.0, 99.0, 170.0, 100.0, 300.0, 250.0, 197.0, 175.0, 130.0, 131.0, 110.0, 125.0, 200.0, 99.0, 700.0, 200.0, 89.0, 142.0, 125.0, 245.0, 99.0, 117.0, 215.0, 215.0, 275.0, 175.0, 195.0, 113.0, 700.0, 139.0, 135.0, 105.0, 100.0, 106.0, 475.0, 143.0, 205.0, 80.0, 120.0, 139.0, 135.0, 155.0, 90.0, 139.0, 181.0, 99.0, 175.0, 127.0, 150.0, 143.0, 399.0, 193.0, 160.0, 110.0, 135.0, 165.0, 139.0, 189.0, 140.0, 129.0, 150.0, 245.0, 175.0, 127.0, 444.0, 105.0, 127.0, 122.0, 175.0, 99.0, 187.0, 150.0, 100.0, 186.0, 171.0, 181.0, 149.0, 270.0, 195.0, 149.0, 150.0, 230.0, 183.0, 165.0, 335.0, 75.0, 107.0, 167.0, 225.0, 120.0, 110.0, 425.0, 139.0, 149.0, 149.0, 130.0, 115.0, 159.0, 120.0, 100.0, 99.0, 169.0, 110.0, 170.0, 115.0, 112.0, 120.0, 239.0, 135.0, 125.0, 150.0, 197.0, 79.0, 106.0, 139.0, 150.0, 149.0, 115.0, 175.0, 175.0, 124.0, 65.0, 229.0, 125.0, 40.0, 183.0, 169.0, 155.0, 75.0, 89.0, 35.0, 115.0, 115.0, 165.0, 115.0, 250.0, 166.0, 105.0, 145.0, 250.0, 139.0, 82.0, 147.0, 150.0, 187.0, 80.0, 130.0, 130.0, 100.0, 95.0, 68.0, 150.0, 165.0, 117.0, 168.0, 75.0, 79.0]}, {\"name\": \"International District\", \"opacity\": 0.75, \"type\": \"histogram\", \"x\": [89.0, 80.0, 120.0, 40.0, 40.0, 65.0, 89.0, 79.0, 69.0, 69.0, 74.0, 65.0, 250.0, 250.0, 175.0, 99.0, 130.0]}, {\"name\": \"Central Business District\", \"opacity\": 0.75, \"type\": \"histogram\", \"x\": [120.0, 190.0, 280.0, 99.0, 99.0, 159.0, 150.0, 139.0, 180.0, 151.0, 99.0, 219.0, 100.0, 175.0, 170.0, 115.0, 100.0, 110.0, 59.0, 110.0, 199.0, 170.0, 135.0, 300.0, 219.0, 300.0, 235.0, 59.0, 156.0, 147.0, 135.0, 128.0, 104.0, 114.0, 200.0, 132.0, 150.0, 250.0, 40.0, 126.0, 365.0, 99.0, 350.0, 143.0, 110.0, 100.0, 149.0, 175.0, 150.0, 143.0, 121.0, 150.0, 149.0, 168.0, 245.0, 129.0, 245.0, 89.0, 175.0, 144.0, 188.0, 179.0, 129.0, 170.0, 150.0, 276.0, 135.0, 150.0, 140.0, 121.0, 175.0, 147.0, 149.0, 150.0, 300.0, 115.0, 290.0, 129.0, 175.0, 220.0, 90.0, 120.0, 325.0, 230.0, 127.0, 168.0, 117.0, 85.0, 122.0, 142.0, 237.0, 350.0, 99.0, 110.0, 300.0, 225.0, 99.0, 65.0, 275.0, 183.0, 110.0, 156.0, 169.0]}, {\"name\": \"First Hill\", \"opacity\": 0.75, \"type\": \"histogram\", \"x\": [150.0, 125.0, 175.0, 155.0, 151.0, 175.0, 196.0, 110.0, 140.0, 175.0, 250.0, 90.0, 105.0, 95.0, 139.0, 115.0, 185.0, 175.0, 75.0, 85.0, 129.0, 70.0, 79.0, 109.0, 100.0, 155.0, 87.0, 165.0, 100.0, 78.0, 150.0, 99.0, 80.0, 185.0, 169.0, 129.0, 80.0, 77.0, 99.0, 119.0, 129.0, 145.0, 250.0, 99.0, 230.0, 109.0, 85.0, 120.0, 150.0, 115.0, 130.0, 129.0, 129.0, 195.0, 500.0, 195.0, 250.0, 100.0, 110.0, 121.0, 139.0, 120.0, 110.0, 69.0, 100.0, 150.0, 215.0, 40.0, 103.0, 175.0, 139.0, 66.0, 85.0, 65.0, 100.0, 174.0, 200.0, 120.0, 90.0, 78.0, 99.0, 174.0, 110.0, 72.0, 190.0, 100.0, 151.0, 175.0, 250.0, 140.0, 120.0, 99.0, 180.0, 109.0, 140.0, 75.0, 129.0, 135.0, 150.0, 139.0, 110.0, 179.0, 120.0, 245.0, 150.0, 105.0, 209.0, 125.0]}, {\"name\": \"Yesler Terrace\", \"opacity\": 0.75, \"type\": \"histogram\", \"x\": [145.0, 115.0, 89.0, 65.0, 165.0, 180.0, 140.0, 100.0, 179.0, 65.0, 75.0, 150.0, 169.0, 112.0, 68.0, 89.0, 70.0]}, {\"name\": \"Pioneer Square\", \"opacity\": 0.75, \"type\": \"histogram\", \"x\": [160.0, 128.0, 249.0, 50.0, 175.0, 250.0, 110.0, 144.0, 149.0, 350.0, 95.0, 120.0, 199.0, 145.0, 75.0, 350.0, 65.0, 149.0, 150.0, 150.0, 160.0, 170.0, 300.0]}, {\"name\": \"Gatewood\", \"opacity\": 0.75, \"type\": \"histogram\", \"x\": [59.0, 88.0, 75.0, 95.0, 125.0, 245.0, 153.0, 85.0, 65.0, 59.0, 45.0, 150.0, 75.0, 250.0, 125.0, 80.0, 150.0, 75.0, 195.0, 57.0, 159.0, 325.0]}, {\"name\": \"Arbor Heights\", \"opacity\": 0.75, \"type\": \"histogram\", \"x\": [100.0, 54.0, 55.0, 225.0, 200.0]}, {\"name\": \"Alki\", \"opacity\": 0.75, \"type\": \"histogram\", \"x\": [240.0, 100.0, 100.0, 119.0, 219.0, 249.0, 265.0, 124.0, 100.0, 250.0, 40.0, 100.0, 99.0, 135.0, 90.0, 90.0, 269.0, 325.0, 350.0, 95.0, 120.0, 79.0, 130.0, 129.0, 399.0, 350.0, 42.0, 95.0, 109.0, 225.0, 235.0, 85.0, 150.0, 218.0, 120.0, 225.0, 350.0, 250.0, 100.0, 79.0, 300.0, 59.0]}, {\"name\": \"North Admiral\", \"opacity\": 0.75, \"type\": \"histogram\", \"x\": [69.0, 180.0, 450.0, 219.0, 70.0, 140.0, 200.0, 54.0, 60.0, 66.0, 79.0, 195.0, 105.0, 100.0, 100.0, 93.0, 85.0, 135.0, 195.0, 95.0, 129.0, 225.0, 350.0, 120.0, 200.0, 69.0, 199.0, 225.0, 81.0, 495.0, 65.0, 101.0, 90.0, 90.0, 185.0, 99.0, 99.0, 89.0, 45.0, 130.0, 90.0, 200.0, 225.0, 90.0, 90.0, 79.0, 100.0, 225.0, 299.0]}, {\"name\": \"Crown Hill\", \"opacity\": 0.75, \"type\": \"histogram\", \"x\": [70.0, 28.0, 65.0, 69.0, 41.0, 42.0, 100.0, 100.0, 45.0, 65.0, 170.0, 119.0, 100.0, 114.0, 100.0, 68.0, 275.0, 35.0, 75.0, 95.0, 65.0]}, {\"name\": \"Fairmount Park\", \"opacity\": 0.75, \"type\": \"histogram\", \"x\": [125.0, 75.0, 72.0, 165.0, 125.0, 95.0, 125.0, 120.0, 75.0, 299.0, 200.0, 125.0, 250.0, 75.0, 119.0, 370.0, 117.0, 85.0, 200.0, 129.0, 70.0, 65.0, 110.0, 109.0, 88.0, 75.0, 65.0, 75.0, 136.0]}, {\"name\": \"Genesee\", \"opacity\": 0.75, \"type\": \"histogram\", \"x\": [139.0, 79.0, 95.0, 55.0, 200.0, 49.0, 65.0, 85.0, 39.0, 75.0, 75.0, 125.0, 215.0, 99.0, 165.0, 165.0, 55.0, 150.0, 249.0, 51.0, 129.0, 79.0, 65.0, 49.0, 180.0, 30.0, 250.0, 150.0, 375.0, 56.0, 300.0, 45.0, 110.0, 99.0]}, {\"name\": \"Interbay\", \"opacity\": 0.75, \"type\": \"histogram\", \"x\": [53.0, 75.0, 75.0, 90.0, 69.0, 250.0, 95.0, 50.0, 150.0, 150.0, 150.0]}, {\"name\": \"Industrial District\", \"opacity\": 0.75, \"type\": \"histogram\", \"x\": [150.0, 25.0, 265.0, 320.0, 150.0, 130.0]}, {\"name\": \"Mid-Beacon Hill\", \"opacity\": 0.75, \"type\": \"histogram\", \"x\": [65.0, 45.0, 80.0, 50.0, 89.0, 35.0, 55.0, 35.0, 35.0, 58.0, 170.0, 85.0, 38.0, 104.0, 150.0, 55.0, 130.0, 38.0, 122.0, 55.0, 109.0, 199.0, 100.0, 45.0, 80.0, 80.0, 99.0, 58.0, 69.0, 65.0]}, {\"name\": \"South Beacon Hill\", \"opacity\": 0.75, \"type\": \"histogram\", \"x\": [38.0, 60.0, 60.0, 175.0]}, {\"name\": \"Greenwood\", \"opacity\": 0.75, \"type\": \"histogram\", \"x\": [280.0, 80.0, 85.0, 215.0, 120.0, 105.0, 90.0, 125.0, 105.0, 98.0, 44.0, 34.0, 50.0, 85.0, 62.0, 49.0, 50.0, 50.0, 70.0, 40.0, 40.0, 38.0, 26.0, 25.0, 49.0, 129.0, 175.0, 42.0, 126.0, 299.0, 99.0, 175.0, 125.0, 120.0, 42.0, 56.0, 55.0, 55.0, 235.0, 100.0, 60.0, 67.0, 95.0, 115.0, 50.0, 199.0, 86.0, 175.0, 55.0, 68.0, 60.0, 90.0, 139.0, 51.0, 50.0, 115.0, 80.0, 95.0, 85.0, 75.0, 100.0, 63.0, 100.0, 135.0, 125.0, 69.0, 280.0, 160.0, 75.0, 98.0, 109.0, 125.0, 225.0, 69.0, 75.0, 300.0, 60.0, 43.0, 85.0, 110.0, 52.0, 100.0, 50.0, 35.0, 66.0, 99.0, 89.0, 150.0, 90.0]}, {\"name\": \"Holly Park\", \"opacity\": 0.75, \"type\": \"histogram\", \"x\": [45.0, 60.0, 50.0, 215.0, 138.0, 375.0]}, {\"name\": \"Fauntleroy\", \"opacity\": 0.75, \"type\": \"histogram\", \"x\": [270.0, 495.0, 165.0, 129.0, 75.0, 80.0, 177.0, 85.0, 87.0, 78.0]}, {\"name\": \"North Beacon Hill\", \"opacity\": 0.75, \"type\": \"histogram\", \"x\": [60.0, 80.0, 180.0, 39.0, 60.0, 42.0, 126.0, 60.0, 99.0, 89.0, 79.0, 169.0, 79.0, 69.0, 60.0, 65.0, 260.0, 100.0, 90.0, 59.0, 70.0, 65.0, 85.0, 74.0, 99.0, 399.0, 300.0, 65.0, 79.0, 75.0, 75.0, 219.0, 165.0, 87.0, 169.0, 75.0, 30.0, 55.0, 45.0, 50.0, 149.0, 99.0, 69.0, 69.0, 80.0, 55.0, 75.0, 50.0, 69.0, 112.0, 150.0, 65.0, 104.0, 60.0, 60.0, 105.0, 144.0, 69.0, 108.0, 159.0, 85.0, 135.0, 89.0, 120.0, 70.0, 150.0, 120.0, 65.0, 60.0, 36.0, 95.0, 75.0, 130.0, 63.0, 60.0, 37.0, 85.0, 85.0]}, {\"name\": \"Mount Baker\", \"opacity\": 0.75, \"type\": \"histogram\", \"x\": [88.0, 300.0, 49.0, 55.0, 49.0, 40.0, 95.0, 70.0, 74.0, 90.0, 150.0, 175.0, 42.0, 59.0, 125.0, 85.0, 80.0, 125.0, 90.0, 125.0, 70.0, 95.0, 99.0, 155.0, 80.0, 140.0, 50.0, 139.0, 126.0, 105.0, 150.0, 80.0, 92.0, 69.0, 75.0, 105.0, 150.0, 150.0, 54.0, 52.0, 150.0, 80.0, 200.0, 68.0, 49.0, 39.0, 95.0, 89.0, 62.0, 81.0]}, {\"name\": \"Brighton\", \"opacity\": 0.75, \"type\": \"histogram\", \"x\": [84.0, 275.0, 39.0, 105.0, 105.0, 40.0, 34.0, 35.0, 65.0, 75.0, 199.0, 45.0, 85.0]}, {\"name\": \"South Delridge\", \"opacity\": 0.75, \"type\": \"histogram\", \"x\": [150.0, 41.0, 45.0, 99.0, 95.0, 79.0, 70.0, 50.0, 48.0, 65.0, 55.0, 99.0]}, {\"name\": \"View Ridge\", \"opacity\": 0.75, \"type\": \"histogram\", \"x\": [150.0, 110.0, 120.0, 49.0, 244.0, 125.0, 175.0]}, {\"name\": \"Dunlap\", \"opacity\": 0.75, \"type\": \"histogram\", \"x\": [38.0, 70.0, 150.0, 65.0, 99.0, 295.0, 95.0, 120.0, 45.0, 68.0, 55.0, 40.0, 36.0, 48.0, 90.0, 50.0, 60.0, 100.0, 200.0, 42.0]}, {\"name\": \"Rainier Beach\", \"opacity\": 0.75, \"type\": \"histogram\", \"x\": [35.0, 67.0, 55.0, 65.0, 169.0, 75.0, 88.0, 60.0, 35.0, 57.0, 37.0, 60.0, 39.0, 42.0, 79.0, 118.0, 60.0, 93.0]}, {\"name\": \"Columbia City\", \"opacity\": 0.75, \"type\": \"histogram\", \"x\": [69.0, 69.0, 65.0, 50.0, 65.0, 100.0, 65.0, 90.0, 80.0, 99.0, 75.0, 110.0, 125.0, 90.0, 40.0, 50.0, 97.0, 195.0, 100.0, 195.0, 150.0, 95.0, 72.0, 100.0, 55.0, 65.0, 124.0, 70.0, 65.0, 65.0, 72.0, 115.0, 220.0, 45.0, 90.0, 90.0, 25.0, 175.0, 150.0, 85.0, 49.0, 110.0, 59.0, 65.0, 70.0, 65.0, 85.0, 90.0, 70.0, 175.0, 199.0, 109.0, 70.0, 58.0, 35.0, 300.0, 95.0, 50.0]}, {\"name\": \"Seward Park\", \"opacity\": 0.75, \"type\": \"histogram\", \"x\": [70.0, 110.0, 200.0, 100.0, 63.0, 70.0, 60.0, 39.0, 36.0, 100.0, 250.0, 38.0, 65.0, 68.0, 110.0, 100.0, 99.0, 34.0, 41.0, 98.0, 188.0, 85.0, 80.0, 150.0, 160.0, 99.0, 75.0, 75.0, 65.0, 95.0, 90.0, 250.0, 115.0, 93.0, 45.0, 168.0, 127.0, 35.0, 65.0, 279.0, 93.0, 65.0, 150.0, 375.0]}, {\"name\": \"North Delridge\", \"opacity\": 0.75, \"type\": \"histogram\", \"x\": [85.0, 50.0, 55.0, 35.0, 85.0, 75.0, 70.0, 65.0, 99.0, 75.0, 100.0, 129.0, 80.0, 85.0, 95.0, 69.0, 42.0, 70.0, 55.0, 47.0, 148.0, 95.0, 49.0, 65.0, 50.0, 58.0, 55.0, 129.0, 95.0, 49.0, 85.0, 100.0]}, {\"name\": \"Maple Leaf\", \"opacity\": 0.75, \"type\": \"histogram\", \"x\": [59.0, 55.0, 55.0, 51.0, 200.0, 100.0, 79.0, 90.0, 30.0, 35.0, 45.0, 60.0, 50.0, 95.0, 64.0, 51.0, 75.0, 94.0, 100.0, 90.0, 69.0, 139.0, 55.0, 50.0, 120.0, 59.0, 135.0, 110.0, 137.0, 67.0, 110.0, 65.0, 37.0, 65.0, 130.0, 60.0, 79.0, 72.0, 95.0, 80.0, 109.0, 50.0]}, {\"name\": \"Ravenna\", \"opacity\": 0.75, \"type\": \"histogram\", \"x\": [85.0, 115.0, 98.0, 109.0, 28.0, 39.0, 63.0, 35.0, 42.0, 29.0, 70.0, 74.0, 75.0, 85.0, 50.0, 125.0, 93.0, 86.0, 80.0, 280.0, 138.0, 100.0, 45.0, 39.0, 127.0, 110.0, 40.0, 40.0, 90.0, 125.0, 39.0, 80.0, 325.0, 95.0, 115.0, 245.0, 69.0, 129.0, 28.0, 49.0, 110.0, 105.0, 38.0, 130.0, 39.0, 80.0, 110.0, 100.0, 50.0, 75.0, 85.0, 70.0, 95.0, 50.0, 115.0, 45.0, 60.0, 95.0, 39.0, 88.0, 175.0, 80.0, 35.0, 84.0, 49.0, 196.0, 55.0]}, {\"name\": \"Riverview\", \"opacity\": 0.75, \"type\": \"histogram\", \"x\": [120.0, 55.0, 60.0, 129.0, 90.0, 70.0, 65.0, 55.0]}, {\"name\": \"Portage Bay\", \"opacity\": 0.75, \"type\": \"histogram\", \"x\": [120.0, 525.0, 99.0, 90.0, 750.0, 250.0, 125.0, 380.0, 130.0, 135.0, 257.0, 90.0, 160.0, 79.0]}, {\"name\": \"Bryant\", \"opacity\": 0.75, \"type\": \"histogram\", \"x\": [66.0, 65.0, 60.0, 295.0, 79.0, 250.0, 58.0, 250.0, 50.0, 89.0, 47.0, 189.0, 175.0, 95.0, 80.0, 95.0, 65.0, 150.0, 94.0, 109.0, 62.0, 150.0, 185.0, 64.0, 100.0, 125.0, 45.0, 180.0, 60.0]}, {\"name\": \"Montlake\", \"opacity\": 0.75, \"type\": \"histogram\", \"x\": [125.0, 415.0, 129.0, 130.0, 55.0, 160.0, 55.0, 115.0, 260.0, 110.0, 750.0, 55.0, 89.0, 200.0, 85.0, 400.0, 100.0, 125.0, 115.0]}, {\"name\": \"Broadway\", \"opacity\": 0.75, \"type\": \"histogram\", \"x\": [50.0, 59.0, 122.0, 175.0, 69.0, 150.0, 80.0, 95.0, 100.0, 175.0, 200.0, 195.0, 145.0, 100.0, 90.0, 150.0, 550.0, 162.0, 75.0, 185.0, 50.0, 130.0, 230.0, 79.0, 85.0, 70.0, 85.0, 75.0, 95.0, 62.0, 119.0, 149.0, 139.0, 150.0, 148.0, 79.0, 69.0, 147.0, 256.0, 129.0, 59.0, 79.0, 150.0, 175.0, 99.0, 100.0, 75.0, 69.0, 103.0, 80.0, 90.0, 150.0, 69.0, 120.0, 65.0, 99.0, 110.0, 395.0, 98.0, 325.0, 90.0, 110.0, 70.0, 210.0, 49.0, 120.0, 210.0, 62.0, 70.0, 90.0, 99.0, 58.0, 81.0, 99.0, 150.0, 64.0, 160.0, 155.0, 135.0, 275.0, 85.0, 85.0, 75.0, 120.0, 135.0, 110.0, 79.0, 79.0, 245.0, 220.0, 109.0, 79.0, 45.0, 58.0, 100.0, 80.0, 100.0, 139.0, 169.0, 114.0, 85.0, 100.0, 125.0, 190.0, 100.0, 40.0, 40.0, 53.0, 250.0, 65.0, 55.0, 53.0, 55.0, 49.0, 75.0, 89.0, 90.0, 250.0, 199.0, 95.0, 89.0, 110.0, 155.0, 119.0, 25.0, 159.0, 125.0, 25.0, 225.0, 140.0, 89.0, 190.0, 99.0, 49.0, 100.0, 58.0, 200.0, 150.0, 59.0, 65.0, 80.0, 69.0, 75.0, 97.0, 174.0, 78.0, 89.0, 100.0, 125.0, 130.0, 132.0, 119.0, 150.0, 115.0, 99.0, 99.0, 120.0, 70.0, 150.0, 145.0, 118.0, 100.0, 100.0, 65.0, 115.0, 149.0, 59.0, 155.0, 100.0, 175.0, 70.0, 84.0, 175.0, 167.0, 99.0, 100.0, 259.0, 139.0, 185.0, 99.0, 90.0, 250.0, 85.0, 100.0, 80.0, 260.0, 125.0, 119.0, 182.0, 69.0, 90.0, 69.0, 130.0, 135.0, 82.0, 212.0, 47.0, 100.0, 100.0, 95.0, 239.0, 75.0, 75.0, 96.0, 90.0, 80.0, 200.0, 119.0, 69.0, 85.0, 69.0, 85.0, 100.0, 150.0, 140.0, 150.0, 100.0, 550.0, 69.0, 119.0, 350.0, 69.0, 48.0, 69.0, 61.0, 52.0, 95.0, 60.0, 225.0, 60.0, 75.0, 100.0, 93.0, 165.0, 139.0, 150.0, 350.0, 125.0, 69.0, 138.0, 138.0, 95.0, 145.0, 39.0, 115.0, 100.0, 175.0, 55.0, 82.0, 360.0, 85.0, 150.0, 68.0, 600.0, 149.0, 62.0, 111.0, 120.0, 96.0, 150.0, 100.0, 100.0, 105.0, 209.0, 250.0, 82.0, 110.0, 125.0, 109.0, 198.0, 160.0, 126.0, 99.0, 49.0, 99.0, 100.0, 82.0, 80.0, 65.0, 80.0, 39.0, 49.0, 125.0, 150.0, 90.0, 69.0, 104.0, 180.0, 150.0, 240.0, 70.0, 99.0, 99.0, 673.0, 98.0, 105.0, 63.0, 120.0, 78.0, 195.0, 200.0, 79.0, 69.0, 195.0, 119.0, 75.0, 99.0, 149.0, 199.0, 69.0, 69.0, 49.0, 239.0, 49.0, 29.0, 68.0, 134.0, 169.0, 120.0, 204.0, 295.0, 152.0, 69.0, 420.0, 81.0, 25.0, 195.0, 169.0, 95.0, 100.0, 85.0, 400.0, 120.0, 175.0, 200.0, 250.0, 69.0, 129.0, 59.0, 69.0, 75.0, 71.0, 49.0, 90.0, 140.0, 95.0, 100.0, 150.0, 89.0, 140.0, 150.0, 69.0, 125.0, 110.0, 152.0, 105.0, 49.0, 68.0, 100.0, 120.0, 120.0, 110.0, 160.0, 105.0, 82.0, 110.0, 126.0, 65.0, 99.0, 85.0, 199.0, 250.0, 159.0, 125.0, 45.0, 110.0, 109.0, 110.0, 119.0, 115.0, 60.0, 100.0, 150.0, 115.0, 139.0, 100.0, 300.0, 98.0, 200.0, 89.0, 60.0, 144.0, 110.0, 90.0, 189.0, 99.0, 175.0]}, {\"name\": \"Loyal Heights\", \"opacity\": 0.75, \"type\": \"histogram\", \"x\": [119.0, 80.0, 105.0, 98.0, 99.0, 49.0, 90.0, 55.0, 85.0, 46.0, 60.0, 46.0, 69.0, 75.0, 95.0, 55.0, 90.0, 49.0, 115.0, 49.0, 220.0, 135.0, 79.0, 99.0, 435.0, 110.0, 130.0, 220.0, 95.0, 105.0, 60.0, 250.0, 130.0, 95.0, 75.0, 75.0, 265.0, 105.0, 100.0, 175.0, 65.0, 99.0, 150.0, 299.0, 45.0, 47.0, 38.0, 150.0, 80.0, 69.0, 89.0, 70.0]}, {\"name\": \"Victory Heights\", \"opacity\": 0.75, \"type\": \"histogram\", \"x\": [40.0, 106.0, 100.0, 60.0, 70.0, 50.0, 45.0, 119.0, 200.0, 65.0, 50.0, 60.0, 60.0, 129.0, 68.0]}, {\"name\": \"Matthews Beach\", \"opacity\": 0.75, \"type\": \"histogram\", \"x\": [60.0, 51.0, 50.0, 150.0, 125.0, 119.0, 87.0, 130.0, 80.0, 65.0, 250.0, 159.0, 60.0, 91.0, 125.0, 43.0, 68.0, 70.0, 252.0]}, {\"name\": \"Whittier Heights\", \"opacity\": 0.75, \"type\": \"histogram\", \"x\": [71.0, 99.0, 140.0, 105.0, 115.0, 60.0, 125.0, 90.0, 150.0, 200.0, 135.0, 35.0, 400.0, 115.0, 86.0, 150.0, 225.0, 118.0, 58.0, 375.0, 89.0, 80.0, 65.0, 115.0, 69.0, 75.0]}, {\"name\": \"Meadowbrook\", \"opacity\": 0.75, \"type\": \"histogram\", \"x\": [47.0, 50.0, 80.0, 60.0, 55.0, 250.0, 89.0, 68.0, 189.0]}, {\"name\": \"Olympic Hills\", \"opacity\": 0.75, \"type\": \"histogram\", \"x\": [35.0, 55.0, 65.0, 42.0, 55.0, 80.0, 56.0, 50.0, 93.0, 54.0, 240.0, 62.0, 40.0, 72.0, 95.0, 53.0]}, {\"name\": \"Roosevelt\", \"opacity\": 0.75, \"type\": \"histogram\", \"x\": [65.0, 80.0, 105.0, 40.0, 93.0, 76.0, 100.0, 105.0, 82.0, 209.0, 109.0, 110.0, 1000.0, 60.0, 80.0, 90.0, 125.0, 110.0, 86.0, 165.0, 149.0, 84.0, 139.0, 33.0, 129.0, 59.0, 90.0, 150.0, 94.0, 39.0]}, {\"name\": \"Lower Queen Anne\", \"opacity\": 0.75, \"type\": \"histogram\", \"x\": [125.0, 65.0, 110.0, 75.0, 100.0, 99.0, 103.0, 105.0, 110.0, 175.0, 120.0, 275.0, 65.0, 100.0, 95.0, 100.0, 135.0, 200.0, 145.0, 145.0, 96.0, 498.0, 110.0, 119.0, 119.0, 217.0, 99.0, 95.0, 165.0, 85.0, 200.0, 120.0, 240.0, 275.0, 103.0, 165.0, 120.0, 200.0, 120.0, 200.0, 115.0, 125.0, 75.0, 115.0, 95.0, 259.0, 80.0, 130.0, 89.0, 130.0, 150.0, 72.0, 275.0, 80.0, 175.0, 75.0, 95.0, 310.0, 38.0, 189.0, 205.0, 199.0, 150.0, 67.0, 72.0, 175.0, 119.0, 97.0, 200.0, 190.0, 100.0, 99.0, 99.0, 119.0, 225.0, 100.0, 195.0, 85.0, 105.0, 190.0, 149.0, 119.0, 145.0, 220.0, 99.0, 125.0, 75.0, 145.0, 90.0, 76.0, 150.0, 93.0, 89.0, 160.0]}, {\"name\": \"Wedgwood\", \"opacity\": 0.75, \"type\": \"histogram\", \"x\": [65.0, 65.0, 75.0, 80.0, 100.0, 98.0, 299.0, 250.0, 175.0, 65.0, 75.0, 100.0, 60.0, 48.0, 48.0, 60.0, 125.0, 200.0]}, {\"name\": \"North Beach/Blue Ridge\", \"opacity\": 0.75, \"type\": \"histogram\", \"x\": [210.0, 85.0, 75.0, 75.0, 80.0, 180.0, 240.0, 49.0, 275.0, 95.0, 108.0, 150.0, 75.0, 99.0]}, {\"name\": \"Cedar Park\", \"opacity\": 0.75, \"type\": \"histogram\", \"x\": [110.0, 92.0, 171.0, 55.0, 70.0, 80.0, 250.0, 89.0]}, {\"name\": \"Bitter Lake\", \"opacity\": 0.75, \"type\": \"histogram\", \"x\": [90.0, 50.0, 170.0, 45.0, 39.0, 78.0, 99.0, 60.0, 65.0, 90.0, 64.0, 190.0, 39.0]}, {\"name\": \"Sunset Hill\", \"opacity\": 0.75, \"type\": \"histogram\", \"x\": [77.0, 80.0, 75.0, 75.0, 55.0, 70.0, 85.0, 85.0, 350.0, 92.0, 200.0, 50.0, 150.0, 475.0, 375.0, 450.0, 75.0, 350.0]}, {\"name\": \"Haller Lake\", \"opacity\": 0.75, \"type\": \"histogram\", \"x\": [75.0, 119.0, 97.0, 125.0, 200.0, 108.0, 49.0, 125.0, 70.0, 70.0, 98.0, 100.0, 36.0, 80.0, 199.0]}, {\"name\": \"Pinehurst\", \"opacity\": 0.75, \"type\": \"histogram\", \"x\": [139.0, 150.0, 55.0, 125.0]}, {\"name\": \"North College Park\", \"opacity\": 0.75, \"type\": \"histogram\", \"x\": [150.0, 73.0, 95.0, 88.0, 70.0, 100.0, 100.0, 129.0, 50.0, 96.0, 85.0, 189.0, 55.0, 99.0, 50.0, 65.0, 79.0, 55.0, 65.0]}, {\"name\": \"Phinney Ridge\", \"opacity\": 0.75, \"type\": \"histogram\", \"x\": [95.0, 100.0, 135.0, 87.0, 97.0, 78.0, 150.0, 95.0, 375.0, 150.0, 325.0, 60.0, 50.0, 120.0, 88.0, 150.0, 195.0, 50.0, 250.0, 87.0, 207.0, 70.0, 100.0, 175.0, 165.0, 120.0, 239.0, 200.0, 135.0, 155.0, 95.0, 78.0, 50.0, 90.0, 151.0, 75.0, 160.0, 189.0, 85.0, 112.0, 400.0, 175.0, 100.0, 350.0, 150.0, 55.0, 95.0, 80.0, 50.0, 95.0, 175.0, 50.0, 190.0, 99.0, 145.0, 90.0, 349.0, 150.0, 105.0, 95.0, 85.0, 52.0, 105.0, 100.0, 110.0, 67.0, 75.0, 69.0, 96.0, 60.0, 95.0, 100.0, 55.0]}, {\"name\": \"Windermere\", \"opacity\": 0.75, \"type\": \"histogram\", \"x\": [130.0, 125.0, 300.0, 200.0, 400.0, 165.0, 117.0, 85.0, 115.0, 62.0]}, {\"name\": \"Laurelhurst\", \"opacity\": 0.75, \"type\": \"histogram\", \"x\": [100.0, 100.0, 60.0, 185.0, 99.0, 200.0, 125.0, 60.0, 100.0, 55.0]}, {\"name\": \"Southeast Magnolia\", \"opacity\": 0.75, \"type\": \"histogram\", \"x\": [550.0, 75.0, 95.0, 150.0, 110.0, 228.0, 110.0, 950.0, 225.0, 125.0, 68.0, 250.0, 150.0, 48.0, 330.0, 125.0, 350.0]}, {\"name\": \"High Point\", \"opacity\": 0.75, \"type\": \"histogram\", \"x\": [80.0, 70.0, 70.0, 72.0, 99.0, 78.0, 300.0, 250.0, 39.0, 95.0, 97.0, 102.0, 60.0, 49.0]}, {\"name\": \"Seaview\", \"opacity\": 0.75, \"type\": \"histogram\", \"x\": [60.0, 79.0, 76.0, 110.0, 110.0, 59.0, 195.0, 85.0, 200.0, 109.0, 200.0, 135.0]}, {\"name\": \"Georgetown\", \"opacity\": 0.75, \"type\": \"histogram\", \"x\": [70.0, 90.0, 50.0, 99.0, 70.0, 65.0, 90.0, 75.0]}, {\"name\": \"South Park\", \"opacity\": 0.75, \"type\": \"histogram\", \"x\": [100.0, 65.0, 105.0]}, {\"name\": \"Roxhill\", \"opacity\": 0.75, \"type\": \"histogram\", \"x\": [125.0, 60.0]}, {\"name\": \"Highland Park\", \"opacity\": 0.75, \"type\": \"histogram\", \"x\": [59.0, 65.0, 58.0, 120.0, 150.0, 55.0, 110.0, 75.0, 75.0, 53.0, 129.0]}, {\"name\": \"Madison Park\", \"opacity\": 0.75, \"type\": \"histogram\", \"x\": [30.0, 70.0, 80.0, 125.0, 95.0, 285.0, 109.0, 275.0, 190.0, 80.0, 200.0, 70.0, 139.0, 75.0, 150.0, 215.0, 60.0, 99.0]}, {\"name\": \"Stevens\", \"opacity\": 0.75, \"type\": \"histogram\", \"x\": [250.0, 150.0, 139.0, 104.0, 125.0, 33.0, 27.0, 29.0, 29.0, 29.0, 30.0, 65.0, 125.0, 84.0, 70.0, 90.0, 100.0, 40.0, 75.0, 90.0, 150.0, 155.0, 145.0, 165.0, 125.0, 100.0, 65.0, 146.0, 125.0, 85.0, 140.0, 120.0, 100.0, 45.0, 300.0, 150.0, 99.0, 139.0, 100.0, 180.0, 30.0, 399.0, 300.0, 51.0, 70.0, 104.0, 80.0, 50.0, 150.0, 125.0, 200.0, 200.0, 115.0, 85.0, 120.0, 400.0, 95.0, 545.0, 250.0, 150.0, 22.0, 120.0, 140.0, 125.0, 126.0, 150.0, 129.0, 125.0, 250.0, 220.0, 162.0, 52.0, 165.0, 88.0, 100.0, 450.0, 152.0, 105.0, 295.0, 100.0, 65.0, 158.0, 138.0, 125.0, 125.0, 80.0, 100.0, 31.0, 115.0, 50.0, 29.0, 29.0, 120.0, 135.0, 125.0, 80.0, 125.0, 97.0, 449.0, 300.0, 155.0, 95.0, 135.0, 30.0, 92.0, 80.0, 30.0, 90.0, 65.0, 31.0, 139.0, 135.0, 83.0, 85.0, 195.0, 125.0, 450.0, 350.0, 98.0]}, {\"name\": \"Broadview\", \"opacity\": 0.75, \"type\": \"histogram\", \"x\": [45.0, 125.0, 75.0, 99.0, 49.0, 67.0, 105.0, 195.0, 125.0, 65.0, 125.0, 183.0, 39.0, 68.0, 120.0, 86.0, 39.0]}, {\"name\": \"Fremont\", \"opacity\": 0.75, \"type\": \"histogram\", \"x\": [200.0, 84.0, 150.0, 82.0, 140.0, 99.0, 149.0, 75.0, 125.0, 138.0, 65.0, 250.0, 200.0, 100.0, 180.0, 136.0, 129.0, 61.0, 275.0, 100.0, 59.0, 95.0, 500.0, 200.0, 95.0, 99.0, 55.0, 105.0, 75.0, 70.0, 35.0, 52.0, 57.0, 54.0, 35.0, 50.0, 67.0, 43.0, 97.0, 55.0, 69.0, 99.0, 149.0, 97.0, 45.0, 450.0, 49.0, 68.0, 75.0, 120.0, 195.0, 125.0, 300.0, 200.0, 115.0, 185.0, 149.0, 52.0, 75.0, 70.0, 125.0, 125.0, 99.0, 100.0, 75.0, 60.0, 150.0, 275.0, 232.0, 95.0, 200.0, 50.0, 85.0, 90.0, 120.0, 89.0, 65.0, 125.0, 67.0, 100.0, 150.0, 115.0, 210.0, 195.0, 59.0, 112.0, 110.0, 100.0, 235.0, 99.0, 115.0, 400.0, 62.0, 135.0, 119.0, 200.0, 160.0, 400.0, 225.0, 240.0, 50.0, 165.0, 350.0, 150.0, 150.0, 85.0, 150.0, 79.0, 76.0, 78.0, 50.0, 135.0, 105.0, 99.0, 65.0, 325.0, 99.0, 149.0, 79.0, 40.0, 115.0, 120.0, 150.0, 68.0, 125.0, 55.0, 99.0, 90.0, 110.0, 80.0, 87.0, 260.0, 115.0, 60.0, 175.0, 85.0, 109.0, 109.0, 107.0, 200.0, 85.0, 70.0, 77.0, 65.0, 185.0, 108.0, 200.0, 250.0, 125.0, 100.0, 160.0, 109.0, 175.0, 120.0, 154.0, 65.0, 95.0, 359.0]}],\n",
       "                        {\"barmode\": \"stack\", \"template\": {\"data\": {\"bar\": [{\"error_x\": {\"color\": \"#2a3f5f\"}, \"error_y\": {\"color\": \"#2a3f5f\"}, \"marker\": {\"line\": {\"color\": \"#E5ECF6\", \"width\": 0.5}}, \"type\": \"bar\"}], \"barpolar\": [{\"marker\": {\"line\": {\"color\": \"#E5ECF6\", \"width\": 0.5}}, \"type\": \"barpolar\"}], \"carpet\": [{\"aaxis\": {\"endlinecolor\": \"#2a3f5f\", \"gridcolor\": \"white\", \"linecolor\": \"white\", \"minorgridcolor\": \"white\", \"startlinecolor\": \"#2a3f5f\"}, \"baxis\": {\"endlinecolor\": \"#2a3f5f\", \"gridcolor\": \"white\", \"linecolor\": \"white\", \"minorgridcolor\": \"white\", \"startlinecolor\": \"#2a3f5f\"}, \"type\": \"carpet\"}], \"choropleth\": [{\"colorbar\": {\"outlinewidth\": 0, \"ticks\": \"\"}, \"type\": \"choropleth\"}], \"contour\": [{\"colorbar\": {\"outlinewidth\": 0, \"ticks\": \"\"}, \"colorscale\": [[0.0, \"#0d0887\"], [0.1111111111111111, \"#46039f\"], [0.2222222222222222, \"#7201a8\"], [0.3333333333333333, \"#9c179e\"], [0.4444444444444444, \"#bd3786\"], [0.5555555555555556, \"#d8576b\"], [0.6666666666666666, \"#ed7953\"], [0.7777777777777778, \"#fb9f3a\"], [0.8888888888888888, \"#fdca26\"], [1.0, \"#f0f921\"]], \"type\": \"contour\"}], \"contourcarpet\": [{\"colorbar\": {\"outlinewidth\": 0, \"ticks\": \"\"}, \"type\": \"contourcarpet\"}], \"heatmap\": [{\"colorbar\": {\"outlinewidth\": 0, \"ticks\": \"\"}, \"colorscale\": [[0.0, \"#0d0887\"], [0.1111111111111111, \"#46039f\"], [0.2222222222222222, \"#7201a8\"], [0.3333333333333333, \"#9c179e\"], [0.4444444444444444, \"#bd3786\"], [0.5555555555555556, \"#d8576b\"], [0.6666666666666666, \"#ed7953\"], [0.7777777777777778, \"#fb9f3a\"], [0.8888888888888888, \"#fdca26\"], [1.0, \"#f0f921\"]], \"type\": \"heatmap\"}], \"heatmapgl\": [{\"colorbar\": {\"outlinewidth\": 0, \"ticks\": \"\"}, \"colorscale\": [[0.0, \"#0d0887\"], [0.1111111111111111, \"#46039f\"], [0.2222222222222222, \"#7201a8\"], [0.3333333333333333, \"#9c179e\"], [0.4444444444444444, \"#bd3786\"], [0.5555555555555556, \"#d8576b\"], [0.6666666666666666, \"#ed7953\"], [0.7777777777777778, \"#fb9f3a\"], [0.8888888888888888, \"#fdca26\"], [1.0, \"#f0f921\"]], \"type\": \"heatmapgl\"}], \"histogram\": [{\"marker\": {\"colorbar\": {\"outlinewidth\": 0, \"ticks\": \"\"}}, \"type\": \"histogram\"}], \"histogram2d\": [{\"colorbar\": {\"outlinewidth\": 0, \"ticks\": \"\"}, \"colorscale\": [[0.0, \"#0d0887\"], [0.1111111111111111, \"#46039f\"], [0.2222222222222222, \"#7201a8\"], [0.3333333333333333, \"#9c179e\"], [0.4444444444444444, \"#bd3786\"], [0.5555555555555556, \"#d8576b\"], [0.6666666666666666, \"#ed7953\"], [0.7777777777777778, \"#fb9f3a\"], [0.8888888888888888, \"#fdca26\"], [1.0, \"#f0f921\"]], \"type\": \"histogram2d\"}], \"histogram2dcontour\": [{\"colorbar\": {\"outlinewidth\": 0, \"ticks\": \"\"}, \"colorscale\": [[0.0, \"#0d0887\"], [0.1111111111111111, \"#46039f\"], [0.2222222222222222, \"#7201a8\"], [0.3333333333333333, \"#9c179e\"], [0.4444444444444444, \"#bd3786\"], [0.5555555555555556, \"#d8576b\"], [0.6666666666666666, \"#ed7953\"], [0.7777777777777778, \"#fb9f3a\"], [0.8888888888888888, \"#fdca26\"], [1.0, \"#f0f921\"]], \"type\": \"histogram2dcontour\"}], \"mesh3d\": [{\"colorbar\": {\"outlinewidth\": 0, \"ticks\": \"\"}, \"type\": \"mesh3d\"}], \"parcoords\": [{\"line\": {\"colorbar\": {\"outlinewidth\": 0, \"ticks\": \"\"}}, \"type\": \"parcoords\"}], \"scatter\": [{\"marker\": {\"colorbar\": {\"outlinewidth\": 0, \"ticks\": \"\"}}, \"type\": \"scatter\"}], \"scatter3d\": [{\"line\": {\"colorbar\": {\"outlinewidth\": 0, \"ticks\": \"\"}}, \"marker\": {\"colorbar\": {\"outlinewidth\": 0, \"ticks\": \"\"}}, \"type\": \"scatter3d\"}], \"scattercarpet\": [{\"marker\": {\"colorbar\": {\"outlinewidth\": 0, \"ticks\": \"\"}}, \"type\": \"scattercarpet\"}], \"scattergeo\": [{\"marker\": {\"colorbar\": {\"outlinewidth\": 0, \"ticks\": \"\"}}, \"type\": \"scattergeo\"}], \"scattergl\": [{\"marker\": {\"colorbar\": {\"outlinewidth\": 0, \"ticks\": \"\"}}, \"type\": \"scattergl\"}], \"scattermapbox\": [{\"marker\": {\"colorbar\": {\"outlinewidth\": 0, \"ticks\": \"\"}}, \"type\": \"scattermapbox\"}], \"scatterpolar\": [{\"marker\": {\"colorbar\": {\"outlinewidth\": 0, \"ticks\": \"\"}}, \"type\": \"scatterpolar\"}], \"scatterpolargl\": [{\"marker\": {\"colorbar\": {\"outlinewidth\": 0, \"ticks\": \"\"}}, \"type\": \"scatterpolargl\"}], \"scatterternary\": [{\"marker\": {\"colorbar\": {\"outlinewidth\": 0, \"ticks\": \"\"}}, \"type\": \"scatterternary\"}], \"surface\": [{\"colorbar\": {\"outlinewidth\": 0, \"ticks\": \"\"}, \"colorscale\": [[0.0, \"#0d0887\"], [0.1111111111111111, \"#46039f\"], [0.2222222222222222, \"#7201a8\"], [0.3333333333333333, \"#9c179e\"], [0.4444444444444444, \"#bd3786\"], [0.5555555555555556, \"#d8576b\"], [0.6666666666666666, \"#ed7953\"], [0.7777777777777778, \"#fb9f3a\"], [0.8888888888888888, \"#fdca26\"], [1.0, \"#f0f921\"]], \"type\": \"surface\"}], \"table\": [{\"cells\": {\"fill\": {\"color\": \"#EBF0F8\"}, \"line\": {\"color\": \"white\"}}, \"header\": {\"fill\": {\"color\": \"#C8D4E3\"}, \"line\": {\"color\": \"white\"}}, \"type\": \"table\"}]}, \"layout\": {\"annotationdefaults\": {\"arrowcolor\": \"#2a3f5f\", \"arrowhead\": 0, \"arrowwidth\": 1}, \"colorscale\": {\"diverging\": [[0, \"#8e0152\"], [0.1, \"#c51b7d\"], [0.2, \"#de77ae\"], [0.3, \"#f1b6da\"], [0.4, \"#fde0ef\"], [0.5, \"#f7f7f7\"], [0.6, \"#e6f5d0\"], [0.7, \"#b8e186\"], [0.8, \"#7fbc41\"], [0.9, \"#4d9221\"], [1, \"#276419\"]], \"sequential\": [[0.0, \"#0d0887\"], [0.1111111111111111, \"#46039f\"], [0.2222222222222222, \"#7201a8\"], [0.3333333333333333, \"#9c179e\"], [0.4444444444444444, \"#bd3786\"], [0.5555555555555556, \"#d8576b\"], [0.6666666666666666, \"#ed7953\"], [0.7777777777777778, \"#fb9f3a\"], [0.8888888888888888, \"#fdca26\"], [1.0, \"#f0f921\"]], \"sequentialminus\": [[0.0, \"#0d0887\"], [0.1111111111111111, \"#46039f\"], [0.2222222222222222, \"#7201a8\"], [0.3333333333333333, \"#9c179e\"], [0.4444444444444444, \"#bd3786\"], [0.5555555555555556, \"#d8576b\"], [0.6666666666666666, \"#ed7953\"], [0.7777777777777778, \"#fb9f3a\"], [0.8888888888888888, \"#fdca26\"], [1.0, \"#f0f921\"]]}, \"colorway\": [\"#636efa\", \"#EF553B\", \"#00cc96\", \"#ab63fa\", \"#FFA15A\", \"#19d3f3\", \"#FF6692\", \"#B6E880\", \"#FF97FF\", \"#FECB52\"], \"font\": {\"color\": \"#2a3f5f\"}, \"geo\": {\"bgcolor\": \"white\", \"lakecolor\": \"white\", \"landcolor\": \"#E5ECF6\", \"showlakes\": true, \"showland\": true, \"subunitcolor\": \"white\"}, \"hoverlabel\": {\"align\": \"left\"}, \"hovermode\": \"closest\", \"mapbox\": {\"style\": \"light\"}, \"paper_bgcolor\": \"white\", \"plot_bgcolor\": \"#E5ECF6\", \"polar\": {\"angularaxis\": {\"gridcolor\": \"white\", \"linecolor\": \"white\", \"ticks\": \"\"}, \"bgcolor\": \"#E5ECF6\", \"radialaxis\": {\"gridcolor\": \"white\", \"linecolor\": \"white\", \"ticks\": \"\"}}, \"scene\": {\"xaxis\": {\"backgroundcolor\": \"#E5ECF6\", \"gridcolor\": \"white\", \"gridwidth\": 2, \"linecolor\": \"white\", \"showbackground\": true, \"ticks\": \"\", \"zerolinecolor\": \"white\"}, \"yaxis\": {\"backgroundcolor\": \"#E5ECF6\", \"gridcolor\": \"white\", \"gridwidth\": 2, \"linecolor\": \"white\", \"showbackground\": true, \"ticks\": \"\", \"zerolinecolor\": \"white\"}, \"zaxis\": {\"backgroundcolor\": \"#E5ECF6\", \"gridcolor\": \"white\", \"gridwidth\": 2, \"linecolor\": \"white\", \"showbackground\": true, \"ticks\": \"\", \"zerolinecolor\": \"white\"}}, \"shapedefaults\": {\"line\": {\"color\": \"#2a3f5f\"}}, \"ternary\": {\"aaxis\": {\"gridcolor\": \"white\", \"linecolor\": \"white\", \"ticks\": \"\"}, \"baxis\": {\"gridcolor\": \"white\", \"linecolor\": \"white\", \"ticks\": \"\"}, \"bgcolor\": \"#E5ECF6\", \"caxis\": {\"gridcolor\": \"white\", \"linecolor\": \"white\", \"ticks\": \"\"}}, \"title\": {\"x\": 0.05}, \"xaxis\": {\"automargin\": true, \"gridcolor\": \"white\", \"linecolor\": \"white\", \"ticks\": \"\", \"zerolinecolor\": \"white\", \"zerolinewidth\": 2}, \"yaxis\": {\"automargin\": true, \"gridcolor\": \"white\", \"linecolor\": \"white\", \"ticks\": \"\", \"zerolinecolor\": \"white\", \"zerolinewidth\": 2}}}, \"xaxis\": {\"title\": {\"text\": \"Listing Price\"}}, \"yaxis\": {\"title\": {\"text\": \"Count\"}}},\n",
       "                        {\"responsive\": true}\n",
       "                    ).then(function(){\n",
       "                            \n",
       "var gd = document.getElementById('034e1666-0bc4-402b-bfcb-50241f168fb7');\n",
       "var x = new MutationObserver(function (mutations, observer) {{\n",
       "        var display = window.getComputedStyle(gd).display;\n",
       "        if (!display || display === 'none') {{\n",
       "            console.log([gd, 'removed!']);\n",
       "            Plotly.purge(gd);\n",
       "            observer.disconnect();\n",
       "        }}\n",
       "}});\n",
       "\n",
       "// Listen for the removal of the full notebook cells\n",
       "var notebookContainer = gd.closest('#notebook-container');\n",
       "if (notebookContainer) {{\n",
       "    x.observe(notebookContainer, {childList: true});\n",
       "}}\n",
       "\n",
       "// Listen for the clearing of the current output cell\n",
       "var outputEl = gd.closest('.output');\n",
       "if (outputEl) {{\n",
       "    x.observe(outputEl, {childList: true});\n",
       "}}\n",
       "\n",
       "                        })\n",
       "                };\n",
       "                });\n",
       "            </script>\n",
       "        </div>"
      ]
     },
     "metadata": {},
     "output_type": "display_data"
    }
   ],
   "source": [
    "neighbourhood_list = df['neighbourhood_cleansed'].unique().tolist()\n",
    "hist_data = []\n",
    "\n",
    "for neighbourhood in neighbourhood_list:\n",
    "    trace = go.Histogram(x = df.loc[df['neighbourhood_cleansed'] == neighbourhood].price.tolist(), opacity=0.75, name = neighbourhood)\n",
    "    hist_data.append(trace)\n",
    "\n",
    "layout = go.Layout(barmode='stack', xaxis = dict(title='Listing Price'), yaxis = dict(title='Count'))\n",
    "fig = go.Figure(data=hist_data, layout=layout)\n",
    "\n",
    "# refer to README.md for dependencies on displaying Plotly Figure in jupyter notebook https://plot.ly/python/static-image-export/\n",
    "fig.show()\n"
   ]
  },
  {
   "cell_type": "markdown",
   "metadata": {},
   "source": [
    "This histogram shows us that there is a long tail for listing prices but that a majority are under $200 with a mean of ~$127. The visualization doesn't help aid in our intution of how listings are distributed by neighborhood however.\n",
    "\n",
    "I grouped the data by the 'neighbourhood_cleansed' variable and decided to focus my analysis on the top 10 most expensive neighborhoods measured by average (mean) price. I also calculated the standard deviation to get an indication of how spread out the price listings are for their respective locale.\n",
    "\n"
   ]
  },
  {
   "cell_type": "code",
   "execution_count": 133,
   "metadata": {},
   "outputs": [
    {
     "data": {
      "text/html": [
       "<div>\n",
       "<style scoped>\n",
       "    .dataframe tbody tr th:only-of-type {\n",
       "        vertical-align: middle;\n",
       "    }\n",
       "\n",
       "    .dataframe tbody tr th {\n",
       "        vertical-align: top;\n",
       "    }\n",
       "\n",
       "    .dataframe thead th {\n",
       "        text-align: right;\n",
       "    }\n",
       "</style>\n",
       "<table border=\"1\" class=\"dataframe\">\n",
       "  <thead>\n",
       "    <tr style=\"text-align: right;\">\n",
       "      <th></th>\n",
       "      <th>mean_price</th>\n",
       "      <th>std_price</th>\n",
       "    </tr>\n",
       "    <tr>\n",
       "      <th>neighbourhood_cleansed</th>\n",
       "      <th></th>\n",
       "      <th></th>\n",
       "    </tr>\n",
       "  </thead>\n",
       "  <tbody>\n",
       "    <tr>\n",
       "      <th>Southeast Magnolia</th>\n",
       "      <td>231.705882</td>\n",
       "      <td>225.117682</td>\n",
       "    </tr>\n",
       "    <tr>\n",
       "      <th>Portage Bay</th>\n",
       "      <td>227.857143</td>\n",
       "      <td>197.523458</td>\n",
       "    </tr>\n",
       "    <tr>\n",
       "      <th>Westlake</th>\n",
       "      <td>194.470588</td>\n",
       "      <td>173.057475</td>\n",
       "    </tr>\n",
       "    <tr>\n",
       "      <th>West Queen Anne</th>\n",
       "      <td>187.769231</td>\n",
       "      <td>170.476425</td>\n",
       "    </tr>\n",
       "    <tr>\n",
       "      <th>Montlake</th>\n",
       "      <td>182.789474</td>\n",
       "      <td>171.700508</td>\n",
       "    </tr>\n",
       "    <tr>\n",
       "      <th>Briarcliff</th>\n",
       "      <td>176.571429</td>\n",
       "      <td>96.767536</td>\n",
       "    </tr>\n",
       "    <tr>\n",
       "      <th>Sunset Hill</th>\n",
       "      <td>176.055556</td>\n",
       "      <td>149.680630</td>\n",
       "    </tr>\n",
       "    <tr>\n",
       "      <th>Industrial District</th>\n",
       "      <td>173.333333</td>\n",
       "      <td>104.769588</td>\n",
       "    </tr>\n",
       "    <tr>\n",
       "      <th>Alki</th>\n",
       "      <td>171.619048</td>\n",
       "      <td>97.471685</td>\n",
       "    </tr>\n",
       "    <tr>\n",
       "      <th>Windermere</th>\n",
       "      <td>169.900000</td>\n",
       "      <td>104.919493</td>\n",
       "    </tr>\n",
       "  </tbody>\n",
       "</table>\n",
       "</div>"
      ],
      "text/plain": [
       "                        mean_price   std_price\n",
       "neighbourhood_cleansed                        \n",
       "Southeast Magnolia      231.705882  225.117682\n",
       "Portage Bay             227.857143  197.523458\n",
       "Westlake                194.470588  173.057475\n",
       "West Queen Anne         187.769231  170.476425\n",
       "Montlake                182.789474  171.700508\n",
       "Briarcliff              176.571429   96.767536\n",
       "Sunset Hill             176.055556  149.680630\n",
       "Industrial District     173.333333  104.769588\n",
       "Alki                    171.619048   97.471685\n",
       "Windermere              169.900000  104.919493"
      ]
     },
     "execution_count": 133,
     "metadata": {},
     "output_type": "execute_result"
    }
   ],
   "source": [
    "neighborhood_mean_df = pd.DataFrame(df.groupby('neighbourhood_cleansed').mean()['price'].sort_values(ascending=False))\n",
    "neighborhood_mean_df = neighborhood_mean_df.rename(columns = {'price': 'mean_price'})\n",
    "\n",
    "neighborhood_std_df = pd.DataFrame(df.groupby('neighbourhood_cleansed').std()['price'].sort_values(ascending=False))\n",
    "neighborhood_std_df = neighborhood_std_df.rename(columns = {'price': 'std_price'})\n",
    "\n",
    "neighborhood_df = neighborhood_mean_df.merge(neighborhood_std_df, on='neighbourhood_cleansed')\n",
    "\n",
    "top_10 = neighborhood_df.index[:10].tolist() # the subset of neighborhoods we'll analyze for question two\n",
    "\n",
    "neighborhood_df.head(10)"
   ]
  },
  {
   "cell_type": "markdown",
   "metadata": {},
   "source": [
    "The Southeast Magnolia and Portage Bay are the most expensive neighborhoods with the average listing exceeding $200.\n",
    "\n",
    "The standard deviations are also high for these neighborhoods. Numeric text isn’t good enough to really build an intuition, so I visualized the distribution of the data with a box plot for each neighborhood."
   ]
  },
  {
   "cell_type": "code",
   "execution_count": 134,
   "metadata": {},
   "outputs": [
    {
     "data": {
      "application/vnd.plotly.v1+json": {
       "config": {
        "plotlyServerURL": "https://plot.ly"
       },
       "data": [
        {
         "name": "Southeast Magnolia",
         "type": "box",
         "x": [
          550,
          75,
          95,
          150,
          110,
          228,
          110,
          950,
          225,
          125,
          68,
          250,
          150,
          48,
          330,
          125,
          350
         ]
        },
        {
         "name": "Portage Bay",
         "type": "box",
         "x": [
          120,
          525,
          99,
          90,
          750,
          250,
          125,
          380,
          130,
          135,
          257,
          90,
          160,
          79
         ]
        },
        {
         "name": "Westlake",
         "type": "box",
         "x": [
          85,
          190,
          65,
          250,
          69,
          400,
          150,
          200,
          141,
          85,
          775,
          195,
          249,
          95,
          122,
          170,
          65
         ]
        },
        {
         "name": "West Queen Anne",
         "type": "box",
         "x": [
          85,
          150,
          975,
          100,
          450,
          120,
          80,
          60,
          90,
          150,
          95,
          99,
          245,
          165,
          461,
          109,
          66,
          99,
          200,
          700,
          110,
          99,
          450,
          75,
          600,
          450,
          150,
          45,
          300,
          80,
          175,
          325,
          175,
          222,
          159,
          125,
          348,
          45,
          150,
          80,
          110,
          148,
          350,
          150,
          150,
          100,
          349,
          110,
          160,
          130,
          99,
          100,
          137,
          20,
          150,
          145,
          80,
          95,
          400,
          85,
          70,
          90,
          80,
          60,
          175
         ]
        },
        {
         "name": "Montlake",
         "type": "box",
         "x": [
          125,
          415,
          129,
          130,
          55,
          160,
          55,
          115,
          260,
          110,
          750,
          55,
          89,
          200,
          85,
          400,
          100,
          125,
          115
         ]
        },
        {
         "name": "Briarcliff",
         "type": "box",
         "x": [
          175,
          88,
          100,
          225,
          200,
          250,
          95,
          172,
          99,
          99,
          175,
          350,
          69,
          375
         ]
        },
        {
         "name": "Sunset Hill",
         "type": "box",
         "x": [
          77,
          80,
          75,
          75,
          55,
          70,
          85,
          85,
          350,
          92,
          200,
          50,
          150,
          475,
          375,
          450,
          75,
          350
         ]
        },
        {
         "name": "Industrial District",
         "type": "box",
         "x": [
          150,
          25,
          265,
          320,
          150,
          130
         ]
        },
        {
         "name": "Alki",
         "type": "box",
         "x": [
          240,
          100,
          100,
          119,
          219,
          249,
          265,
          124,
          100,
          250,
          40,
          100,
          99,
          135,
          90,
          90,
          269,
          325,
          350,
          95,
          120,
          79,
          130,
          129,
          399,
          350,
          42,
          95,
          109,
          225,
          235,
          85,
          150,
          218,
          120,
          225,
          350,
          250,
          100,
          79,
          300,
          59
         ]
        },
        {
         "name": "Windermere",
         "type": "box",
         "x": [
          130,
          125,
          300,
          200,
          400,
          165,
          117,
          85,
          115,
          62
         ]
        }
       ],
       "layout": {
        "template": {
         "data": {
          "bar": [
           {
            "error_x": {
             "color": "#2a3f5f"
            },
            "error_y": {
             "color": "#2a3f5f"
            },
            "marker": {
             "line": {
              "color": "#E5ECF6",
              "width": 0.5
             }
            },
            "type": "bar"
           }
          ],
          "barpolar": [
           {
            "marker": {
             "line": {
              "color": "#E5ECF6",
              "width": 0.5
             }
            },
            "type": "barpolar"
           }
          ],
          "carpet": [
           {
            "aaxis": {
             "endlinecolor": "#2a3f5f",
             "gridcolor": "white",
             "linecolor": "white",
             "minorgridcolor": "white",
             "startlinecolor": "#2a3f5f"
            },
            "baxis": {
             "endlinecolor": "#2a3f5f",
             "gridcolor": "white",
             "linecolor": "white",
             "minorgridcolor": "white",
             "startlinecolor": "#2a3f5f"
            },
            "type": "carpet"
           }
          ],
          "choropleth": [
           {
            "colorbar": {
             "outlinewidth": 0,
             "ticks": ""
            },
            "type": "choropleth"
           }
          ],
          "contour": [
           {
            "colorbar": {
             "outlinewidth": 0,
             "ticks": ""
            },
            "colorscale": [
             [
              0,
              "#0d0887"
             ],
             [
              0.1111111111111111,
              "#46039f"
             ],
             [
              0.2222222222222222,
              "#7201a8"
             ],
             [
              0.3333333333333333,
              "#9c179e"
             ],
             [
              0.4444444444444444,
              "#bd3786"
             ],
             [
              0.5555555555555556,
              "#d8576b"
             ],
             [
              0.6666666666666666,
              "#ed7953"
             ],
             [
              0.7777777777777778,
              "#fb9f3a"
             ],
             [
              0.8888888888888888,
              "#fdca26"
             ],
             [
              1,
              "#f0f921"
             ]
            ],
            "type": "contour"
           }
          ],
          "contourcarpet": [
           {
            "colorbar": {
             "outlinewidth": 0,
             "ticks": ""
            },
            "type": "contourcarpet"
           }
          ],
          "heatmap": [
           {
            "colorbar": {
             "outlinewidth": 0,
             "ticks": ""
            },
            "colorscale": [
             [
              0,
              "#0d0887"
             ],
             [
              0.1111111111111111,
              "#46039f"
             ],
             [
              0.2222222222222222,
              "#7201a8"
             ],
             [
              0.3333333333333333,
              "#9c179e"
             ],
             [
              0.4444444444444444,
              "#bd3786"
             ],
             [
              0.5555555555555556,
              "#d8576b"
             ],
             [
              0.6666666666666666,
              "#ed7953"
             ],
             [
              0.7777777777777778,
              "#fb9f3a"
             ],
             [
              0.8888888888888888,
              "#fdca26"
             ],
             [
              1,
              "#f0f921"
             ]
            ],
            "type": "heatmap"
           }
          ],
          "heatmapgl": [
           {
            "colorbar": {
             "outlinewidth": 0,
             "ticks": ""
            },
            "colorscale": [
             [
              0,
              "#0d0887"
             ],
             [
              0.1111111111111111,
              "#46039f"
             ],
             [
              0.2222222222222222,
              "#7201a8"
             ],
             [
              0.3333333333333333,
              "#9c179e"
             ],
             [
              0.4444444444444444,
              "#bd3786"
             ],
             [
              0.5555555555555556,
              "#d8576b"
             ],
             [
              0.6666666666666666,
              "#ed7953"
             ],
             [
              0.7777777777777778,
              "#fb9f3a"
             ],
             [
              0.8888888888888888,
              "#fdca26"
             ],
             [
              1,
              "#f0f921"
             ]
            ],
            "type": "heatmapgl"
           }
          ],
          "histogram": [
           {
            "marker": {
             "colorbar": {
              "outlinewidth": 0,
              "ticks": ""
             }
            },
            "type": "histogram"
           }
          ],
          "histogram2d": [
           {
            "colorbar": {
             "outlinewidth": 0,
             "ticks": ""
            },
            "colorscale": [
             [
              0,
              "#0d0887"
             ],
             [
              0.1111111111111111,
              "#46039f"
             ],
             [
              0.2222222222222222,
              "#7201a8"
             ],
             [
              0.3333333333333333,
              "#9c179e"
             ],
             [
              0.4444444444444444,
              "#bd3786"
             ],
             [
              0.5555555555555556,
              "#d8576b"
             ],
             [
              0.6666666666666666,
              "#ed7953"
             ],
             [
              0.7777777777777778,
              "#fb9f3a"
             ],
             [
              0.8888888888888888,
              "#fdca26"
             ],
             [
              1,
              "#f0f921"
             ]
            ],
            "type": "histogram2d"
           }
          ],
          "histogram2dcontour": [
           {
            "colorbar": {
             "outlinewidth": 0,
             "ticks": ""
            },
            "colorscale": [
             [
              0,
              "#0d0887"
             ],
             [
              0.1111111111111111,
              "#46039f"
             ],
             [
              0.2222222222222222,
              "#7201a8"
             ],
             [
              0.3333333333333333,
              "#9c179e"
             ],
             [
              0.4444444444444444,
              "#bd3786"
             ],
             [
              0.5555555555555556,
              "#d8576b"
             ],
             [
              0.6666666666666666,
              "#ed7953"
             ],
             [
              0.7777777777777778,
              "#fb9f3a"
             ],
             [
              0.8888888888888888,
              "#fdca26"
             ],
             [
              1,
              "#f0f921"
             ]
            ],
            "type": "histogram2dcontour"
           }
          ],
          "mesh3d": [
           {
            "colorbar": {
             "outlinewidth": 0,
             "ticks": ""
            },
            "type": "mesh3d"
           }
          ],
          "parcoords": [
           {
            "line": {
             "colorbar": {
              "outlinewidth": 0,
              "ticks": ""
             }
            },
            "type": "parcoords"
           }
          ],
          "scatter": [
           {
            "marker": {
             "colorbar": {
              "outlinewidth": 0,
              "ticks": ""
             }
            },
            "type": "scatter"
           }
          ],
          "scatter3d": [
           {
            "line": {
             "colorbar": {
              "outlinewidth": 0,
              "ticks": ""
             }
            },
            "marker": {
             "colorbar": {
              "outlinewidth": 0,
              "ticks": ""
             }
            },
            "type": "scatter3d"
           }
          ],
          "scattercarpet": [
           {
            "marker": {
             "colorbar": {
              "outlinewidth": 0,
              "ticks": ""
             }
            },
            "type": "scattercarpet"
           }
          ],
          "scattergeo": [
           {
            "marker": {
             "colorbar": {
              "outlinewidth": 0,
              "ticks": ""
             }
            },
            "type": "scattergeo"
           }
          ],
          "scattergl": [
           {
            "marker": {
             "colorbar": {
              "outlinewidth": 0,
              "ticks": ""
             }
            },
            "type": "scattergl"
           }
          ],
          "scattermapbox": [
           {
            "marker": {
             "colorbar": {
              "outlinewidth": 0,
              "ticks": ""
             }
            },
            "type": "scattermapbox"
           }
          ],
          "scatterpolar": [
           {
            "marker": {
             "colorbar": {
              "outlinewidth": 0,
              "ticks": ""
             }
            },
            "type": "scatterpolar"
           }
          ],
          "scatterpolargl": [
           {
            "marker": {
             "colorbar": {
              "outlinewidth": 0,
              "ticks": ""
             }
            },
            "type": "scatterpolargl"
           }
          ],
          "scatterternary": [
           {
            "marker": {
             "colorbar": {
              "outlinewidth": 0,
              "ticks": ""
             }
            },
            "type": "scatterternary"
           }
          ],
          "surface": [
           {
            "colorbar": {
             "outlinewidth": 0,
             "ticks": ""
            },
            "colorscale": [
             [
              0,
              "#0d0887"
             ],
             [
              0.1111111111111111,
              "#46039f"
             ],
             [
              0.2222222222222222,
              "#7201a8"
             ],
             [
              0.3333333333333333,
              "#9c179e"
             ],
             [
              0.4444444444444444,
              "#bd3786"
             ],
             [
              0.5555555555555556,
              "#d8576b"
             ],
             [
              0.6666666666666666,
              "#ed7953"
             ],
             [
              0.7777777777777778,
              "#fb9f3a"
             ],
             [
              0.8888888888888888,
              "#fdca26"
             ],
             [
              1,
              "#f0f921"
             ]
            ],
            "type": "surface"
           }
          ],
          "table": [
           {
            "cells": {
             "fill": {
              "color": "#EBF0F8"
             },
             "line": {
              "color": "white"
             }
            },
            "header": {
             "fill": {
              "color": "#C8D4E3"
             },
             "line": {
              "color": "white"
             }
            },
            "type": "table"
           }
          ]
         },
         "layout": {
          "annotationdefaults": {
           "arrowcolor": "#2a3f5f",
           "arrowhead": 0,
           "arrowwidth": 1
          },
          "colorscale": {
           "diverging": [
            [
             0,
             "#8e0152"
            ],
            [
             0.1,
             "#c51b7d"
            ],
            [
             0.2,
             "#de77ae"
            ],
            [
             0.3,
             "#f1b6da"
            ],
            [
             0.4,
             "#fde0ef"
            ],
            [
             0.5,
             "#f7f7f7"
            ],
            [
             0.6,
             "#e6f5d0"
            ],
            [
             0.7,
             "#b8e186"
            ],
            [
             0.8,
             "#7fbc41"
            ],
            [
             0.9,
             "#4d9221"
            ],
            [
             1,
             "#276419"
            ]
           ],
           "sequential": [
            [
             0,
             "#0d0887"
            ],
            [
             0.1111111111111111,
             "#46039f"
            ],
            [
             0.2222222222222222,
             "#7201a8"
            ],
            [
             0.3333333333333333,
             "#9c179e"
            ],
            [
             0.4444444444444444,
             "#bd3786"
            ],
            [
             0.5555555555555556,
             "#d8576b"
            ],
            [
             0.6666666666666666,
             "#ed7953"
            ],
            [
             0.7777777777777778,
             "#fb9f3a"
            ],
            [
             0.8888888888888888,
             "#fdca26"
            ],
            [
             1,
             "#f0f921"
            ]
           ],
           "sequentialminus": [
            [
             0,
             "#0d0887"
            ],
            [
             0.1111111111111111,
             "#46039f"
            ],
            [
             0.2222222222222222,
             "#7201a8"
            ],
            [
             0.3333333333333333,
             "#9c179e"
            ],
            [
             0.4444444444444444,
             "#bd3786"
            ],
            [
             0.5555555555555556,
             "#d8576b"
            ],
            [
             0.6666666666666666,
             "#ed7953"
            ],
            [
             0.7777777777777778,
             "#fb9f3a"
            ],
            [
             0.8888888888888888,
             "#fdca26"
            ],
            [
             1,
             "#f0f921"
            ]
           ]
          },
          "colorway": [
           "#636efa",
           "#EF553B",
           "#00cc96",
           "#ab63fa",
           "#FFA15A",
           "#19d3f3",
           "#FF6692",
           "#B6E880",
           "#FF97FF",
           "#FECB52"
          ],
          "font": {
           "color": "#2a3f5f"
          },
          "geo": {
           "bgcolor": "white",
           "lakecolor": "white",
           "landcolor": "#E5ECF6",
           "showlakes": true,
           "showland": true,
           "subunitcolor": "white"
          },
          "hoverlabel": {
           "align": "left"
          },
          "hovermode": "closest",
          "mapbox": {
           "style": "light"
          },
          "paper_bgcolor": "white",
          "plot_bgcolor": "#E5ECF6",
          "polar": {
           "angularaxis": {
            "gridcolor": "white",
            "linecolor": "white",
            "ticks": ""
           },
           "bgcolor": "#E5ECF6",
           "radialaxis": {
            "gridcolor": "white",
            "linecolor": "white",
            "ticks": ""
           }
          },
          "scene": {
           "xaxis": {
            "backgroundcolor": "#E5ECF6",
            "gridcolor": "white",
            "gridwidth": 2,
            "linecolor": "white",
            "showbackground": true,
            "ticks": "",
            "zerolinecolor": "white"
           },
           "yaxis": {
            "backgroundcolor": "#E5ECF6",
            "gridcolor": "white",
            "gridwidth": 2,
            "linecolor": "white",
            "showbackground": true,
            "ticks": "",
            "zerolinecolor": "white"
           },
           "zaxis": {
            "backgroundcolor": "#E5ECF6",
            "gridcolor": "white",
            "gridwidth": 2,
            "linecolor": "white",
            "showbackground": true,
            "ticks": "",
            "zerolinecolor": "white"
           }
          },
          "shapedefaults": {
           "line": {
            "color": "#2a3f5f"
           }
          },
          "ternary": {
           "aaxis": {
            "gridcolor": "white",
            "linecolor": "white",
            "ticks": ""
           },
           "baxis": {
            "gridcolor": "white",
            "linecolor": "white",
            "ticks": ""
           },
           "bgcolor": "#E5ECF6",
           "caxis": {
            "gridcolor": "white",
            "linecolor": "white",
            "ticks": ""
           }
          },
          "title": {
           "x": 0.05
          },
          "xaxis": {
           "automargin": true,
           "gridcolor": "white",
           "linecolor": "white",
           "ticks": "",
           "zerolinecolor": "white",
           "zerolinewidth": 2
          },
          "yaxis": {
           "automargin": true,
           "gridcolor": "white",
           "linecolor": "white",
           "ticks": "",
           "zerolinecolor": "white",
           "zerolinewidth": 2
          }
         }
        },
        "xaxis": {
         "title": {
          "text": "Listing Price"
         }
        }
       }
      },
      "text/html": [
       "<div>\n",
       "        \n",
       "        \n",
       "            <div id=\"08c67cce-5bdb-4444-bb14-3c977dbcf7eb\" class=\"plotly-graph-div\" style=\"height:525px; width:100%;\"></div>\n",
       "            <script type=\"text/javascript\">\n",
       "                require([\"plotly\"], function(Plotly) {\n",
       "                    window.PLOTLYENV=window.PLOTLYENV || {};\n",
       "                    \n",
       "                if (document.getElementById(\"08c67cce-5bdb-4444-bb14-3c977dbcf7eb\")) {\n",
       "                    Plotly.newPlot(\n",
       "                        '08c67cce-5bdb-4444-bb14-3c977dbcf7eb',\n",
       "                        [{\"name\": \"Southeast Magnolia\", \"type\": \"box\", \"x\": [550.0, 75.0, 95.0, 150.0, 110.0, 228.0, 110.0, 950.0, 225.0, 125.0, 68.0, 250.0, 150.0, 48.0, 330.0, 125.0, 350.0]}, {\"name\": \"Portage Bay\", \"type\": \"box\", \"x\": [120.0, 525.0, 99.0, 90.0, 750.0, 250.0, 125.0, 380.0, 130.0, 135.0, 257.0, 90.0, 160.0, 79.0]}, {\"name\": \"Westlake\", \"type\": \"box\", \"x\": [85.0, 190.0, 65.0, 250.0, 69.0, 400.0, 150.0, 200.0, 141.0, 85.0, 775.0, 195.0, 249.0, 95.0, 122.0, 170.0, 65.0]}, {\"name\": \"West Queen Anne\", \"type\": \"box\", \"x\": [85.0, 150.0, 975.0, 100.0, 450.0, 120.0, 80.0, 60.0, 90.0, 150.0, 95.0, 99.0, 245.0, 165.0, 461.0, 109.0, 66.0, 99.0, 200.0, 700.0, 110.0, 99.0, 450.0, 75.0, 600.0, 450.0, 150.0, 45.0, 300.0, 80.0, 175.0, 325.0, 175.0, 222.0, 159.0, 125.0, 348.0, 45.0, 150.0, 80.0, 110.0, 148.0, 350.0, 150.0, 150.0, 100.0, 349.0, 110.0, 160.0, 130.0, 99.0, 100.0, 137.0, 20.0, 150.0, 145.0, 80.0, 95.0, 400.0, 85.0, 70.0, 90.0, 80.0, 60.0, 175.0]}, {\"name\": \"Montlake\", \"type\": \"box\", \"x\": [125.0, 415.0, 129.0, 130.0, 55.0, 160.0, 55.0, 115.0, 260.0, 110.0, 750.0, 55.0, 89.0, 200.0, 85.0, 400.0, 100.0, 125.0, 115.0]}, {\"name\": \"Briarcliff\", \"type\": \"box\", \"x\": [175.0, 88.0, 100.0, 225.0, 200.0, 250.0, 95.0, 172.0, 99.0, 99.0, 175.0, 350.0, 69.0, 375.0]}, {\"name\": \"Sunset Hill\", \"type\": \"box\", \"x\": [77.0, 80.0, 75.0, 75.0, 55.0, 70.0, 85.0, 85.0, 350.0, 92.0, 200.0, 50.0, 150.0, 475.0, 375.0, 450.0, 75.0, 350.0]}, {\"name\": \"Industrial District\", \"type\": \"box\", \"x\": [150.0, 25.0, 265.0, 320.0, 150.0, 130.0]}, {\"name\": \"Alki\", \"type\": \"box\", \"x\": [240.0, 100.0, 100.0, 119.0, 219.0, 249.0, 265.0, 124.0, 100.0, 250.0, 40.0, 100.0, 99.0, 135.0, 90.0, 90.0, 269.0, 325.0, 350.0, 95.0, 120.0, 79.0, 130.0, 129.0, 399.0, 350.0, 42.0, 95.0, 109.0, 225.0, 235.0, 85.0, 150.0, 218.0, 120.0, 225.0, 350.0, 250.0, 100.0, 79.0, 300.0, 59.0]}, {\"name\": \"Windermere\", \"type\": \"box\", \"x\": [130.0, 125.0, 300.0, 200.0, 400.0, 165.0, 117.0, 85.0, 115.0, 62.0]}],\n",
       "                        {\"template\": {\"data\": {\"bar\": [{\"error_x\": {\"color\": \"#2a3f5f\"}, \"error_y\": {\"color\": \"#2a3f5f\"}, \"marker\": {\"line\": {\"color\": \"#E5ECF6\", \"width\": 0.5}}, \"type\": \"bar\"}], \"barpolar\": [{\"marker\": {\"line\": {\"color\": \"#E5ECF6\", \"width\": 0.5}}, \"type\": \"barpolar\"}], \"carpet\": [{\"aaxis\": {\"endlinecolor\": \"#2a3f5f\", \"gridcolor\": \"white\", \"linecolor\": \"white\", \"minorgridcolor\": \"white\", \"startlinecolor\": \"#2a3f5f\"}, \"baxis\": {\"endlinecolor\": \"#2a3f5f\", \"gridcolor\": \"white\", \"linecolor\": \"white\", \"minorgridcolor\": \"white\", \"startlinecolor\": \"#2a3f5f\"}, \"type\": \"carpet\"}], \"choropleth\": [{\"colorbar\": {\"outlinewidth\": 0, \"ticks\": \"\"}, \"type\": \"choropleth\"}], \"contour\": [{\"colorbar\": {\"outlinewidth\": 0, \"ticks\": \"\"}, \"colorscale\": [[0.0, \"#0d0887\"], [0.1111111111111111, \"#46039f\"], [0.2222222222222222, \"#7201a8\"], [0.3333333333333333, \"#9c179e\"], [0.4444444444444444, \"#bd3786\"], [0.5555555555555556, \"#d8576b\"], [0.6666666666666666, \"#ed7953\"], [0.7777777777777778, \"#fb9f3a\"], [0.8888888888888888, \"#fdca26\"], [1.0, \"#f0f921\"]], \"type\": \"contour\"}], \"contourcarpet\": [{\"colorbar\": {\"outlinewidth\": 0, \"ticks\": \"\"}, \"type\": \"contourcarpet\"}], \"heatmap\": [{\"colorbar\": {\"outlinewidth\": 0, \"ticks\": \"\"}, \"colorscale\": [[0.0, \"#0d0887\"], [0.1111111111111111, \"#46039f\"], [0.2222222222222222, \"#7201a8\"], [0.3333333333333333, \"#9c179e\"], [0.4444444444444444, \"#bd3786\"], [0.5555555555555556, \"#d8576b\"], [0.6666666666666666, \"#ed7953\"], [0.7777777777777778, \"#fb9f3a\"], [0.8888888888888888, \"#fdca26\"], [1.0, \"#f0f921\"]], \"type\": \"heatmap\"}], \"heatmapgl\": [{\"colorbar\": {\"outlinewidth\": 0, \"ticks\": \"\"}, \"colorscale\": [[0.0, \"#0d0887\"], [0.1111111111111111, \"#46039f\"], [0.2222222222222222, \"#7201a8\"], [0.3333333333333333, \"#9c179e\"], [0.4444444444444444, \"#bd3786\"], [0.5555555555555556, \"#d8576b\"], [0.6666666666666666, \"#ed7953\"], [0.7777777777777778, \"#fb9f3a\"], [0.8888888888888888, \"#fdca26\"], [1.0, \"#f0f921\"]], \"type\": \"heatmapgl\"}], \"histogram\": [{\"marker\": {\"colorbar\": {\"outlinewidth\": 0, \"ticks\": \"\"}}, \"type\": \"histogram\"}], \"histogram2d\": [{\"colorbar\": {\"outlinewidth\": 0, \"ticks\": \"\"}, \"colorscale\": [[0.0, \"#0d0887\"], [0.1111111111111111, \"#46039f\"], [0.2222222222222222, \"#7201a8\"], [0.3333333333333333, \"#9c179e\"], [0.4444444444444444, \"#bd3786\"], [0.5555555555555556, \"#d8576b\"], [0.6666666666666666, \"#ed7953\"], [0.7777777777777778, \"#fb9f3a\"], [0.8888888888888888, \"#fdca26\"], [1.0, \"#f0f921\"]], \"type\": \"histogram2d\"}], \"histogram2dcontour\": [{\"colorbar\": {\"outlinewidth\": 0, \"ticks\": \"\"}, \"colorscale\": [[0.0, \"#0d0887\"], [0.1111111111111111, \"#46039f\"], [0.2222222222222222, \"#7201a8\"], [0.3333333333333333, \"#9c179e\"], [0.4444444444444444, \"#bd3786\"], [0.5555555555555556, \"#d8576b\"], [0.6666666666666666, \"#ed7953\"], [0.7777777777777778, \"#fb9f3a\"], [0.8888888888888888, \"#fdca26\"], [1.0, \"#f0f921\"]], \"type\": \"histogram2dcontour\"}], \"mesh3d\": [{\"colorbar\": {\"outlinewidth\": 0, \"ticks\": \"\"}, \"type\": \"mesh3d\"}], \"parcoords\": [{\"line\": {\"colorbar\": {\"outlinewidth\": 0, \"ticks\": \"\"}}, \"type\": \"parcoords\"}], \"scatter\": [{\"marker\": {\"colorbar\": {\"outlinewidth\": 0, \"ticks\": \"\"}}, \"type\": \"scatter\"}], \"scatter3d\": [{\"line\": {\"colorbar\": {\"outlinewidth\": 0, \"ticks\": \"\"}}, \"marker\": {\"colorbar\": {\"outlinewidth\": 0, \"ticks\": \"\"}}, \"type\": \"scatter3d\"}], \"scattercarpet\": [{\"marker\": {\"colorbar\": {\"outlinewidth\": 0, \"ticks\": \"\"}}, \"type\": \"scattercarpet\"}], \"scattergeo\": [{\"marker\": {\"colorbar\": {\"outlinewidth\": 0, \"ticks\": \"\"}}, \"type\": \"scattergeo\"}], \"scattergl\": [{\"marker\": {\"colorbar\": {\"outlinewidth\": 0, \"ticks\": \"\"}}, \"type\": \"scattergl\"}], \"scattermapbox\": [{\"marker\": {\"colorbar\": {\"outlinewidth\": 0, \"ticks\": \"\"}}, \"type\": \"scattermapbox\"}], \"scatterpolar\": [{\"marker\": {\"colorbar\": {\"outlinewidth\": 0, \"ticks\": \"\"}}, \"type\": \"scatterpolar\"}], \"scatterpolargl\": [{\"marker\": {\"colorbar\": {\"outlinewidth\": 0, \"ticks\": \"\"}}, \"type\": \"scatterpolargl\"}], \"scatterternary\": [{\"marker\": {\"colorbar\": {\"outlinewidth\": 0, \"ticks\": \"\"}}, \"type\": \"scatterternary\"}], \"surface\": [{\"colorbar\": {\"outlinewidth\": 0, \"ticks\": \"\"}, \"colorscale\": [[0.0, \"#0d0887\"], [0.1111111111111111, \"#46039f\"], [0.2222222222222222, \"#7201a8\"], [0.3333333333333333, \"#9c179e\"], [0.4444444444444444, \"#bd3786\"], [0.5555555555555556, \"#d8576b\"], [0.6666666666666666, \"#ed7953\"], [0.7777777777777778, \"#fb9f3a\"], [0.8888888888888888, \"#fdca26\"], [1.0, \"#f0f921\"]], \"type\": \"surface\"}], \"table\": [{\"cells\": {\"fill\": {\"color\": \"#EBF0F8\"}, \"line\": {\"color\": \"white\"}}, \"header\": {\"fill\": {\"color\": \"#C8D4E3\"}, \"line\": {\"color\": \"white\"}}, \"type\": \"table\"}]}, \"layout\": {\"annotationdefaults\": {\"arrowcolor\": \"#2a3f5f\", \"arrowhead\": 0, \"arrowwidth\": 1}, \"colorscale\": {\"diverging\": [[0, \"#8e0152\"], [0.1, \"#c51b7d\"], [0.2, \"#de77ae\"], [0.3, \"#f1b6da\"], [0.4, \"#fde0ef\"], [0.5, \"#f7f7f7\"], [0.6, \"#e6f5d0\"], [0.7, \"#b8e186\"], [0.8, \"#7fbc41\"], [0.9, \"#4d9221\"], [1, \"#276419\"]], \"sequential\": [[0.0, \"#0d0887\"], [0.1111111111111111, \"#46039f\"], [0.2222222222222222, \"#7201a8\"], [0.3333333333333333, \"#9c179e\"], [0.4444444444444444, \"#bd3786\"], [0.5555555555555556, \"#d8576b\"], [0.6666666666666666, \"#ed7953\"], [0.7777777777777778, \"#fb9f3a\"], [0.8888888888888888, \"#fdca26\"], [1.0, \"#f0f921\"]], \"sequentialminus\": [[0.0, \"#0d0887\"], [0.1111111111111111, \"#46039f\"], [0.2222222222222222, \"#7201a8\"], [0.3333333333333333, \"#9c179e\"], [0.4444444444444444, \"#bd3786\"], [0.5555555555555556, \"#d8576b\"], [0.6666666666666666, \"#ed7953\"], [0.7777777777777778, \"#fb9f3a\"], [0.8888888888888888, \"#fdca26\"], [1.0, \"#f0f921\"]]}, \"colorway\": [\"#636efa\", \"#EF553B\", \"#00cc96\", \"#ab63fa\", \"#FFA15A\", \"#19d3f3\", \"#FF6692\", \"#B6E880\", \"#FF97FF\", \"#FECB52\"], \"font\": {\"color\": \"#2a3f5f\"}, \"geo\": {\"bgcolor\": \"white\", \"lakecolor\": \"white\", \"landcolor\": \"#E5ECF6\", \"showlakes\": true, \"showland\": true, \"subunitcolor\": \"white\"}, \"hoverlabel\": {\"align\": \"left\"}, \"hovermode\": \"closest\", \"mapbox\": {\"style\": \"light\"}, \"paper_bgcolor\": \"white\", \"plot_bgcolor\": \"#E5ECF6\", \"polar\": {\"angularaxis\": {\"gridcolor\": \"white\", \"linecolor\": \"white\", \"ticks\": \"\"}, \"bgcolor\": \"#E5ECF6\", \"radialaxis\": {\"gridcolor\": \"white\", \"linecolor\": \"white\", \"ticks\": \"\"}}, \"scene\": {\"xaxis\": {\"backgroundcolor\": \"#E5ECF6\", \"gridcolor\": \"white\", \"gridwidth\": 2, \"linecolor\": \"white\", \"showbackground\": true, \"ticks\": \"\", \"zerolinecolor\": \"white\"}, \"yaxis\": {\"backgroundcolor\": \"#E5ECF6\", \"gridcolor\": \"white\", \"gridwidth\": 2, \"linecolor\": \"white\", \"showbackground\": true, \"ticks\": \"\", \"zerolinecolor\": \"white\"}, \"zaxis\": {\"backgroundcolor\": \"#E5ECF6\", \"gridcolor\": \"white\", \"gridwidth\": 2, \"linecolor\": \"white\", \"showbackground\": true, \"ticks\": \"\", \"zerolinecolor\": \"white\"}}, \"shapedefaults\": {\"line\": {\"color\": \"#2a3f5f\"}}, \"ternary\": {\"aaxis\": {\"gridcolor\": \"white\", \"linecolor\": \"white\", \"ticks\": \"\"}, \"baxis\": {\"gridcolor\": \"white\", \"linecolor\": \"white\", \"ticks\": \"\"}, \"bgcolor\": \"#E5ECF6\", \"caxis\": {\"gridcolor\": \"white\", \"linecolor\": \"white\", \"ticks\": \"\"}}, \"title\": {\"x\": 0.05}, \"xaxis\": {\"automargin\": true, \"gridcolor\": \"white\", \"linecolor\": \"white\", \"ticks\": \"\", \"zerolinecolor\": \"white\", \"zerolinewidth\": 2}, \"yaxis\": {\"automargin\": true, \"gridcolor\": \"white\", \"linecolor\": \"white\", \"ticks\": \"\", \"zerolinecolor\": \"white\", \"zerolinewidth\": 2}}}, \"xaxis\": {\"title\": {\"text\": \"Listing Price\"}}},\n",
       "                        {\"responsive\": true}\n",
       "                    ).then(function(){\n",
       "                            \n",
       "var gd = document.getElementById('08c67cce-5bdb-4444-bb14-3c977dbcf7eb');\n",
       "var x = new MutationObserver(function (mutations, observer) {{\n",
       "        var display = window.getComputedStyle(gd).display;\n",
       "        if (!display || display === 'none') {{\n",
       "            console.log([gd, 'removed!']);\n",
       "            Plotly.purge(gd);\n",
       "            observer.disconnect();\n",
       "        }}\n",
       "}});\n",
       "\n",
       "// Listen for the removal of the full notebook cells\n",
       "var notebookContainer = gd.closest('#notebook-container');\n",
       "if (notebookContainer) {{\n",
       "    x.observe(notebookContainer, {childList: true});\n",
       "}}\n",
       "\n",
       "// Listen for the clearing of the current output cell\n",
       "var outputEl = gd.closest('.output');\n",
       "if (outputEl) {{\n",
       "    x.observe(outputEl, {childList: true});\n",
       "}}\n",
       "\n",
       "                        })\n",
       "                };\n",
       "                });\n",
       "            </script>\n",
       "        </div>"
      ]
     },
     "metadata": {},
     "output_type": "display_data"
    }
   ],
   "source": [
    "box_data = []\n",
    "\n",
    "for neighbourhood in top_10:\n",
    "    trace = go.Box(x = df.loc[df['neighbourhood_cleansed'] == neighbourhood].price.tolist(), name = neighbourhood)\n",
    "    box_data.append(trace)\n",
    "\n",
    "layout = go.Layout(xaxis = dict(title='Listing Price'))\n",
    "fig = go.Figure(data=box_data, layout=layout)\n",
    "\n",
    "fig.show()\n"
   ]
  },
  {
   "cell_type": "markdown",
   "metadata": {},
   "source": [
    "This visualization helps to show outliers in the data and differences in neighborhoods in terms of median listing price. Could other variables such as property type factor  in to a listing’s price? We’ll look at that next."
   ]
  },
  {
   "cell_type": "markdown",
   "metadata": {},
   "source": [
    "# How does the property type impact listing price on a neighborhood basis?"
   ]
  },
  {
   "cell_type": "code",
   "execution_count": 135,
   "metadata": {},
   "outputs": [
    {
     "data": {
      "application/vnd.plotly.v1+json": {
       "config": {
        "plotlyServerURL": "https://plot.ly"
       },
       "data": [
        {
         "name": "Apartment",
         "type": "bar",
         "x": [
          "Southeast Magnolia",
          "Portage Bay",
          "Westlake",
          "West Queen Anne",
          "Montlake",
          "Briarcliff",
          "Sunset Hill",
          "Industrial District",
          "Alki",
          "Windermere"
         ],
         "y": [
          13,
          2,
          2,
          3,
          6,
          5,
          1,
          24,
          10,
          3
         ]
        },
        {
         "name": "Camper/RV",
         "type": "bar",
         "x": [
          "Southeast Magnolia",
          "Portage Bay",
          "Westlake",
          "West Queen Anne",
          "Montlake",
          "Briarcliff",
          "Sunset Hill",
          "Industrial District",
          "Alki",
          "Windermere"
         ],
         "y": [
          1,
          1,
          2
         ]
        },
        {
         "name": "House",
         "type": "bar",
         "x": [
          "Southeast Magnolia",
          "Portage Bay",
          "Westlake",
          "West Queen Anne",
          "Montlake",
          "Briarcliff",
          "Sunset Hill",
          "Industrial District",
          "Alki",
          "Windermere"
         ],
         "y": [
          24,
          12,
          15,
          7,
          10,
          14,
          33,
          2,
          7
         ]
        },
        {
         "name": "Loft",
         "type": "bar",
         "x": [
          "Southeast Magnolia",
          "Portage Bay",
          "Westlake",
          "West Queen Anne",
          "Montlake",
          "Briarcliff",
          "Sunset Hill",
          "Industrial District",
          "Alki",
          "Windermere"
         ],
         "y": [
          1,
          2,
          1
         ]
        },
        {
         "name": "Townhouse",
         "type": "bar",
         "x": [
          "Southeast Magnolia",
          "Portage Bay",
          "Westlake",
          "West Queen Anne",
          "Montlake",
          "Briarcliff",
          "Sunset Hill",
          "Industrial District",
          "Alki",
          "Windermere"
         ],
         "y": [
          3,
          1,
          2,
          1
         ]
        },
        {
         "name": "Other",
         "type": "bar",
         "x": [
          "Southeast Magnolia",
          "Portage Bay",
          "Westlake",
          "West Queen Anne",
          "Montlake",
          "Briarcliff",
          "Sunset Hill",
          "Industrial District",
          "Alki",
          "Windermere"
         ],
         "y": [
          1,
          1
         ]
        },
        {
         "name": "Treehouse",
         "type": "bar",
         "x": [
          "Southeast Magnolia",
          "Portage Bay",
          "Westlake",
          "West Queen Anne",
          "Montlake",
          "Briarcliff",
          "Sunset Hill",
          "Industrial District",
          "Alki",
          "Windermere"
         ],
         "y": [
          1
         ]
        },
        {
         "name": "Bed & Breakfast",
         "type": "bar",
         "x": [
          "Southeast Magnolia",
          "Portage Bay",
          "Westlake",
          "West Queen Anne",
          "Montlake",
          "Briarcliff",
          "Sunset Hill",
          "Industrial District",
          "Alki",
          "Windermere"
         ],
         "y": [
          2
         ]
        },
        {
         "name": "Boat",
         "type": "bar",
         "x": [
          "Southeast Magnolia",
          "Portage Bay",
          "Westlake",
          "West Queen Anne",
          "Montlake",
          "Briarcliff",
          "Sunset Hill",
          "Industrial District",
          "Alki",
          "Windermere"
         ],
         "y": [
          1,
          3
         ]
        },
        {
         "name": "Bungalow",
         "type": "bar",
         "x": [
          "Southeast Magnolia",
          "Portage Bay",
          "Westlake",
          "West Queen Anne",
          "Montlake",
          "Briarcliff",
          "Sunset Hill",
          "Industrial District",
          "Alki",
          "Windermere"
         ],
         "y": [
          2
         ]
        },
        {
         "name": "Cabin",
         "type": "bar",
         "x": [
          "Southeast Magnolia",
          "Portage Bay",
          "Westlake",
          "West Queen Anne",
          "Montlake",
          "Briarcliff",
          "Sunset Hill",
          "Industrial District",
          "Alki",
          "Windermere"
         ],
         "y": [
          1
         ]
        },
        {
         "name": "Condominium",
         "type": "bar",
         "x": [
          "Southeast Magnolia",
          "Portage Bay",
          "Westlake",
          "West Queen Anne",
          "Montlake",
          "Briarcliff",
          "Sunset Hill",
          "Industrial District",
          "Alki",
          "Windermere"
         ],
         "y": [
          1,
          1
         ]
        }
       ],
       "layout": {
        "barmode": "stack",
        "template": {
         "data": {
          "bar": [
           {
            "error_x": {
             "color": "#2a3f5f"
            },
            "error_y": {
             "color": "#2a3f5f"
            },
            "marker": {
             "line": {
              "color": "#E5ECF6",
              "width": 0.5
             }
            },
            "type": "bar"
           }
          ],
          "barpolar": [
           {
            "marker": {
             "line": {
              "color": "#E5ECF6",
              "width": 0.5
             }
            },
            "type": "barpolar"
           }
          ],
          "carpet": [
           {
            "aaxis": {
             "endlinecolor": "#2a3f5f",
             "gridcolor": "white",
             "linecolor": "white",
             "minorgridcolor": "white",
             "startlinecolor": "#2a3f5f"
            },
            "baxis": {
             "endlinecolor": "#2a3f5f",
             "gridcolor": "white",
             "linecolor": "white",
             "minorgridcolor": "white",
             "startlinecolor": "#2a3f5f"
            },
            "type": "carpet"
           }
          ],
          "choropleth": [
           {
            "colorbar": {
             "outlinewidth": 0,
             "ticks": ""
            },
            "type": "choropleth"
           }
          ],
          "contour": [
           {
            "colorbar": {
             "outlinewidth": 0,
             "ticks": ""
            },
            "colorscale": [
             [
              0,
              "#0d0887"
             ],
             [
              0.1111111111111111,
              "#46039f"
             ],
             [
              0.2222222222222222,
              "#7201a8"
             ],
             [
              0.3333333333333333,
              "#9c179e"
             ],
             [
              0.4444444444444444,
              "#bd3786"
             ],
             [
              0.5555555555555556,
              "#d8576b"
             ],
             [
              0.6666666666666666,
              "#ed7953"
             ],
             [
              0.7777777777777778,
              "#fb9f3a"
             ],
             [
              0.8888888888888888,
              "#fdca26"
             ],
             [
              1,
              "#f0f921"
             ]
            ],
            "type": "contour"
           }
          ],
          "contourcarpet": [
           {
            "colorbar": {
             "outlinewidth": 0,
             "ticks": ""
            },
            "type": "contourcarpet"
           }
          ],
          "heatmap": [
           {
            "colorbar": {
             "outlinewidth": 0,
             "ticks": ""
            },
            "colorscale": [
             [
              0,
              "#0d0887"
             ],
             [
              0.1111111111111111,
              "#46039f"
             ],
             [
              0.2222222222222222,
              "#7201a8"
             ],
             [
              0.3333333333333333,
              "#9c179e"
             ],
             [
              0.4444444444444444,
              "#bd3786"
             ],
             [
              0.5555555555555556,
              "#d8576b"
             ],
             [
              0.6666666666666666,
              "#ed7953"
             ],
             [
              0.7777777777777778,
              "#fb9f3a"
             ],
             [
              0.8888888888888888,
              "#fdca26"
             ],
             [
              1,
              "#f0f921"
             ]
            ],
            "type": "heatmap"
           }
          ],
          "heatmapgl": [
           {
            "colorbar": {
             "outlinewidth": 0,
             "ticks": ""
            },
            "colorscale": [
             [
              0,
              "#0d0887"
             ],
             [
              0.1111111111111111,
              "#46039f"
             ],
             [
              0.2222222222222222,
              "#7201a8"
             ],
             [
              0.3333333333333333,
              "#9c179e"
             ],
             [
              0.4444444444444444,
              "#bd3786"
             ],
             [
              0.5555555555555556,
              "#d8576b"
             ],
             [
              0.6666666666666666,
              "#ed7953"
             ],
             [
              0.7777777777777778,
              "#fb9f3a"
             ],
             [
              0.8888888888888888,
              "#fdca26"
             ],
             [
              1,
              "#f0f921"
             ]
            ],
            "type": "heatmapgl"
           }
          ],
          "histogram": [
           {
            "marker": {
             "colorbar": {
              "outlinewidth": 0,
              "ticks": ""
             }
            },
            "type": "histogram"
           }
          ],
          "histogram2d": [
           {
            "colorbar": {
             "outlinewidth": 0,
             "ticks": ""
            },
            "colorscale": [
             [
              0,
              "#0d0887"
             ],
             [
              0.1111111111111111,
              "#46039f"
             ],
             [
              0.2222222222222222,
              "#7201a8"
             ],
             [
              0.3333333333333333,
              "#9c179e"
             ],
             [
              0.4444444444444444,
              "#bd3786"
             ],
             [
              0.5555555555555556,
              "#d8576b"
             ],
             [
              0.6666666666666666,
              "#ed7953"
             ],
             [
              0.7777777777777778,
              "#fb9f3a"
             ],
             [
              0.8888888888888888,
              "#fdca26"
             ],
             [
              1,
              "#f0f921"
             ]
            ],
            "type": "histogram2d"
           }
          ],
          "histogram2dcontour": [
           {
            "colorbar": {
             "outlinewidth": 0,
             "ticks": ""
            },
            "colorscale": [
             [
              0,
              "#0d0887"
             ],
             [
              0.1111111111111111,
              "#46039f"
             ],
             [
              0.2222222222222222,
              "#7201a8"
             ],
             [
              0.3333333333333333,
              "#9c179e"
             ],
             [
              0.4444444444444444,
              "#bd3786"
             ],
             [
              0.5555555555555556,
              "#d8576b"
             ],
             [
              0.6666666666666666,
              "#ed7953"
             ],
             [
              0.7777777777777778,
              "#fb9f3a"
             ],
             [
              0.8888888888888888,
              "#fdca26"
             ],
             [
              1,
              "#f0f921"
             ]
            ],
            "type": "histogram2dcontour"
           }
          ],
          "mesh3d": [
           {
            "colorbar": {
             "outlinewidth": 0,
             "ticks": ""
            },
            "type": "mesh3d"
           }
          ],
          "parcoords": [
           {
            "line": {
             "colorbar": {
              "outlinewidth": 0,
              "ticks": ""
             }
            },
            "type": "parcoords"
           }
          ],
          "scatter": [
           {
            "marker": {
             "colorbar": {
              "outlinewidth": 0,
              "ticks": ""
             }
            },
            "type": "scatter"
           }
          ],
          "scatter3d": [
           {
            "line": {
             "colorbar": {
              "outlinewidth": 0,
              "ticks": ""
             }
            },
            "marker": {
             "colorbar": {
              "outlinewidth": 0,
              "ticks": ""
             }
            },
            "type": "scatter3d"
           }
          ],
          "scattercarpet": [
           {
            "marker": {
             "colorbar": {
              "outlinewidth": 0,
              "ticks": ""
             }
            },
            "type": "scattercarpet"
           }
          ],
          "scattergeo": [
           {
            "marker": {
             "colorbar": {
              "outlinewidth": 0,
              "ticks": ""
             }
            },
            "type": "scattergeo"
           }
          ],
          "scattergl": [
           {
            "marker": {
             "colorbar": {
              "outlinewidth": 0,
              "ticks": ""
             }
            },
            "type": "scattergl"
           }
          ],
          "scattermapbox": [
           {
            "marker": {
             "colorbar": {
              "outlinewidth": 0,
              "ticks": ""
             }
            },
            "type": "scattermapbox"
           }
          ],
          "scatterpolar": [
           {
            "marker": {
             "colorbar": {
              "outlinewidth": 0,
              "ticks": ""
             }
            },
            "type": "scatterpolar"
           }
          ],
          "scatterpolargl": [
           {
            "marker": {
             "colorbar": {
              "outlinewidth": 0,
              "ticks": ""
             }
            },
            "type": "scatterpolargl"
           }
          ],
          "scatterternary": [
           {
            "marker": {
             "colorbar": {
              "outlinewidth": 0,
              "ticks": ""
             }
            },
            "type": "scatterternary"
           }
          ],
          "surface": [
           {
            "colorbar": {
             "outlinewidth": 0,
             "ticks": ""
            },
            "colorscale": [
             [
              0,
              "#0d0887"
             ],
             [
              0.1111111111111111,
              "#46039f"
             ],
             [
              0.2222222222222222,
              "#7201a8"
             ],
             [
              0.3333333333333333,
              "#9c179e"
             ],
             [
              0.4444444444444444,
              "#bd3786"
             ],
             [
              0.5555555555555556,
              "#d8576b"
             ],
             [
              0.6666666666666666,
              "#ed7953"
             ],
             [
              0.7777777777777778,
              "#fb9f3a"
             ],
             [
              0.8888888888888888,
              "#fdca26"
             ],
             [
              1,
              "#f0f921"
             ]
            ],
            "type": "surface"
           }
          ],
          "table": [
           {
            "cells": {
             "fill": {
              "color": "#EBF0F8"
             },
             "line": {
              "color": "white"
             }
            },
            "header": {
             "fill": {
              "color": "#C8D4E3"
             },
             "line": {
              "color": "white"
             }
            },
            "type": "table"
           }
          ]
         },
         "layout": {
          "annotationdefaults": {
           "arrowcolor": "#2a3f5f",
           "arrowhead": 0,
           "arrowwidth": 1
          },
          "colorscale": {
           "diverging": [
            [
             0,
             "#8e0152"
            ],
            [
             0.1,
             "#c51b7d"
            ],
            [
             0.2,
             "#de77ae"
            ],
            [
             0.3,
             "#f1b6da"
            ],
            [
             0.4,
             "#fde0ef"
            ],
            [
             0.5,
             "#f7f7f7"
            ],
            [
             0.6,
             "#e6f5d0"
            ],
            [
             0.7,
             "#b8e186"
            ],
            [
             0.8,
             "#7fbc41"
            ],
            [
             0.9,
             "#4d9221"
            ],
            [
             1,
             "#276419"
            ]
           ],
           "sequential": [
            [
             0,
             "#0d0887"
            ],
            [
             0.1111111111111111,
             "#46039f"
            ],
            [
             0.2222222222222222,
             "#7201a8"
            ],
            [
             0.3333333333333333,
             "#9c179e"
            ],
            [
             0.4444444444444444,
             "#bd3786"
            ],
            [
             0.5555555555555556,
             "#d8576b"
            ],
            [
             0.6666666666666666,
             "#ed7953"
            ],
            [
             0.7777777777777778,
             "#fb9f3a"
            ],
            [
             0.8888888888888888,
             "#fdca26"
            ],
            [
             1,
             "#f0f921"
            ]
           ],
           "sequentialminus": [
            [
             0,
             "#0d0887"
            ],
            [
             0.1111111111111111,
             "#46039f"
            ],
            [
             0.2222222222222222,
             "#7201a8"
            ],
            [
             0.3333333333333333,
             "#9c179e"
            ],
            [
             0.4444444444444444,
             "#bd3786"
            ],
            [
             0.5555555555555556,
             "#d8576b"
            ],
            [
             0.6666666666666666,
             "#ed7953"
            ],
            [
             0.7777777777777778,
             "#fb9f3a"
            ],
            [
             0.8888888888888888,
             "#fdca26"
            ],
            [
             1,
             "#f0f921"
            ]
           ]
          },
          "colorway": [
           "#636efa",
           "#EF553B",
           "#00cc96",
           "#ab63fa",
           "#FFA15A",
           "#19d3f3",
           "#FF6692",
           "#B6E880",
           "#FF97FF",
           "#FECB52"
          ],
          "font": {
           "color": "#2a3f5f"
          },
          "geo": {
           "bgcolor": "white",
           "lakecolor": "white",
           "landcolor": "#E5ECF6",
           "showlakes": true,
           "showland": true,
           "subunitcolor": "white"
          },
          "hoverlabel": {
           "align": "left"
          },
          "hovermode": "closest",
          "mapbox": {
           "style": "light"
          },
          "paper_bgcolor": "white",
          "plot_bgcolor": "#E5ECF6",
          "polar": {
           "angularaxis": {
            "gridcolor": "white",
            "linecolor": "white",
            "ticks": ""
           },
           "bgcolor": "#E5ECF6",
           "radialaxis": {
            "gridcolor": "white",
            "linecolor": "white",
            "ticks": ""
           }
          },
          "scene": {
           "xaxis": {
            "backgroundcolor": "#E5ECF6",
            "gridcolor": "white",
            "gridwidth": 2,
            "linecolor": "white",
            "showbackground": true,
            "ticks": "",
            "zerolinecolor": "white"
           },
           "yaxis": {
            "backgroundcolor": "#E5ECF6",
            "gridcolor": "white",
            "gridwidth": 2,
            "linecolor": "white",
            "showbackground": true,
            "ticks": "",
            "zerolinecolor": "white"
           },
           "zaxis": {
            "backgroundcolor": "#E5ECF6",
            "gridcolor": "white",
            "gridwidth": 2,
            "linecolor": "white",
            "showbackground": true,
            "ticks": "",
            "zerolinecolor": "white"
           }
          },
          "shapedefaults": {
           "line": {
            "color": "#2a3f5f"
           }
          },
          "ternary": {
           "aaxis": {
            "gridcolor": "white",
            "linecolor": "white",
            "ticks": ""
           },
           "baxis": {
            "gridcolor": "white",
            "linecolor": "white",
            "ticks": ""
           },
           "bgcolor": "#E5ECF6",
           "caxis": {
            "gridcolor": "white",
            "linecolor": "white",
            "ticks": ""
           }
          },
          "title": {
           "x": 0.05
          },
          "xaxis": {
           "automargin": true,
           "gridcolor": "white",
           "linecolor": "white",
           "ticks": "",
           "zerolinecolor": "white",
           "zerolinewidth": 2
          },
          "yaxis": {
           "automargin": true,
           "gridcolor": "white",
           "linecolor": "white",
           "ticks": "",
           "zerolinecolor": "white",
           "zerolinewidth": 2
          }
         }
        },
        "title": {
         "text": "Property Type Count in Top 10 Most Expensive Neighborhoods"
        },
        "yaxis": {
         "title": {
          "text": "Count"
         }
        }
       }
      },
      "text/html": [
       "<div>\n",
       "        \n",
       "        \n",
       "            <div id=\"83b7fa81-ded4-4c72-9849-cc92d7ab41c0\" class=\"plotly-graph-div\" style=\"height:525px; width:100%;\"></div>\n",
       "            <script type=\"text/javascript\">\n",
       "                require([\"plotly\"], function(Plotly) {\n",
       "                    window.PLOTLYENV=window.PLOTLYENV || {};\n",
       "                    \n",
       "                if (document.getElementById(\"83b7fa81-ded4-4c72-9849-cc92d7ab41c0\")) {\n",
       "                    Plotly.newPlot(\n",
       "                        '83b7fa81-ded4-4c72-9849-cc92d7ab41c0',\n",
       "                        [{\"name\": \"Apartment\", \"type\": \"bar\", \"x\": [\"Southeast Magnolia\", \"Portage Bay\", \"Westlake\", \"West Queen Anne\", \"Montlake\", \"Briarcliff\", \"Sunset Hill\", \"Industrial District\", \"Alki\", \"Windermere\"], \"y\": [13, 2, 2, 3, 6, 5, 1, 24, 10, 3]}, {\"name\": \"Camper/RV\", \"type\": \"bar\", \"x\": [\"Southeast Magnolia\", \"Portage Bay\", \"Westlake\", \"West Queen Anne\", \"Montlake\", \"Briarcliff\", \"Sunset Hill\", \"Industrial District\", \"Alki\", \"Windermere\"], \"y\": [1, 1, 2]}, {\"name\": \"House\", \"type\": \"bar\", \"x\": [\"Southeast Magnolia\", \"Portage Bay\", \"Westlake\", \"West Queen Anne\", \"Montlake\", \"Briarcliff\", \"Sunset Hill\", \"Industrial District\", \"Alki\", \"Windermere\"], \"y\": [24, 12, 15, 7, 10, 14, 33, 2, 7]}, {\"name\": \"Loft\", \"type\": \"bar\", \"x\": [\"Southeast Magnolia\", \"Portage Bay\", \"Westlake\", \"West Queen Anne\", \"Montlake\", \"Briarcliff\", \"Sunset Hill\", \"Industrial District\", \"Alki\", \"Windermere\"], \"y\": [1, 2, 1]}, {\"name\": \"Townhouse\", \"type\": \"bar\", \"x\": [\"Southeast Magnolia\", \"Portage Bay\", \"Westlake\", \"West Queen Anne\", \"Montlake\", \"Briarcliff\", \"Sunset Hill\", \"Industrial District\", \"Alki\", \"Windermere\"], \"y\": [3, 1, 2, 1]}, {\"name\": \"Other\", \"type\": \"bar\", \"x\": [\"Southeast Magnolia\", \"Portage Bay\", \"Westlake\", \"West Queen Anne\", \"Montlake\", \"Briarcliff\", \"Sunset Hill\", \"Industrial District\", \"Alki\", \"Windermere\"], \"y\": [1, 1]}, {\"name\": \"Treehouse\", \"type\": \"bar\", \"x\": [\"Southeast Magnolia\", \"Portage Bay\", \"Westlake\", \"West Queen Anne\", \"Montlake\", \"Briarcliff\", \"Sunset Hill\", \"Industrial District\", \"Alki\", \"Windermere\"], \"y\": [1]}, {\"name\": \"Bed & Breakfast\", \"type\": \"bar\", \"x\": [\"Southeast Magnolia\", \"Portage Bay\", \"Westlake\", \"West Queen Anne\", \"Montlake\", \"Briarcliff\", \"Sunset Hill\", \"Industrial District\", \"Alki\", \"Windermere\"], \"y\": [2]}, {\"name\": \"Boat\", \"type\": \"bar\", \"x\": [\"Southeast Magnolia\", \"Portage Bay\", \"Westlake\", \"West Queen Anne\", \"Montlake\", \"Briarcliff\", \"Sunset Hill\", \"Industrial District\", \"Alki\", \"Windermere\"], \"y\": [1, 3]}, {\"name\": \"Bungalow\", \"type\": \"bar\", \"x\": [\"Southeast Magnolia\", \"Portage Bay\", \"Westlake\", \"West Queen Anne\", \"Montlake\", \"Briarcliff\", \"Sunset Hill\", \"Industrial District\", \"Alki\", \"Windermere\"], \"y\": [2]}, {\"name\": \"Cabin\", \"type\": \"bar\", \"x\": [\"Southeast Magnolia\", \"Portage Bay\", \"Westlake\", \"West Queen Anne\", \"Montlake\", \"Briarcliff\", \"Sunset Hill\", \"Industrial District\", \"Alki\", \"Windermere\"], \"y\": [1]}, {\"name\": \"Condominium\", \"type\": \"bar\", \"x\": [\"Southeast Magnolia\", \"Portage Bay\", \"Westlake\", \"West Queen Anne\", \"Montlake\", \"Briarcliff\", \"Sunset Hill\", \"Industrial District\", \"Alki\", \"Windermere\"], \"y\": [1, 1]}],\n",
       "                        {\"barmode\": \"stack\", \"template\": {\"data\": {\"bar\": [{\"error_x\": {\"color\": \"#2a3f5f\"}, \"error_y\": {\"color\": \"#2a3f5f\"}, \"marker\": {\"line\": {\"color\": \"#E5ECF6\", \"width\": 0.5}}, \"type\": \"bar\"}], \"barpolar\": [{\"marker\": {\"line\": {\"color\": \"#E5ECF6\", \"width\": 0.5}}, \"type\": \"barpolar\"}], \"carpet\": [{\"aaxis\": {\"endlinecolor\": \"#2a3f5f\", \"gridcolor\": \"white\", \"linecolor\": \"white\", \"minorgridcolor\": \"white\", \"startlinecolor\": \"#2a3f5f\"}, \"baxis\": {\"endlinecolor\": \"#2a3f5f\", \"gridcolor\": \"white\", \"linecolor\": \"white\", \"minorgridcolor\": \"white\", \"startlinecolor\": \"#2a3f5f\"}, \"type\": \"carpet\"}], \"choropleth\": [{\"colorbar\": {\"outlinewidth\": 0, \"ticks\": \"\"}, \"type\": \"choropleth\"}], \"contour\": [{\"colorbar\": {\"outlinewidth\": 0, \"ticks\": \"\"}, \"colorscale\": [[0.0, \"#0d0887\"], [0.1111111111111111, \"#46039f\"], [0.2222222222222222, \"#7201a8\"], [0.3333333333333333, \"#9c179e\"], [0.4444444444444444, \"#bd3786\"], [0.5555555555555556, \"#d8576b\"], [0.6666666666666666, \"#ed7953\"], [0.7777777777777778, \"#fb9f3a\"], [0.8888888888888888, \"#fdca26\"], [1.0, \"#f0f921\"]], \"type\": \"contour\"}], \"contourcarpet\": [{\"colorbar\": {\"outlinewidth\": 0, \"ticks\": \"\"}, \"type\": \"contourcarpet\"}], \"heatmap\": [{\"colorbar\": {\"outlinewidth\": 0, \"ticks\": \"\"}, \"colorscale\": [[0.0, \"#0d0887\"], [0.1111111111111111, \"#46039f\"], [0.2222222222222222, \"#7201a8\"], [0.3333333333333333, \"#9c179e\"], [0.4444444444444444, \"#bd3786\"], [0.5555555555555556, \"#d8576b\"], [0.6666666666666666, \"#ed7953\"], [0.7777777777777778, \"#fb9f3a\"], [0.8888888888888888, \"#fdca26\"], [1.0, \"#f0f921\"]], \"type\": \"heatmap\"}], \"heatmapgl\": [{\"colorbar\": {\"outlinewidth\": 0, \"ticks\": \"\"}, \"colorscale\": [[0.0, \"#0d0887\"], [0.1111111111111111, \"#46039f\"], [0.2222222222222222, \"#7201a8\"], [0.3333333333333333, \"#9c179e\"], [0.4444444444444444, \"#bd3786\"], [0.5555555555555556, \"#d8576b\"], [0.6666666666666666, \"#ed7953\"], [0.7777777777777778, \"#fb9f3a\"], [0.8888888888888888, \"#fdca26\"], [1.0, \"#f0f921\"]], \"type\": \"heatmapgl\"}], \"histogram\": [{\"marker\": {\"colorbar\": {\"outlinewidth\": 0, \"ticks\": \"\"}}, \"type\": \"histogram\"}], \"histogram2d\": [{\"colorbar\": {\"outlinewidth\": 0, \"ticks\": \"\"}, \"colorscale\": [[0.0, \"#0d0887\"], [0.1111111111111111, \"#46039f\"], [0.2222222222222222, \"#7201a8\"], [0.3333333333333333, \"#9c179e\"], [0.4444444444444444, \"#bd3786\"], [0.5555555555555556, \"#d8576b\"], [0.6666666666666666, \"#ed7953\"], [0.7777777777777778, \"#fb9f3a\"], [0.8888888888888888, \"#fdca26\"], [1.0, \"#f0f921\"]], \"type\": \"histogram2d\"}], \"histogram2dcontour\": [{\"colorbar\": {\"outlinewidth\": 0, \"ticks\": \"\"}, \"colorscale\": [[0.0, \"#0d0887\"], [0.1111111111111111, \"#46039f\"], [0.2222222222222222, \"#7201a8\"], [0.3333333333333333, \"#9c179e\"], [0.4444444444444444, \"#bd3786\"], [0.5555555555555556, \"#d8576b\"], [0.6666666666666666, \"#ed7953\"], [0.7777777777777778, \"#fb9f3a\"], [0.8888888888888888, \"#fdca26\"], [1.0, \"#f0f921\"]], \"type\": \"histogram2dcontour\"}], \"mesh3d\": [{\"colorbar\": {\"outlinewidth\": 0, \"ticks\": \"\"}, \"type\": \"mesh3d\"}], \"parcoords\": [{\"line\": {\"colorbar\": {\"outlinewidth\": 0, \"ticks\": \"\"}}, \"type\": \"parcoords\"}], \"scatter\": [{\"marker\": {\"colorbar\": {\"outlinewidth\": 0, \"ticks\": \"\"}}, \"type\": \"scatter\"}], \"scatter3d\": [{\"line\": {\"colorbar\": {\"outlinewidth\": 0, \"ticks\": \"\"}}, \"marker\": {\"colorbar\": {\"outlinewidth\": 0, \"ticks\": \"\"}}, \"type\": \"scatter3d\"}], \"scattercarpet\": [{\"marker\": {\"colorbar\": {\"outlinewidth\": 0, \"ticks\": \"\"}}, \"type\": \"scattercarpet\"}], \"scattergeo\": [{\"marker\": {\"colorbar\": {\"outlinewidth\": 0, \"ticks\": \"\"}}, \"type\": \"scattergeo\"}], \"scattergl\": [{\"marker\": {\"colorbar\": {\"outlinewidth\": 0, \"ticks\": \"\"}}, \"type\": \"scattergl\"}], \"scattermapbox\": [{\"marker\": {\"colorbar\": {\"outlinewidth\": 0, \"ticks\": \"\"}}, \"type\": \"scattermapbox\"}], \"scatterpolar\": [{\"marker\": {\"colorbar\": {\"outlinewidth\": 0, \"ticks\": \"\"}}, \"type\": \"scatterpolar\"}], \"scatterpolargl\": [{\"marker\": {\"colorbar\": {\"outlinewidth\": 0, \"ticks\": \"\"}}, \"type\": \"scatterpolargl\"}], \"scatterternary\": [{\"marker\": {\"colorbar\": {\"outlinewidth\": 0, \"ticks\": \"\"}}, \"type\": \"scatterternary\"}], \"surface\": [{\"colorbar\": {\"outlinewidth\": 0, \"ticks\": \"\"}, \"colorscale\": [[0.0, \"#0d0887\"], [0.1111111111111111, \"#46039f\"], [0.2222222222222222, \"#7201a8\"], [0.3333333333333333, \"#9c179e\"], [0.4444444444444444, \"#bd3786\"], [0.5555555555555556, \"#d8576b\"], [0.6666666666666666, \"#ed7953\"], [0.7777777777777778, \"#fb9f3a\"], [0.8888888888888888, \"#fdca26\"], [1.0, \"#f0f921\"]], \"type\": \"surface\"}], \"table\": [{\"cells\": {\"fill\": {\"color\": \"#EBF0F8\"}, \"line\": {\"color\": \"white\"}}, \"header\": {\"fill\": {\"color\": \"#C8D4E3\"}, \"line\": {\"color\": \"white\"}}, \"type\": \"table\"}]}, \"layout\": {\"annotationdefaults\": {\"arrowcolor\": \"#2a3f5f\", \"arrowhead\": 0, \"arrowwidth\": 1}, \"colorscale\": {\"diverging\": [[0, \"#8e0152\"], [0.1, \"#c51b7d\"], [0.2, \"#de77ae\"], [0.3, \"#f1b6da\"], [0.4, \"#fde0ef\"], [0.5, \"#f7f7f7\"], [0.6, \"#e6f5d0\"], [0.7, \"#b8e186\"], [0.8, \"#7fbc41\"], [0.9, \"#4d9221\"], [1, \"#276419\"]], \"sequential\": [[0.0, \"#0d0887\"], [0.1111111111111111, \"#46039f\"], [0.2222222222222222, \"#7201a8\"], [0.3333333333333333, \"#9c179e\"], [0.4444444444444444, \"#bd3786\"], [0.5555555555555556, \"#d8576b\"], [0.6666666666666666, \"#ed7953\"], [0.7777777777777778, \"#fb9f3a\"], [0.8888888888888888, \"#fdca26\"], [1.0, \"#f0f921\"]], \"sequentialminus\": [[0.0, \"#0d0887\"], [0.1111111111111111, \"#46039f\"], [0.2222222222222222, \"#7201a8\"], [0.3333333333333333, \"#9c179e\"], [0.4444444444444444, \"#bd3786\"], [0.5555555555555556, \"#d8576b\"], [0.6666666666666666, \"#ed7953\"], [0.7777777777777778, \"#fb9f3a\"], [0.8888888888888888, \"#fdca26\"], [1.0, \"#f0f921\"]]}, \"colorway\": [\"#636efa\", \"#EF553B\", \"#00cc96\", \"#ab63fa\", \"#FFA15A\", \"#19d3f3\", \"#FF6692\", \"#B6E880\", \"#FF97FF\", \"#FECB52\"], \"font\": {\"color\": \"#2a3f5f\"}, \"geo\": {\"bgcolor\": \"white\", \"lakecolor\": \"white\", \"landcolor\": \"#E5ECF6\", \"showlakes\": true, \"showland\": true, \"subunitcolor\": \"white\"}, \"hoverlabel\": {\"align\": \"left\"}, \"hovermode\": \"closest\", \"mapbox\": {\"style\": \"light\"}, \"paper_bgcolor\": \"white\", \"plot_bgcolor\": \"#E5ECF6\", \"polar\": {\"angularaxis\": {\"gridcolor\": \"white\", \"linecolor\": \"white\", \"ticks\": \"\"}, \"bgcolor\": \"#E5ECF6\", \"radialaxis\": {\"gridcolor\": \"white\", \"linecolor\": \"white\", \"ticks\": \"\"}}, \"scene\": {\"xaxis\": {\"backgroundcolor\": \"#E5ECF6\", \"gridcolor\": \"white\", \"gridwidth\": 2, \"linecolor\": \"white\", \"showbackground\": true, \"ticks\": \"\", \"zerolinecolor\": \"white\"}, \"yaxis\": {\"backgroundcolor\": \"#E5ECF6\", \"gridcolor\": \"white\", \"gridwidth\": 2, \"linecolor\": \"white\", \"showbackground\": true, \"ticks\": \"\", \"zerolinecolor\": \"white\"}, \"zaxis\": {\"backgroundcolor\": \"#E5ECF6\", \"gridcolor\": \"white\", \"gridwidth\": 2, \"linecolor\": \"white\", \"showbackground\": true, \"ticks\": \"\", \"zerolinecolor\": \"white\"}}, \"shapedefaults\": {\"line\": {\"color\": \"#2a3f5f\"}}, \"ternary\": {\"aaxis\": {\"gridcolor\": \"white\", \"linecolor\": \"white\", \"ticks\": \"\"}, \"baxis\": {\"gridcolor\": \"white\", \"linecolor\": \"white\", \"ticks\": \"\"}, \"bgcolor\": \"#E5ECF6\", \"caxis\": {\"gridcolor\": \"white\", \"linecolor\": \"white\", \"ticks\": \"\"}}, \"title\": {\"x\": 0.05}, \"xaxis\": {\"automargin\": true, \"gridcolor\": \"white\", \"linecolor\": \"white\", \"ticks\": \"\", \"zerolinecolor\": \"white\", \"zerolinewidth\": 2}, \"yaxis\": {\"automargin\": true, \"gridcolor\": \"white\", \"linecolor\": \"white\", \"ticks\": \"\", \"zerolinecolor\": \"white\", \"zerolinewidth\": 2}}}, \"title\": {\"text\": \"Property Type Count in Top 10 Most Expensive Neighborhoods\"}, \"yaxis\": {\"title\": {\"text\": \"Count\"}}},\n",
       "                        {\"responsive\": true}\n",
       "                    ).then(function(){\n",
       "                            \n",
       "var gd = document.getElementById('83b7fa81-ded4-4c72-9849-cc92d7ab41c0');\n",
       "var x = new MutationObserver(function (mutations, observer) {{\n",
       "        var display = window.getComputedStyle(gd).display;\n",
       "        if (!display || display === 'none') {{\n",
       "            console.log([gd, 'removed!']);\n",
       "            Plotly.purge(gd);\n",
       "            observer.disconnect();\n",
       "        }}\n",
       "}});\n",
       "\n",
       "// Listen for the removal of the full notebook cells\n",
       "var notebookContainer = gd.closest('#notebook-container');\n",
       "if (notebookContainer) {{\n",
       "    x.observe(notebookContainer, {childList: true});\n",
       "}}\n",
       "\n",
       "// Listen for the clearing of the current output cell\n",
       "var outputEl = gd.closest('.output');\n",
       "if (outputEl) {{\n",
       "    x.observe(outputEl, {childList: true});\n",
       "}}\n",
       "\n",
       "                        })\n",
       "                };\n",
       "                });\n",
       "            </script>\n",
       "        </div>"
      ]
     },
     "metadata": {},
     "output_type": "display_data"
    }
   ],
   "source": [
    "# view prevalance of different property types in the most expensive neighborhoods\n",
    "stacked_bar_df = pd.DataFrame(df.loc[df['neighbourhood_cleansed'].isin(top_10) ].groupby(['neighbourhood_cleansed', 'property_type']).count()['id']).reset_index()\n",
    "property_type_list = stacked_bar_df.property_type.unique().tolist()\n",
    "\n",
    "stacked_bar_data = []\n",
    "\n",
    "for property_type in property_type_list:\n",
    "        stacked_bar_trace = go.Bar(name = property_type, x= top_10, y =stacked_bar_df[stacked_bar_df['property_type']== property_type]['id'].tolist())\n",
    "        stacked_bar_data.append(stacked_bar_trace)\n",
    "        \n",
    "layout = go.Layout(title = 'Property Type Count in Top 10 Most Expensive Neighborhoods',\n",
    "                   barmode = 'stack',\n",
    "                  yaxis = dict(title='Count'))    \n",
    "    \n",
    "stacked_bar_fig = go.Figure(data=stacked_bar_data, layout=layout)\n",
    "\n",
    "stacked_bar_fig.show()"
   ]
  },
  {
   "cell_type": "markdown",
   "metadata": {},
   "source": [
    "Judging by the stacked bar chart above, the ‘House’ and ‘Apartment’ property types are the majority of listings and most representative of whats available on the market."
   ]
  },
  {
   "cell_type": "markdown",
   "metadata": {},
   "source": [
    "My initial intuition was that Houses would be more expensive than Apartments on average. This turned out to be the case as the heatmap below illustrates."
   ]
  },
  {
   "cell_type": "code",
   "execution_count": 136,
   "metadata": {
    "scrolled": true
   },
   "outputs": [
    {
     "data": {
      "application/vnd.plotly.v1+json": {
       "config": {
        "plotlyServerURL": "https://plot.ly"
       },
       "data": [
        {
         "type": "heatmap",
         "x": [
          "Apartment",
          "House"
         ],
         "y": [
          "Alki",
          "Briarcliff",
          "Industrial District",
          "Montlake",
          "Portage Bay",
          "Southeast Magnolia",
          "Sunset Hill",
          "West Queen Anne",
          "Westlake",
          "Windermere"
         ],
         "z": [
          [
           97.92307692307692,
           210.125
          ],
          [
           97.5,
           189.75
          ],
          [
           140
          ],
          [
           133.33333333333334,
           191.53333333333333
          ],
          [
           113.83333333333333,
           340.2857142857143
          ],
          [
           219.6,
           234.1
          ],
          [
           85,
           202.85714285714286
          ],
          [
           128.20833333333334,
           247.3939393939394
          ],
          [
           142.4,
           168
          ],
          [
           163.33333333333334,
           172.71428571428572
          ]
         ]
        }
       ],
       "layout": {
        "template": {
         "data": {
          "bar": [
           {
            "error_x": {
             "color": "#2a3f5f"
            },
            "error_y": {
             "color": "#2a3f5f"
            },
            "marker": {
             "line": {
              "color": "#E5ECF6",
              "width": 0.5
             }
            },
            "type": "bar"
           }
          ],
          "barpolar": [
           {
            "marker": {
             "line": {
              "color": "#E5ECF6",
              "width": 0.5
             }
            },
            "type": "barpolar"
           }
          ],
          "carpet": [
           {
            "aaxis": {
             "endlinecolor": "#2a3f5f",
             "gridcolor": "white",
             "linecolor": "white",
             "minorgridcolor": "white",
             "startlinecolor": "#2a3f5f"
            },
            "baxis": {
             "endlinecolor": "#2a3f5f",
             "gridcolor": "white",
             "linecolor": "white",
             "minorgridcolor": "white",
             "startlinecolor": "#2a3f5f"
            },
            "type": "carpet"
           }
          ],
          "choropleth": [
           {
            "colorbar": {
             "outlinewidth": 0,
             "ticks": ""
            },
            "type": "choropleth"
           }
          ],
          "contour": [
           {
            "colorbar": {
             "outlinewidth": 0,
             "ticks": ""
            },
            "colorscale": [
             [
              0,
              "#0d0887"
             ],
             [
              0.1111111111111111,
              "#46039f"
             ],
             [
              0.2222222222222222,
              "#7201a8"
             ],
             [
              0.3333333333333333,
              "#9c179e"
             ],
             [
              0.4444444444444444,
              "#bd3786"
             ],
             [
              0.5555555555555556,
              "#d8576b"
             ],
             [
              0.6666666666666666,
              "#ed7953"
             ],
             [
              0.7777777777777778,
              "#fb9f3a"
             ],
             [
              0.8888888888888888,
              "#fdca26"
             ],
             [
              1,
              "#f0f921"
             ]
            ],
            "type": "contour"
           }
          ],
          "contourcarpet": [
           {
            "colorbar": {
             "outlinewidth": 0,
             "ticks": ""
            },
            "type": "contourcarpet"
           }
          ],
          "heatmap": [
           {
            "colorbar": {
             "outlinewidth": 0,
             "ticks": ""
            },
            "colorscale": [
             [
              0,
              "#0d0887"
             ],
             [
              0.1111111111111111,
              "#46039f"
             ],
             [
              0.2222222222222222,
              "#7201a8"
             ],
             [
              0.3333333333333333,
              "#9c179e"
             ],
             [
              0.4444444444444444,
              "#bd3786"
             ],
             [
              0.5555555555555556,
              "#d8576b"
             ],
             [
              0.6666666666666666,
              "#ed7953"
             ],
             [
              0.7777777777777778,
              "#fb9f3a"
             ],
             [
              0.8888888888888888,
              "#fdca26"
             ],
             [
              1,
              "#f0f921"
             ]
            ],
            "type": "heatmap"
           }
          ],
          "heatmapgl": [
           {
            "colorbar": {
             "outlinewidth": 0,
             "ticks": ""
            },
            "colorscale": [
             [
              0,
              "#0d0887"
             ],
             [
              0.1111111111111111,
              "#46039f"
             ],
             [
              0.2222222222222222,
              "#7201a8"
             ],
             [
              0.3333333333333333,
              "#9c179e"
             ],
             [
              0.4444444444444444,
              "#bd3786"
             ],
             [
              0.5555555555555556,
              "#d8576b"
             ],
             [
              0.6666666666666666,
              "#ed7953"
             ],
             [
              0.7777777777777778,
              "#fb9f3a"
             ],
             [
              0.8888888888888888,
              "#fdca26"
             ],
             [
              1,
              "#f0f921"
             ]
            ],
            "type": "heatmapgl"
           }
          ],
          "histogram": [
           {
            "marker": {
             "colorbar": {
              "outlinewidth": 0,
              "ticks": ""
             }
            },
            "type": "histogram"
           }
          ],
          "histogram2d": [
           {
            "colorbar": {
             "outlinewidth": 0,
             "ticks": ""
            },
            "colorscale": [
             [
              0,
              "#0d0887"
             ],
             [
              0.1111111111111111,
              "#46039f"
             ],
             [
              0.2222222222222222,
              "#7201a8"
             ],
             [
              0.3333333333333333,
              "#9c179e"
             ],
             [
              0.4444444444444444,
              "#bd3786"
             ],
             [
              0.5555555555555556,
              "#d8576b"
             ],
             [
              0.6666666666666666,
              "#ed7953"
             ],
             [
              0.7777777777777778,
              "#fb9f3a"
             ],
             [
              0.8888888888888888,
              "#fdca26"
             ],
             [
              1,
              "#f0f921"
             ]
            ],
            "type": "histogram2d"
           }
          ],
          "histogram2dcontour": [
           {
            "colorbar": {
             "outlinewidth": 0,
             "ticks": ""
            },
            "colorscale": [
             [
              0,
              "#0d0887"
             ],
             [
              0.1111111111111111,
              "#46039f"
             ],
             [
              0.2222222222222222,
              "#7201a8"
             ],
             [
              0.3333333333333333,
              "#9c179e"
             ],
             [
              0.4444444444444444,
              "#bd3786"
             ],
             [
              0.5555555555555556,
              "#d8576b"
             ],
             [
              0.6666666666666666,
              "#ed7953"
             ],
             [
              0.7777777777777778,
              "#fb9f3a"
             ],
             [
              0.8888888888888888,
              "#fdca26"
             ],
             [
              1,
              "#f0f921"
             ]
            ],
            "type": "histogram2dcontour"
           }
          ],
          "mesh3d": [
           {
            "colorbar": {
             "outlinewidth": 0,
             "ticks": ""
            },
            "type": "mesh3d"
           }
          ],
          "parcoords": [
           {
            "line": {
             "colorbar": {
              "outlinewidth": 0,
              "ticks": ""
             }
            },
            "type": "parcoords"
           }
          ],
          "scatter": [
           {
            "marker": {
             "colorbar": {
              "outlinewidth": 0,
              "ticks": ""
             }
            },
            "type": "scatter"
           }
          ],
          "scatter3d": [
           {
            "line": {
             "colorbar": {
              "outlinewidth": 0,
              "ticks": ""
             }
            },
            "marker": {
             "colorbar": {
              "outlinewidth": 0,
              "ticks": ""
             }
            },
            "type": "scatter3d"
           }
          ],
          "scattercarpet": [
           {
            "marker": {
             "colorbar": {
              "outlinewidth": 0,
              "ticks": ""
             }
            },
            "type": "scattercarpet"
           }
          ],
          "scattergeo": [
           {
            "marker": {
             "colorbar": {
              "outlinewidth": 0,
              "ticks": ""
             }
            },
            "type": "scattergeo"
           }
          ],
          "scattergl": [
           {
            "marker": {
             "colorbar": {
              "outlinewidth": 0,
              "ticks": ""
             }
            },
            "type": "scattergl"
           }
          ],
          "scattermapbox": [
           {
            "marker": {
             "colorbar": {
              "outlinewidth": 0,
              "ticks": ""
             }
            },
            "type": "scattermapbox"
           }
          ],
          "scatterpolar": [
           {
            "marker": {
             "colorbar": {
              "outlinewidth": 0,
              "ticks": ""
             }
            },
            "type": "scatterpolar"
           }
          ],
          "scatterpolargl": [
           {
            "marker": {
             "colorbar": {
              "outlinewidth": 0,
              "ticks": ""
             }
            },
            "type": "scatterpolargl"
           }
          ],
          "scatterternary": [
           {
            "marker": {
             "colorbar": {
              "outlinewidth": 0,
              "ticks": ""
             }
            },
            "type": "scatterternary"
           }
          ],
          "surface": [
           {
            "colorbar": {
             "outlinewidth": 0,
             "ticks": ""
            },
            "colorscale": [
             [
              0,
              "#0d0887"
             ],
             [
              0.1111111111111111,
              "#46039f"
             ],
             [
              0.2222222222222222,
              "#7201a8"
             ],
             [
              0.3333333333333333,
              "#9c179e"
             ],
             [
              0.4444444444444444,
              "#bd3786"
             ],
             [
              0.5555555555555556,
              "#d8576b"
             ],
             [
              0.6666666666666666,
              "#ed7953"
             ],
             [
              0.7777777777777778,
              "#fb9f3a"
             ],
             [
              0.8888888888888888,
              "#fdca26"
             ],
             [
              1,
              "#f0f921"
             ]
            ],
            "type": "surface"
           }
          ],
          "table": [
           {
            "cells": {
             "fill": {
              "color": "#EBF0F8"
             },
             "line": {
              "color": "white"
             }
            },
            "header": {
             "fill": {
              "color": "#C8D4E3"
             },
             "line": {
              "color": "white"
             }
            },
            "type": "table"
           }
          ]
         },
         "layout": {
          "annotationdefaults": {
           "arrowcolor": "#2a3f5f",
           "arrowhead": 0,
           "arrowwidth": 1
          },
          "colorscale": {
           "diverging": [
            [
             0,
             "#8e0152"
            ],
            [
             0.1,
             "#c51b7d"
            ],
            [
             0.2,
             "#de77ae"
            ],
            [
             0.3,
             "#f1b6da"
            ],
            [
             0.4,
             "#fde0ef"
            ],
            [
             0.5,
             "#f7f7f7"
            ],
            [
             0.6,
             "#e6f5d0"
            ],
            [
             0.7,
             "#b8e186"
            ],
            [
             0.8,
             "#7fbc41"
            ],
            [
             0.9,
             "#4d9221"
            ],
            [
             1,
             "#276419"
            ]
           ],
           "sequential": [
            [
             0,
             "#0d0887"
            ],
            [
             0.1111111111111111,
             "#46039f"
            ],
            [
             0.2222222222222222,
             "#7201a8"
            ],
            [
             0.3333333333333333,
             "#9c179e"
            ],
            [
             0.4444444444444444,
             "#bd3786"
            ],
            [
             0.5555555555555556,
             "#d8576b"
            ],
            [
             0.6666666666666666,
             "#ed7953"
            ],
            [
             0.7777777777777778,
             "#fb9f3a"
            ],
            [
             0.8888888888888888,
             "#fdca26"
            ],
            [
             1,
             "#f0f921"
            ]
           ],
           "sequentialminus": [
            [
             0,
             "#0d0887"
            ],
            [
             0.1111111111111111,
             "#46039f"
            ],
            [
             0.2222222222222222,
             "#7201a8"
            ],
            [
             0.3333333333333333,
             "#9c179e"
            ],
            [
             0.4444444444444444,
             "#bd3786"
            ],
            [
             0.5555555555555556,
             "#d8576b"
            ],
            [
             0.6666666666666666,
             "#ed7953"
            ],
            [
             0.7777777777777778,
             "#fb9f3a"
            ],
            [
             0.8888888888888888,
             "#fdca26"
            ],
            [
             1,
             "#f0f921"
            ]
           ]
          },
          "colorway": [
           "#636efa",
           "#EF553B",
           "#00cc96",
           "#ab63fa",
           "#FFA15A",
           "#19d3f3",
           "#FF6692",
           "#B6E880",
           "#FF97FF",
           "#FECB52"
          ],
          "font": {
           "color": "#2a3f5f"
          },
          "geo": {
           "bgcolor": "white",
           "lakecolor": "white",
           "landcolor": "#E5ECF6",
           "showlakes": true,
           "showland": true,
           "subunitcolor": "white"
          },
          "hoverlabel": {
           "align": "left"
          },
          "hovermode": "closest",
          "mapbox": {
           "style": "light"
          },
          "paper_bgcolor": "white",
          "plot_bgcolor": "#E5ECF6",
          "polar": {
           "angularaxis": {
            "gridcolor": "white",
            "linecolor": "white",
            "ticks": ""
           },
           "bgcolor": "#E5ECF6",
           "radialaxis": {
            "gridcolor": "white",
            "linecolor": "white",
            "ticks": ""
           }
          },
          "scene": {
           "xaxis": {
            "backgroundcolor": "#E5ECF6",
            "gridcolor": "white",
            "gridwidth": 2,
            "linecolor": "white",
            "showbackground": true,
            "ticks": "",
            "zerolinecolor": "white"
           },
           "yaxis": {
            "backgroundcolor": "#E5ECF6",
            "gridcolor": "white",
            "gridwidth": 2,
            "linecolor": "white",
            "showbackground": true,
            "ticks": "",
            "zerolinecolor": "white"
           },
           "zaxis": {
            "backgroundcolor": "#E5ECF6",
            "gridcolor": "white",
            "gridwidth": 2,
            "linecolor": "white",
            "showbackground": true,
            "ticks": "",
            "zerolinecolor": "white"
           }
          },
          "shapedefaults": {
           "line": {
            "color": "#2a3f5f"
           }
          },
          "ternary": {
           "aaxis": {
            "gridcolor": "white",
            "linecolor": "white",
            "ticks": ""
           },
           "baxis": {
            "gridcolor": "white",
            "linecolor": "white",
            "ticks": ""
           },
           "bgcolor": "#E5ECF6",
           "caxis": {
            "gridcolor": "white",
            "linecolor": "white",
            "ticks": ""
           }
          },
          "title": {
           "x": 0.05
          },
          "xaxis": {
           "automargin": true,
           "gridcolor": "white",
           "linecolor": "white",
           "ticks": "",
           "zerolinecolor": "white",
           "zerolinewidth": 2
          },
          "yaxis": {
           "automargin": true,
           "gridcolor": "white",
           "linecolor": "white",
           "ticks": "",
           "zerolinecolor": "white",
           "zerolinewidth": 2
          }
         }
        },
        "title": {
         "text": "Comparing Mean Listing Price for Neighborhood by Property Type"
        },
        "xaxis": {
         "automargin": true
        },
        "yaxis": {
         "automargin": true
        }
       }
      },
      "text/html": [
       "<div>\n",
       "        \n",
       "        \n",
       "            <div id=\"2ab51c95-e539-4e2e-bfa0-bbd41d6a88ef\" class=\"plotly-graph-div\" style=\"height:525px; width:100%;\"></div>\n",
       "            <script type=\"text/javascript\">\n",
       "                require([\"plotly\"], function(Plotly) {\n",
       "                    window.PLOTLYENV=window.PLOTLYENV || {};\n",
       "                    \n",
       "                if (document.getElementById(\"2ab51c95-e539-4e2e-bfa0-bbd41d6a88ef\")) {\n",
       "                    Plotly.newPlot(\n",
       "                        '2ab51c95-e539-4e2e-bfa0-bbd41d6a88ef',\n",
       "                        [{\"type\": \"heatmap\", \"x\": [\"Apartment\", \"House\"], \"y\": [\"Alki\", \"Briarcliff\", \"Industrial District\", \"Montlake\", \"Portage Bay\", \"Southeast Magnolia\", \"Sunset Hill\", \"West Queen Anne\", \"Westlake\", \"Windermere\"], \"z\": [[97.92307692307692, 210.125], [97.5, 189.75], [140.0], [133.33333333333334, 191.53333333333333], [113.83333333333333, 340.2857142857143], [219.6, 234.1], [85.0, 202.85714285714286], [128.20833333333334, 247.3939393939394], [142.4, 168.0], [163.33333333333334, 172.71428571428572]]}],\n",
       "                        {\"template\": {\"data\": {\"bar\": [{\"error_x\": {\"color\": \"#2a3f5f\"}, \"error_y\": {\"color\": \"#2a3f5f\"}, \"marker\": {\"line\": {\"color\": \"#E5ECF6\", \"width\": 0.5}}, \"type\": \"bar\"}], \"barpolar\": [{\"marker\": {\"line\": {\"color\": \"#E5ECF6\", \"width\": 0.5}}, \"type\": \"barpolar\"}], \"carpet\": [{\"aaxis\": {\"endlinecolor\": \"#2a3f5f\", \"gridcolor\": \"white\", \"linecolor\": \"white\", \"minorgridcolor\": \"white\", \"startlinecolor\": \"#2a3f5f\"}, \"baxis\": {\"endlinecolor\": \"#2a3f5f\", \"gridcolor\": \"white\", \"linecolor\": \"white\", \"minorgridcolor\": \"white\", \"startlinecolor\": \"#2a3f5f\"}, \"type\": \"carpet\"}], \"choropleth\": [{\"colorbar\": {\"outlinewidth\": 0, \"ticks\": \"\"}, \"type\": \"choropleth\"}], \"contour\": [{\"colorbar\": {\"outlinewidth\": 0, \"ticks\": \"\"}, \"colorscale\": [[0.0, \"#0d0887\"], [0.1111111111111111, \"#46039f\"], [0.2222222222222222, \"#7201a8\"], [0.3333333333333333, \"#9c179e\"], [0.4444444444444444, \"#bd3786\"], [0.5555555555555556, \"#d8576b\"], [0.6666666666666666, \"#ed7953\"], [0.7777777777777778, \"#fb9f3a\"], [0.8888888888888888, \"#fdca26\"], [1.0, \"#f0f921\"]], \"type\": \"contour\"}], \"contourcarpet\": [{\"colorbar\": {\"outlinewidth\": 0, \"ticks\": \"\"}, \"type\": \"contourcarpet\"}], \"heatmap\": [{\"colorbar\": {\"outlinewidth\": 0, \"ticks\": \"\"}, \"colorscale\": [[0.0, \"#0d0887\"], [0.1111111111111111, \"#46039f\"], [0.2222222222222222, \"#7201a8\"], [0.3333333333333333, \"#9c179e\"], [0.4444444444444444, \"#bd3786\"], [0.5555555555555556, \"#d8576b\"], [0.6666666666666666, \"#ed7953\"], [0.7777777777777778, \"#fb9f3a\"], [0.8888888888888888, \"#fdca26\"], [1.0, \"#f0f921\"]], \"type\": \"heatmap\"}], \"heatmapgl\": [{\"colorbar\": {\"outlinewidth\": 0, \"ticks\": \"\"}, \"colorscale\": [[0.0, \"#0d0887\"], [0.1111111111111111, \"#46039f\"], [0.2222222222222222, \"#7201a8\"], [0.3333333333333333, \"#9c179e\"], [0.4444444444444444, \"#bd3786\"], [0.5555555555555556, \"#d8576b\"], [0.6666666666666666, \"#ed7953\"], [0.7777777777777778, \"#fb9f3a\"], [0.8888888888888888, \"#fdca26\"], [1.0, \"#f0f921\"]], \"type\": \"heatmapgl\"}], \"histogram\": [{\"marker\": {\"colorbar\": {\"outlinewidth\": 0, \"ticks\": \"\"}}, \"type\": \"histogram\"}], \"histogram2d\": [{\"colorbar\": {\"outlinewidth\": 0, \"ticks\": \"\"}, \"colorscale\": [[0.0, \"#0d0887\"], [0.1111111111111111, \"#46039f\"], [0.2222222222222222, \"#7201a8\"], [0.3333333333333333, \"#9c179e\"], [0.4444444444444444, \"#bd3786\"], [0.5555555555555556, \"#d8576b\"], [0.6666666666666666, \"#ed7953\"], [0.7777777777777778, \"#fb9f3a\"], [0.8888888888888888, \"#fdca26\"], [1.0, \"#f0f921\"]], \"type\": \"histogram2d\"}], \"histogram2dcontour\": [{\"colorbar\": {\"outlinewidth\": 0, \"ticks\": \"\"}, \"colorscale\": [[0.0, \"#0d0887\"], [0.1111111111111111, \"#46039f\"], [0.2222222222222222, \"#7201a8\"], [0.3333333333333333, \"#9c179e\"], [0.4444444444444444, \"#bd3786\"], [0.5555555555555556, \"#d8576b\"], [0.6666666666666666, \"#ed7953\"], [0.7777777777777778, \"#fb9f3a\"], [0.8888888888888888, \"#fdca26\"], [1.0, \"#f0f921\"]], \"type\": \"histogram2dcontour\"}], \"mesh3d\": [{\"colorbar\": {\"outlinewidth\": 0, \"ticks\": \"\"}, \"type\": \"mesh3d\"}], \"parcoords\": [{\"line\": {\"colorbar\": {\"outlinewidth\": 0, \"ticks\": \"\"}}, \"type\": \"parcoords\"}], \"scatter\": [{\"marker\": {\"colorbar\": {\"outlinewidth\": 0, \"ticks\": \"\"}}, \"type\": \"scatter\"}], \"scatter3d\": [{\"line\": {\"colorbar\": {\"outlinewidth\": 0, \"ticks\": \"\"}}, \"marker\": {\"colorbar\": {\"outlinewidth\": 0, \"ticks\": \"\"}}, \"type\": \"scatter3d\"}], \"scattercarpet\": [{\"marker\": {\"colorbar\": {\"outlinewidth\": 0, \"ticks\": \"\"}}, \"type\": \"scattercarpet\"}], \"scattergeo\": [{\"marker\": {\"colorbar\": {\"outlinewidth\": 0, \"ticks\": \"\"}}, \"type\": \"scattergeo\"}], \"scattergl\": [{\"marker\": {\"colorbar\": {\"outlinewidth\": 0, \"ticks\": \"\"}}, \"type\": \"scattergl\"}], \"scattermapbox\": [{\"marker\": {\"colorbar\": {\"outlinewidth\": 0, \"ticks\": \"\"}}, \"type\": \"scattermapbox\"}], \"scatterpolar\": [{\"marker\": {\"colorbar\": {\"outlinewidth\": 0, \"ticks\": \"\"}}, \"type\": \"scatterpolar\"}], \"scatterpolargl\": [{\"marker\": {\"colorbar\": {\"outlinewidth\": 0, \"ticks\": \"\"}}, \"type\": \"scatterpolargl\"}], \"scatterternary\": [{\"marker\": {\"colorbar\": {\"outlinewidth\": 0, \"ticks\": \"\"}}, \"type\": \"scatterternary\"}], \"surface\": [{\"colorbar\": {\"outlinewidth\": 0, \"ticks\": \"\"}, \"colorscale\": [[0.0, \"#0d0887\"], [0.1111111111111111, \"#46039f\"], [0.2222222222222222, \"#7201a8\"], [0.3333333333333333, \"#9c179e\"], [0.4444444444444444, \"#bd3786\"], [0.5555555555555556, \"#d8576b\"], [0.6666666666666666, \"#ed7953\"], [0.7777777777777778, \"#fb9f3a\"], [0.8888888888888888, \"#fdca26\"], [1.0, \"#f0f921\"]], \"type\": \"surface\"}], \"table\": [{\"cells\": {\"fill\": {\"color\": \"#EBF0F8\"}, \"line\": {\"color\": \"white\"}}, \"header\": {\"fill\": {\"color\": \"#C8D4E3\"}, \"line\": {\"color\": \"white\"}}, \"type\": \"table\"}]}, \"layout\": {\"annotationdefaults\": {\"arrowcolor\": \"#2a3f5f\", \"arrowhead\": 0, \"arrowwidth\": 1}, \"colorscale\": {\"diverging\": [[0, \"#8e0152\"], [0.1, \"#c51b7d\"], [0.2, \"#de77ae\"], [0.3, \"#f1b6da\"], [0.4, \"#fde0ef\"], [0.5, \"#f7f7f7\"], [0.6, \"#e6f5d0\"], [0.7, \"#b8e186\"], [0.8, \"#7fbc41\"], [0.9, \"#4d9221\"], [1, \"#276419\"]], \"sequential\": [[0.0, \"#0d0887\"], [0.1111111111111111, \"#46039f\"], [0.2222222222222222, \"#7201a8\"], [0.3333333333333333, \"#9c179e\"], [0.4444444444444444, \"#bd3786\"], [0.5555555555555556, \"#d8576b\"], [0.6666666666666666, \"#ed7953\"], [0.7777777777777778, \"#fb9f3a\"], [0.8888888888888888, \"#fdca26\"], [1.0, \"#f0f921\"]], \"sequentialminus\": [[0.0, \"#0d0887\"], [0.1111111111111111, \"#46039f\"], [0.2222222222222222, \"#7201a8\"], [0.3333333333333333, \"#9c179e\"], [0.4444444444444444, \"#bd3786\"], [0.5555555555555556, \"#d8576b\"], [0.6666666666666666, \"#ed7953\"], [0.7777777777777778, \"#fb9f3a\"], [0.8888888888888888, \"#fdca26\"], [1.0, \"#f0f921\"]]}, \"colorway\": [\"#636efa\", \"#EF553B\", \"#00cc96\", \"#ab63fa\", \"#FFA15A\", \"#19d3f3\", \"#FF6692\", \"#B6E880\", \"#FF97FF\", \"#FECB52\"], \"font\": {\"color\": \"#2a3f5f\"}, \"geo\": {\"bgcolor\": \"white\", \"lakecolor\": \"white\", \"landcolor\": \"#E5ECF6\", \"showlakes\": true, \"showland\": true, \"subunitcolor\": \"white\"}, \"hoverlabel\": {\"align\": \"left\"}, \"hovermode\": \"closest\", \"mapbox\": {\"style\": \"light\"}, \"paper_bgcolor\": \"white\", \"plot_bgcolor\": \"#E5ECF6\", \"polar\": {\"angularaxis\": {\"gridcolor\": \"white\", \"linecolor\": \"white\", \"ticks\": \"\"}, \"bgcolor\": \"#E5ECF6\", \"radialaxis\": {\"gridcolor\": \"white\", \"linecolor\": \"white\", \"ticks\": \"\"}}, \"scene\": {\"xaxis\": {\"backgroundcolor\": \"#E5ECF6\", \"gridcolor\": \"white\", \"gridwidth\": 2, \"linecolor\": \"white\", \"showbackground\": true, \"ticks\": \"\", \"zerolinecolor\": \"white\"}, \"yaxis\": {\"backgroundcolor\": \"#E5ECF6\", \"gridcolor\": \"white\", \"gridwidth\": 2, \"linecolor\": \"white\", \"showbackground\": true, \"ticks\": \"\", \"zerolinecolor\": \"white\"}, \"zaxis\": {\"backgroundcolor\": \"#E5ECF6\", \"gridcolor\": \"white\", \"gridwidth\": 2, \"linecolor\": \"white\", \"showbackground\": true, \"ticks\": \"\", \"zerolinecolor\": \"white\"}}, \"shapedefaults\": {\"line\": {\"color\": \"#2a3f5f\"}}, \"ternary\": {\"aaxis\": {\"gridcolor\": \"white\", \"linecolor\": \"white\", \"ticks\": \"\"}, \"baxis\": {\"gridcolor\": \"white\", \"linecolor\": \"white\", \"ticks\": \"\"}, \"bgcolor\": \"#E5ECF6\", \"caxis\": {\"gridcolor\": \"white\", \"linecolor\": \"white\", \"ticks\": \"\"}}, \"title\": {\"x\": 0.05}, \"xaxis\": {\"automargin\": true, \"gridcolor\": \"white\", \"linecolor\": \"white\", \"ticks\": \"\", \"zerolinecolor\": \"white\", \"zerolinewidth\": 2}, \"yaxis\": {\"automargin\": true, \"gridcolor\": \"white\", \"linecolor\": \"white\", \"ticks\": \"\", \"zerolinecolor\": \"white\", \"zerolinewidth\": 2}}}, \"title\": {\"text\": \"Comparing Mean Listing Price for Neighborhood by Property Type\"}, \"xaxis\": {\"automargin\": true}, \"yaxis\": {\"automargin\": true}},\n",
       "                        {\"responsive\": true}\n",
       "                    ).then(function(){\n",
       "                            \n",
       "var gd = document.getElementById('2ab51c95-e539-4e2e-bfa0-bbd41d6a88ef');\n",
       "var x = new MutationObserver(function (mutations, observer) {{\n",
       "        var display = window.getComputedStyle(gd).display;\n",
       "        if (!display || display === 'none') {{\n",
       "            console.log([gd, 'removed!']);\n",
       "            Plotly.purge(gd);\n",
       "            observer.disconnect();\n",
       "        }}\n",
       "}});\n",
       "\n",
       "// Listen for the removal of the full notebook cells\n",
       "var notebookContainer = gd.closest('#notebook-container');\n",
       "if (notebookContainer) {{\n",
       "    x.observe(notebookContainer, {childList: true});\n",
       "}}\n",
       "\n",
       "// Listen for the clearing of the current output cell\n",
       "var outputEl = gd.closest('.output');\n",
       "if (outputEl) {{\n",
       "    x.observe(outputEl, {childList: true});\n",
       "}}\n",
       "\n",
       "                        })\n",
       "                };\n",
       "                });\n",
       "            </script>\n",
       "        </div>"
      ]
     },
     "metadata": {},
     "output_type": "display_data"
    }
   ],
   "source": [
    "# create a heat map showing the mean prices for the two most common property types\n",
    "property_types = ['House', 'Apartment'] \n",
    "\n",
    "# transform data to group it properly to for the heatmap visualization using plotly\n",
    "heatmap_filtered_df = pd.DataFrame(df.loc[df['neighbourhood_cleansed'].isin(top_10) & df['property_type'].isin(property_types)].groupby(['neighbourhood_cleansed', 'property_type']).mean()['price']).reset_index()\n",
    "\n",
    "heatmap_group = heatmap_filtered_df.groupby('neighbourhood_cleansed')\n",
    "heatmap_df = pd.DataFrame(heatmap_group.apply(lambda x: x['price'].unique())) # creates a row for each neighborhood with an array of mean prices by property type\n",
    "\n",
    "heatmap_df.columns = ['price']\n",
    "\n",
    "heatmap_price= heatmap_df.price.tolist()\n",
    "\n",
    "heatmap_index = heatmap_df.index.tolist()\n",
    "\n",
    "heatmap_trace = go.Heatmap(\n",
    "    z = heatmap_price,\n",
    "    x = ['Apartment', 'House'],\n",
    "    y = heatmap_index\n",
    ")\n",
    "heatmap_data = [heatmap_trace]\n",
    "\n",
    "\n",
    "layout = dict(title = 'Comparing Mean Listing Price for Neighborhood by Property Type',\n",
    "              xaxis= dict(automargin = True),\n",
    "              yaxis = dict(automargin = True)           \n",
    "             )\n",
    "heatmap_fig = go.Figure(data=heatmap_trace, layout = layout)\n",
    "\n",
    "\n",
    "heatmap_fig.show()"
   ]
  },
  {
   "cell_type": "markdown",
   "metadata": {},
   "source": [
    "The disparity is most striking in the most expensive neighborhoods, Southeast Magnolia and Portage Bay. This was to be expected though given the relatively larger standard deviation compared to the other neighborhoods."
   ]
  },
  {
   "cell_type": "markdown",
   "metadata": {},
   "source": [
    "## 3. Data Preparation"
   ]
  },
  {
   "cell_type": "markdown",
   "metadata": {},
   "source": [
    "Different data preparation has already been done to primarily address the first two questions through data visualization. \n",
    "\n",
    "The following is remaining data preparation to format our data for modeling. \n",
    "\n",
    "Missing values will need to be addressed for numeric variables and dummy columns need to be created to have categorical variables in a useable format for modeling later.\n",
    "\n",
    "Mean imputation was used to not distort the observed mean. Incorporating outliers isn't necessarily an issue so imputing the mean was chosen over imputing the median."
   ]
  },
  {
   "cell_type": "code",
   "execution_count": 137,
   "metadata": {},
   "outputs": [],
   "source": [
    "def clean_data(df):\n",
    "    '''\n",
    "    INPUT\n",
    "    df - pandas dataframe \n",
    "    \n",
    "    OUTPUT\n",
    "    X - A matrix holding all of the variables you want to consider when predicting the response\n",
    "    y - the corresponding response vector\n",
    "    \n",
    "    Perform to obtain the correct X and y objects\n",
    "    This function cleans df using the following steps to produce X and y:\n",
    "    1. Select the numeric variables in the dataset\n",
    "    2. Imputes the mean to fill null values for numeric variables\n",
    "    3. Select the categorical variables\n",
    "    4. Creates dummy columns for the categorical variables\n",
    "    5. Create X as all the columns that are not the Price column\n",
    "    6. Create y as the Price column\n",
    "\n",
    "    '''\n",
    "  \n",
    "    num_vars= df.select_dtypes(include=['int','float']).copy().columns\n",
    "\n",
    "   \n",
    "    for var in num_vars:\n",
    "        df[var].fillna((df[var].mean()), inplace=True)\n",
    "\n",
    "   \n",
    "    cat_vars = df.select_dtypes(include=['object']).copy().columns\n",
    "\n",
    "   \n",
    "    for var in cat_vars:\n",
    "        # for each cat add dummy var, drop original column\n",
    "        df = pd.concat([df.drop(var, axis=1), pd.get_dummies(df[var], prefix=var, prefix_sep='_', drop_first=True)], axis=1)\n",
    "    \n",
    "   \n",
    "    X = df.drop(columns=['price'], axis=1)\n",
    "    y = df['price']\n",
    "    \n",
    "    return X, y"
   ]
  },
  {
   "cell_type": "markdown",
   "metadata": {},
   "source": [
    "## 4. Modeling"
   ]
  },
  {
   "cell_type": "markdown",
   "metadata": {},
   "source": [
    "I have chosen a multiple linear regression model for predicting the listing price based upon other independent variables.\n",
    "\n",
    "The independent variables were chosen based on the criteria of being logically plausible of having a causal impact with the listing price, having relatively few missing values (if any) and a manageable amount of unique values (if a categorical variable).\n",
    "\n",
    "The clean_data function is used to split the data into the dependent and independent variables."
   ]
  },
  {
   "cell_type": "code",
   "execution_count": 138,
   "metadata": {},
   "outputs": [
    {
     "name": "stderr",
     "output_type": "stream",
     "text": [
      "/anaconda3/envs/plotlytest/lib/python3.6/site-packages/pandas/core/generic.py:6130: SettingWithCopyWarning:\n",
      "\n",
      "\n",
      "A value is trying to be set on a copy of a slice from a DataFrame\n",
      "\n",
      "See the caveats in the documentation: http://pandas.pydata.org/pandas-docs/stable/indexing.html#indexing-view-versus-copy\n",
      "\n"
     ]
    }
   ],
   "source": [
    "# select a subset of variables from the dataset\n",
    "\n",
    "filtered_df = df[[ \"host_is_superhost\",\"host_listings_count\", \"neighbourhood_cleansed\", \"property_type\",\"room_type\", \"accommodates\", \"bathrooms\", \"bedrooms\", \n",
    "               \"beds\", \"price\", \"number_of_reviews\", \"review_scores_rating\", \"cancellation_policy\", \n",
    "               \"reviews_per_month\"]]\n",
    "\n",
    "X, y = clean_data(filtered_df)"
   ]
  },
  {
   "cell_type": "markdown",
   "metadata": {},
   "source": [
    "### 4.1 train_test_split"
   ]
  },
  {
   "cell_type": "markdown",
   "metadata": {},
   "source": [
    "sklearn's train_test_split is used split X, y into random train and test subsets"
   ]
  },
  {
   "cell_type": "code",
   "execution_count": 157,
   "metadata": {},
   "outputs": [],
   "source": [
    "X_train, X_test, y_train, y_test = train_test_split(X, y, test_size = .30, random_state=42) "
   ]
  },
  {
   "cell_type": "markdown",
   "metadata": {},
   "source": [
    "### 4.2 Instantiate the Linear Regression Model"
   ]
  },
  {
   "cell_type": "markdown",
   "metadata": {},
   "source": [
    "The next cell instatiates the linear regression model as lm_model and then fits it using the training data"
   ]
  },
  {
   "cell_type": "code",
   "execution_count": 151,
   "metadata": {
    "scrolled": true
   },
   "outputs": [
    {
     "data": {
      "text/plain": [
       "LinearRegression(copy_X=True, fit_intercept=True, n_jobs=None, normalize=True)"
      ]
     },
     "execution_count": 151,
     "metadata": {},
     "output_type": "execute_result"
    }
   ],
   "source": [
    "lm_model = LinearRegression(normalize=True) # Instantiate\n",
    "lm_model.fit(X_train, y_train) #Fit"
   ]
  },
  {
   "cell_type": "markdown",
   "metadata": {},
   "source": [
    "## 5. Results and Evaluation"
   ]
  },
  {
   "cell_type": "markdown",
   "metadata": {},
   "source": [
    "### 5.1 R2 Score and RMSE"
   ]
  },
  {
   "cell_type": "markdown",
   "metadata": {},
   "source": [
    "The r-squared score and root-mean-square error (RMSE) were used to score the model. \n",
    "\n",
    "The r-squared score measures for relative goodness-of-fit. \n",
    "\n",
    "RMSE is an absolute measure of fit. It's useful since it is measured in the same units as the dependent variable. It is a simple loss function that we seek to minimize (without overfitting)."
   ]
  },
  {
   "cell_type": "code",
   "execution_count": 152,
   "metadata": {
    "scrolled": true
   },
   "outputs": [
    {
     "name": "stdout",
     "output_type": "stream",
     "text": [
      "The r-squared score for your model on the training data was 0.5926903081943571 on 2672 values. The RMSE was 3242.596553930906\n",
      "The r-squared score for your model on the test data was 0.5975240944346538 on 1146 values.  The RMSE was 3446.6221734160763\n"
     ]
    }
   ],
   "source": [
    "#Predict and score the model\n",
    "y_train_preds = lm_model.predict(X_train)\n",
    "print(\"The r-squared score for your model on the training data was {} on {} values. The RMSE was {}\".format(r2_score(y_train, y_train_preds), len(y_train), mean_squared_error(y_train, y_train_preds)))\n",
    "y_test_preds = lm_model.predict(X_test) \n",
    "print(\"The r-squared score for your model on the test data was {} on {} values.  The RMSE was {}\".format(r2_score(y_test, y_test_preds), len(y_test), mean_squared_error(y_test, y_test_preds)))\n"
   ]
  },
  {
   "cell_type": "markdown",
   "metadata": {},
   "source": [
    "The model ended up doing ever so slightly better on the test data than the training data in terms of the r-squared score. This could be due to outliers being more represented in the training data set. \n",
    "\n",
    "Other options for future analysis to avoid overfitting or underfitting could be explored such as [cross-validation](https://machinelearningmastery.com/k-fold-cross-validation/)."
   ]
  },
  {
   "cell_type": "markdown",
   "metadata": {},
   "source": [
    "### 5.2 Scatter plot visualizing linear model with Predicted vs Actual values"
   ]
  },
  {
   "cell_type": "code",
   "execution_count": 143,
   "metadata": {},
   "outputs": [
    {
     "data": {
      "text/plain": [
       "[<matplotlib.lines.Line2D at 0x1a25c75b38>]"
      ]
     },
     "execution_count": 143,
     "metadata": {},
     "output_type": "execute_result"
    },
    {
     "data": {
      "image/png": "[encoded data removed]",
      "text/plain": [
       "<Figure size 432x288 with 1 Axes>"
      ]
     },
     "metadata": {
      "needs_background": "light"
     },
     "output_type": "display_data"
    }
   ],
   "source": [
    "plt.scatter(y_test, y_test_preds)\n",
    "plt.xlabel('Actual values')\n",
    "plt.ylabel('Predicted values')\n",
    "plt.plot(np.unique(y_test), np.poly1d(np.polyfit(y_test, y_test_preds, 1))(np.unique(y_test)))"
   ]
  },
  {
   "cell_type": "markdown",
   "metadata": {},
   "source": [
    "### 5.3 Residual Plot of Training data vs Test data"
   ]
  },
  {
   "cell_type": "code",
   "execution_count": 142,
   "metadata": {},
   "outputs": [
    {
     "data": {
      "image/png": "[encoded data removed]",
      "text/plain": [
       "<Figure size 432x288 with 1 Axes>"
      ]
     },
     "metadata": {
      "needs_background": "light"
     },
     "output_type": "display_data"
    }
   ],
   "source": [
    "plt.scatter(y_train_preds,  y_train_preds - y_train,\n",
    "            c='blue', marker='o', label='Training data')\n",
    "plt.scatter(y_test_preds,  y_test_preds - y_test,\n",
    "            c='lightgreen', marker='s', label='Test data')\n",
    "plt.xlabel('Predicted values')\n",
    "plt.ylabel('Residuals')\n",
    "plt.legend(loc='upper left')\n",
    "plt.show()"
   ]
  },
  {
   "cell_type": "markdown",
   "metadata": {},
   "source": [
    "## Conclusion"
   ]
  },
  {
   "cell_type": "code",
   "execution_count": null,
   "metadata": {},
   "outputs": [],
   "source": []
  }
 ],
 "metadata": {
  "kernelspec": {
   "display_name": "Python 3",
   "language": "python",
   "name": "python3"
  },
  "language_info": {
   "codemirror_mode": {
    "name": "ipython",
    "version": 3
   },
   "file_extension": ".py",
   "mimetype": "text/x-python",
   "name": "python",
   "nbconvert_exporter": "python",
   "pygments_lexer": "ipython3",
   "version": "3.6.5"
  }
 },
 "nbformat": 4,
 "nbformat_minor": 2
}
